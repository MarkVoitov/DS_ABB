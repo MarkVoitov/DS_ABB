{
 "cells": [
  {
   "cell_type": "code",
   "execution_count": 71,
   "metadata": {},
   "outputs": [],
   "source": [
    "import numpy as np\n",
    "\n",
    "N = 100\n",
    "D = 2\n",
    "\n",
    "X = np.random.randn(N,D)\n",
    "ones = np.ones((N, 1))"
   ]
  },
  {
   "cell_type": "markdown",
   "metadata": {},
   "source": [
    "# ================= часть 1 =========="
   ]
  },
  {
   "cell_type": "markdown",
   "metadata": {},
   "source": [
    "# конкатенируйте в одной переменной X и ones "
   ]
  },
  {
   "cell_type": "code",
   "execution_count": 72,
   "metadata": {},
   "outputs": [
    {
     "data": {
      "text/plain": [
       "array([[ 1.        , -1.07774478, -0.71530371],\n",
       "       [ 1.        ,  0.67959775, -0.73036663],\n",
       "       [ 1.        ,  0.21645859,  0.04557184],\n",
       "       [ 1.        , -0.65160035,  2.14394409],\n",
       "       [ 1.        ,  0.63391902, -2.02514259],\n",
       "       [ 1.        ,  0.18645431, -0.66178646],\n",
       "       [ 1.        ,  0.85243333, -0.79252074],\n",
       "       [ 1.        , -0.11473644,  0.50498728],\n",
       "       [ 1.        ,  0.86575519, -1.20029641],\n",
       "       [ 1.        , -0.33450124, -0.47494531],\n",
       "       [ 1.        , -0.65332923,  1.76545424],\n",
       "       [ 1.        ,  0.40498171, -1.26088395],\n",
       "       [ 1.        ,  0.91786195,  2.1221562 ],\n",
       "       [ 1.        ,  1.03246526, -1.51936997],\n",
       "       [ 1.        , -0.48423407,  1.26691115],\n",
       "       [ 1.        , -0.70766947,  0.44381943],\n",
       "       [ 1.        ,  0.77463405, -0.92693047],\n",
       "       [ 1.        , -0.05952536, -3.24126734],\n",
       "       [ 1.        , -1.02438764, -0.25256815],\n",
       "       [ 1.        , -1.24778318,  1.6324113 ],\n",
       "       [ 1.        , -1.43014138, -0.44004449],\n",
       "       [ 1.        ,  0.13074058,  1.44127329],\n",
       "       [ 1.        , -1.43586215,  1.16316375],\n",
       "       [ 1.        ,  0.01023306, -0.98150865],\n",
       "       [ 1.        ,  0.46210347,  0.1990597 ],\n",
       "       [ 1.        , -0.60021688,  0.06980208],\n",
       "       [ 1.        , -0.3853136 ,  0.11351735],\n",
       "       [ 1.        ,  0.66213067,  1.58601682],\n",
       "       [ 1.        , -1.2378155 ,  2.13303337],\n",
       "       [ 1.        , -1.9520878 , -0.1517851 ],\n",
       "       [ 1.        ,  0.58831721,  0.28099187],\n",
       "       [ 1.        , -0.62269952, -0.20812225],\n",
       "       [ 1.        , -0.49300093, -0.58936476],\n",
       "       [ 1.        ,  0.8496021 ,  0.35701549],\n",
       "       [ 1.        , -0.6929096 ,  0.89959988],\n",
       "       [ 1.        ,  0.30729952,  0.81286212],\n",
       "       [ 1.        ,  0.62962884, -0.82899501],\n",
       "       [ 1.        , -0.56018104,  0.74729361],\n",
       "       [ 1.        ,  0.61037027, -0.02090159],\n",
       "       [ 1.        ,  0.11732738,  1.2776649 ],\n",
       "       [ 1.        , -0.59157139,  0.54709738],\n",
       "       [ 1.        , -0.20219265, -0.2176812 ],\n",
       "       [ 1.        ,  1.09877685,  0.82541635],\n",
       "       [ 1.        ,  0.81350964,  1.30547881],\n",
       "       [ 1.        ,  0.02100384,  0.68195297],\n",
       "       [ 1.        , -0.31026676,  0.32416635],\n",
       "       [ 1.        , -0.13014305,  0.09699596],\n",
       "       [ 1.        ,  0.59515703, -0.81822068],\n",
       "       [ 1.        ,  2.09238728, -1.00601738],\n",
       "       [ 1.        , -1.21418861,  1.15811087],\n",
       "       [ 1.        ,  0.79166269,  0.62411982],\n",
       "       [ 1.        ,  0.62834551, -0.01224677],\n",
       "       [ 1.        , -0.89725437,  0.07580456],\n",
       "       [ 1.        , -0.67716171,  0.97511973],\n",
       "       [ 1.        , -0.14705738, -0.8254972 ],\n",
       "       [ 1.        , -0.32138584,  0.41293145],\n",
       "       [ 1.        , -0.56372455, -0.8222204 ],\n",
       "       [ 1.        ,  0.24368721,  0.24496657],\n",
       "       [ 1.        , -0.50694318, -0.47103831],\n",
       "       [ 1.        ,  0.23204994, -1.44808434],\n",
       "       [ 1.        , -1.40746377, -0.71844422],\n",
       "       [ 1.        , -0.21344715,  0.31090757],\n",
       "       [ 1.        ,  1.47535622,  0.85765962],\n",
       "       [ 1.        , -0.15993853, -0.01901621],\n",
       "       [ 1.        , -1.00252936, -0.01851314],\n",
       "       [ 1.        , -0.28865864,  0.32271856],\n",
       "       [ 1.        , -0.82723094,  0.51934651],\n",
       "       [ 1.        ,  1.53273891, -0.10876015],\n",
       "       [ 1.        ,  0.40171172,  0.69014399],\n",
       "       [ 1.        , -0.40122047,  0.22409248],\n",
       "       [ 1.        ,  0.0125924 ,  0.0976761 ],\n",
       "       [ 1.        , -0.77300978,  0.02451017],\n",
       "       [ 1.        ,  0.49799829,  1.45114361],\n",
       "       [ 1.        ,  0.95927083,  2.15318246],\n",
       "       [ 1.        , -0.76734756,  0.87232064],\n",
       "       [ 1.        ,  0.18334201,  2.18980293],\n",
       "       [ 1.        , -0.80829829, -0.83972184],\n",
       "       [ 1.        , -0.59939265, -2.12389572],\n",
       "       [ 1.        , -0.52575502, -0.75913266],\n",
       "       [ 1.        ,  0.15039379,  0.34175598],\n",
       "       [ 1.        ,  1.87617084,  0.95042384],\n",
       "       [ 1.        , -0.57690366, -0.89841467],\n",
       "       [ 1.        ,  0.49191917, -1.32023321],\n",
       "       [ 1.        ,  1.83145877,  1.17944012],\n",
       "       [ 1.        , -0.46917565, -1.71313453],\n",
       "       [ 1.        ,  1.35387237, -0.11453985],\n",
       "       [ 1.        ,  1.23781631, -1.59442766],\n",
       "       [ 1.        , -0.59937502,  0.0052437 ],\n",
       "       [ 1.        ,  0.04698059, -0.45006547],\n",
       "       [ 1.        ,  0.62284993, -1.06762043],\n",
       "       [ 1.        , -0.14237949,  0.12029563],\n",
       "       [ 1.        ,  0.51443883,  0.71161488],\n",
       "       [ 1.        , -1.12464209, -1.53411417],\n",
       "       [ 1.        ,  1.27767682,  0.33231401],\n",
       "       [ 1.        , -0.74848654,  1.55115198],\n",
       "       [ 1.        ,  0.11567463,  1.17929718],\n",
       "       [ 1.        ,  0.06751848,  2.06074792],\n",
       "       [ 1.        ,  1.75534084, -0.24896415],\n",
       "       [ 1.        ,  0.97157095,  0.64537595],\n",
       "       [ 1.        ,  1.36863156, -0.96492346]])"
      ]
     },
     "execution_count": 72,
     "metadata": {},
     "output_type": "execute_result"
    }
   ],
   "source": [
    "Xb = np.concatenate((ones, X), axis=1)\n",
    "Xb"
   ]
  },
  {
   "cell_type": "markdown",
   "metadata": {},
   "source": [
    "# создайте случайный вектор весов w нужной размерности"
   ]
  },
  {
   "cell_type": "code",
   "execution_count": 73,
   "metadata": {},
   "outputs": [
    {
     "data": {
      "text/plain": [
       "array([ 0.68605146,  1.05842449, -1.75873949])"
      ]
     },
     "execution_count": 73,
     "metadata": {},
     "output_type": "execute_result"
    }
   ],
   "source": [
    "w = np.random.randn(D + 1)\n",
    "w"
   ]
  },
  {
   "cell_type": "markdown",
   "metadata": {},
   "source": [
    "# вычислите $z = w^Tx$"
   ]
  },
  {
   "cell_type": "code",
   "execution_count": 74,
   "metadata": {},
   "outputs": [
    {
     "data": {
      "text/plain": [
       "array([ 0.80337287,  2.68987899,  0.83500754, -3.77425743,  4.91870511,\n",
       "        2.04730926,  2.98212529, -0.32352947,  3.71339664,  1.16731223,\n",
       "       -3.11042228,  3.33226042, -2.07478088,  4.45101393, -2.0546404 ,\n",
       "       -0.84352598,  3.13617233,  6.32359322,  0.04601608, -3.50561903,\n",
       "       -0.05372158, -1.71039376, -2.87940222,  2.4231004 ,  0.82505895,\n",
       "       -0.07199646,  0.07857868, -1.40252362, -4.3755328 , -1.11313563,\n",
       "        0.8145493 ,  0.39300386,  1.20078627,  0.95739389, -1.62950285,\n",
       "       -0.41830791,  2.8104523 , -1.22115264,  1.36884275, -1.43684607,\n",
       "       -0.90228395,  0.85489033,  0.39733146, -0.74890715, -0.49109518,\n",
       "       -0.21246664,  0.37771423,  2.75501725,  4.67000788, -2.63589082,\n",
       "        0.42630247,  1.37264662, -0.39694501, -1.74565466,  1.98223684,\n",
       "       -0.38035004,  1.53546307,  0.51314359,  0.97792406,  3.47846191,\n",
       "        0.45991356, -0.08667164,  0.73920476,  0.55021316, -0.34249039,\n",
       "       -0.18704979, -1.10290525,  2.49962063, -0.10255051, -0.13273041,\n",
       "        0.52759275, -0.17522804, -1.33903852, -2.08551982, -1.66031274,\n",
       "       -2.97118776,  1.30738072,  3.78701888,  1.46469606,  0.2441722 ,\n",
       "        1.00028868,  1.65551986,  3.52865703,  0.55018435,  3.2024218 ,\n",
       "        2.32046888,  4.80036944,  0.04243596,  1.52732479,  3.22295729,\n",
       "        0.32378485, -0.02099907,  2.1938099 ,  1.45392212, -2.83423725,\n",
       "       -1.2655922 , -2.86680407,  2.98181027,  0.57933778,  3.83169361])"
      ]
     },
     "execution_count": 74,
     "metadata": {},
     "output_type": "execute_result"
    }
   ],
   "source": [
    "z = Xb.dot(w)\n",
    "z"
   ]
  },
  {
   "cell_type": "markdown",
   "metadata": {},
   "source": [
    "# вычислите $\\sigma(z)$ (предварительно реализуйте функцию sigmoid)"
   ]
  },
  {
   "cell_type": "code",
   "execution_count": 75,
   "metadata": {},
   "outputs": [],
   "source": [
    "def sigmoid(z):\n",
    "    return 1/(1 + np.exp(-z))"
   ]
  },
  {
   "cell_type": "code",
   "execution_count": 76,
   "metadata": {},
   "outputs": [
    {
     "data": {
      "text/plain": [
       "array([0.69069551, 0.93642678, 0.6974127 , 0.02243906, 0.99274444,\n",
       "       0.88567545, 0.95176004, 0.41981583, 0.9761864 , 0.76265885,\n",
       "       0.04267939, 0.9655191 , 0.11157226, 0.98846781, 0.11358433,\n",
       "       0.30079269, 0.9583604 , 0.99820972, 0.51150199, 0.02915277,\n",
       "       0.48657283, 0.15311265, 0.05318123, 0.91857195, 0.69530916,\n",
       "       0.48200865, 0.51963457, 0.19741596, 0.01242511, 0.24728677,\n",
       "       0.69307809, 0.59700561, 0.76866463, 0.72259972, 0.16389848,\n",
       "       0.39692172, 0.94323804, 0.22773367, 0.79719312, 0.19203423,\n",
       "       0.28858137, 0.70159199, 0.59804635, 0.32105947, 0.37963561,\n",
       "       0.44708226, 0.59332169, 0.94019608, 0.99071483, 0.06686396,\n",
       "       0.60499039, 0.79780742, 0.40204656, 0.14859611, 0.87891941,\n",
       "       0.40604247, 0.82280422, 0.62554312, 0.72669611, 0.97006869,\n",
       "       0.61299367, 0.47834564, 0.67682194, 0.63418504, 0.41520466,\n",
       "       0.45337342, 0.24919593, 0.92411522, 0.47438482, 0.46686603,\n",
       "       0.62892149, 0.45630474, 0.20766822, 0.11051221, 0.15972002,\n",
       "       0.04874462, 0.78707453, 0.97783917, 0.81224987, 0.56074156,\n",
       "       0.73111533, 0.83963568, 0.97149224, 0.63417836, 0.96092531,\n",
       "       0.91055813, 0.99184042, 0.5106074 , 0.82161456, 0.96168912,\n",
       "       0.58024637, 0.49475043, 0.89969226, 0.81060132, 0.05550186,\n",
       "       0.22001273, 0.05381917, 0.95174558, 0.64091502, 0.97878687])"
      ]
     },
     "execution_count": 76,
     "metadata": {},
     "output_type": "execute_result"
    }
   ],
   "source": [
    "sigmoid(z)"
   ]
  },
  {
   "cell_type": "markdown",
   "metadata": {},
   "source": [
    "# ================= часть 2 =========="
   ]
  },
  {
   "cell_type": "code",
   "execution_count": 77,
   "metadata": {},
   "outputs": [],
   "source": [
    "import numpy as np\n",
    "N = 100\n",
    "D = 2\n",
    "\n",
    "# генерация датасета\n",
    "\n",
    "np.random.seed(42)\n",
    "X = np.random.randn(N, D)\n",
    "ones = np.ones((N, 1))\n",
    "\n",
    "X[:50,:] = X[:50,:] - 2*np.ones((50,D))\n",
    "X[50:,:] = X[50:,:] + 2*np.ones((50,D))\n",
    "\n",
    "# метки из train set\n",
    "T = np.array([0]*50 + [1]*50)\n",
    "\n",
    "# данные из части 1\n",
    "ones = np.ones((N, 1))\n",
    "\n",
    "Xb = np.concatenate((ones, X), axis=1)\n",
    "w = np.random.randn(D + 1)\n",
    "z = Xb.dot(w)\n",
    "\n",
    "def sigmoid(z):\n",
    "    return 1/(1 + np.exp(-z))\n",
    "\n",
    "Y = sigmoid(z)"
   ]
  },
  {
   "cell_type": "markdown",
   "metadata": {},
   "source": [
    "# реализуйте функцию: def cross_entropy(T, Y):"
   ]
  },
  {
   "cell_type": "code",
   "execution_count": 78,
   "metadata": {},
   "outputs": [],
   "source": [
    "from math import log2\n",
    "\n",
    "def cross_entropy(T, Y):\n",
    "    return -sum([T[i]*log2(Y[i]) + (1 - T[i])*log2(1 - Y[i]) for i in range(len(T))])"
   ]
  },
  {
   "cell_type": "code",
   "execution_count": 79,
   "metadata": {},
   "outputs": [
    {
     "data": {
      "text/plain": [
       "8.69968489995307"
      ]
     },
     "execution_count": 79,
     "metadata": {},
     "output_type": "execute_result"
    }
   ],
   "source": [
    "cross_entropy(T,Y)"
   ]
  },
  {
   "cell_type": "markdown",
   "metadata": {},
   "source": [
    "## задайте веса с помощью точного решения [0,-4,-4]"
   ]
  },
  {
   "cell_type": "code",
   "execution_count": 80,
   "metadata": {},
   "outputs": [],
   "source": [
    "w = [0, 4, 4]"
   ]
  },
  {
   "cell_type": "markdown",
   "metadata": {},
   "source": [
    "# вычислите z и Y"
   ]
  },
  {
   "cell_type": "code",
   "execution_count": 81,
   "metadata": {},
   "outputs": [
    {
     "data": {
      "text/plain": [
       "array([-14.56620059,  -7.31712642, -17.87316133,  -6.61340982,\n",
       "       -15.70765737, -19.71658979, -22.68527189, -25.14882145,\n",
       "       -18.79433515, -25.28131111, -11.04051013, -21.42887993,\n",
       "       -17.73384054, -19.10118224, -19.56932976, -10.99771371,\n",
       "       -20.28483261, -17.59319495, -23.00322612, -20.52529925,\n",
       "       -12.36066056, -17.66700791, -24.7934648 , -13.61406618,\n",
       "       -21.67768746, -16.24399324, -16.26098285,  -8.15088143,\n",
       "       -20.5937196 , -10.77276577, -18.65933286, -25.21016639,\n",
       "        -7.3249366 , -12.27390889, -17.13393492,  -8.40227131,\n",
       "        -9.88472953, -23.1913704 , -16.84784113, -23.58323255,\n",
       "       -15.45023727, -12.16150469, -21.24100259, -11.02338709,\n",
       "       -16.06597108, -11.73710984, -20.11886096, -23.42249241,\n",
       "       -13.7712978 , -16.91789471,   8.65593574,  11.42003286,\n",
       "        16.97106058,  24.24305486,  16.7324179 ,   8.21885964,\n",
       "        26.09388929,  16.43674551,  11.18644077,  23.57902339,\n",
       "        15.52657797,  16.00377299,  27.10925088,   9.77266378,\n",
       "        14.38470284,  10.07159817,  13.64515487,  18.52204068,\n",
       "        11.57874077,  14.3306116 ,  22.13841076,  10.3086025 ,\n",
       "        20.16682266,   5.7703707 ,  19.27570496,  18.38776424,\n",
       "        14.2089159 ,  14.31488422,  25.35842973,  13.86100045,\n",
       "        15.24961173,  17.35165304,  21.50462822,  26.87541257,\n",
       "        12.00350288,   9.17870114,  17.05620106,  20.41549619,\n",
       "        21.86614388,  25.82204933,  15.07403917,  13.64631967,\n",
       "        17.96215084,  17.60163485,   6.55343623,  17.63953537,\n",
       "        11.87341986,  18.23399322,  13.07947068,  11.66095368])"
      ]
     },
     "execution_count": 81,
     "metadata": {},
     "output_type": "execute_result"
    }
   ],
   "source": [
    "z = Xb.dot(w)\n",
    "z"
   ]
  },
  {
   "cell_type": "code",
   "execution_count": 82,
   "metadata": {},
   "outputs": [
    {
     "data": {
      "text/plain": [
       "array([4.72040493e-07, 6.63627029e-04, 1.72895884e-08, 1.34044830e-03,\n",
       "       1.50747811e-07, 2.73648992e-09, 1.40576134e-10, 1.19675602e-11,\n",
       "       6.88214708e-09, 1.04825294e-11, 1.60383767e-05, 4.93805240e-10,\n",
       "       1.98742570e-08, 5.06362989e-09, 3.17064829e-09, 1.67396492e-05,\n",
       "       1.55027637e-09, 2.28756005e-08, 1.02288270e-10, 1.21892166e-09,\n",
       "       4.28382250e-06, 2.12478965e-08, 1.70739912e-11, 1.22316671e-06,\n",
       "       3.85034774e-10, 8.81705057e-08, 8.66851774e-08, 2.88397773e-04,\n",
       "       1.13831175e-09, 2.09622632e-05, 7.87688854e-09, 1.12554755e-11,\n",
       "       6.58467574e-04, 4.67204553e-06, 3.62098392e-08, 2.24306835e-04,\n",
       "       5.09441574e-05, 8.47453364e-11, 4.82031639e-08, 5.72706665e-11,\n",
       "       1.95005620e-07, 5.22785278e-06, 5.95867621e-10, 1.63153626e-05,\n",
       "       1.05350686e-07, 7.99161387e-06, 1.83016271e-09, 6.72575117e-11,\n",
       "       1.04520361e-06, 4.49419243e-08, 9.99825940e-01, 9.99989027e-01,\n",
       "       9.99999957e-01, 1.00000000e+00, 9.99999946e-01, 9.99730550e-01,\n",
       "       1.00000000e+00, 9.99999927e-01, 9.99986139e-01, 1.00000000e+00,\n",
       "       9.99999819e-01, 9.99999888e-01, 1.00000000e+00, 9.99943015e-01,\n",
       "       9.99999434e-01, 9.99957739e-01, 9.99998814e-01, 9.99999991e-01,\n",
       "       9.99990637e-01, 9.99999403e-01, 1.00000000e+00, 9.99966656e-01,\n",
       "       9.99999998e-01, 9.96891094e-01, 9.99999996e-01, 9.99999990e-01,\n",
       "       9.99999325e-01, 9.99999393e-01, 1.00000000e+00, 9.99999044e-01,\n",
       "       9.99999762e-01, 9.99999971e-01, 1.00000000e+00, 1.00000000e+00,\n",
       "       9.99993877e-01, 9.99896796e-01, 9.99999961e-01, 9.99999999e-01,\n",
       "       1.00000000e+00, 1.00000000e+00, 9.99999716e-01, 9.99998816e-01,\n",
       "       9.99999984e-01, 9.99999977e-01, 9.98576819e-01, 9.99999978e-01,\n",
       "       9.99993027e-01, 9.99999988e-01, 9.99997912e-01, 9.99991376e-01])"
      ]
     },
     "execution_count": 82,
     "metadata": {},
     "output_type": "execute_result"
    }
   ],
   "source": [
    "Y = sigmoid(z)\n",
    "Y"
   ]
  },
  {
   "cell_type": "markdown",
   "metadata": {},
   "source": [
    "# вычислите cross_entropy(T, Y)"
   ]
  },
  {
   "cell_type": "code",
   "execution_count": 83,
   "metadata": {},
   "outputs": [
    {
     "data": {
      "text/plain": [
       "0.012415363504279027"
      ]
     },
     "execution_count": 83,
     "metadata": {},
     "output_type": "execute_result"
    }
   ],
   "source": [
    "cross_entropy(T, Y)"
   ]
  },
  {
   "cell_type": "markdown",
   "metadata": {},
   "source": [
    "# ================ часть 3 =============="
   ]
  },
  {
   "cell_type": "code",
   "execution_count": 84,
   "metadata": {},
   "outputs": [
    {
     "data": {
      "text/plain": [
       "<matplotlib.collections.PathCollection at 0x239ae80c748>"
      ]
     },
     "execution_count": 84,
     "metadata": {},
     "output_type": "execute_result"
    },
    {
     "data": {
      "image/png": "[encoded data removed]",
      "text/plain": [
       "<Figure size 432x288 with 1 Axes>"
      ]
     },
     "metadata": {
      "needs_background": "light"
     },
     "output_type": "display_data"
    }
   ],
   "source": [
    "from matplotlib import pyplot as plt\n",
    "\n",
    "plt.scatter(X[:, 0], X[:, 1], c=T)"
   ]
  },
  {
   "cell_type": "code",
   "execution_count": 85,
   "metadata": {},
   "outputs": [
    {
     "data": {
      "text/plain": [
       "array([4.72040493e-07, 6.63627029e-04, 1.72895884e-08, 1.34044830e-03,\n",
       "       1.50747811e-07, 2.73648992e-09, 1.40576134e-10, 1.19675602e-11,\n",
       "       6.88214708e-09, 1.04825294e-11, 1.60383767e-05, 4.93805240e-10,\n",
       "       1.98742570e-08, 5.06362989e-09, 3.17064829e-09, 1.67396492e-05,\n",
       "       1.55027637e-09, 2.28756005e-08, 1.02288270e-10, 1.21892166e-09,\n",
       "       4.28382250e-06, 2.12478965e-08, 1.70739912e-11, 1.22316671e-06,\n",
       "       3.85034774e-10, 8.81705057e-08, 8.66851774e-08, 2.88397773e-04,\n",
       "       1.13831175e-09, 2.09622632e-05, 7.87688854e-09, 1.12554755e-11,\n",
       "       6.58467574e-04, 4.67204553e-06, 3.62098392e-08, 2.24306835e-04,\n",
       "       5.09441574e-05, 8.47453364e-11, 4.82031639e-08, 5.72706665e-11,\n",
       "       1.95005620e-07, 5.22785278e-06, 5.95867621e-10, 1.63153626e-05,\n",
       "       1.05350686e-07, 7.99161387e-06, 1.83016271e-09, 6.72575117e-11,\n",
       "       1.04520361e-06, 4.49419243e-08, 9.99825940e-01, 9.99989027e-01,\n",
       "       9.99999957e-01, 1.00000000e+00, 9.99999946e-01, 9.99730550e-01,\n",
       "       1.00000000e+00, 9.99999927e-01, 9.99986139e-01, 1.00000000e+00,\n",
       "       9.99999819e-01, 9.99999888e-01, 1.00000000e+00, 9.99943015e-01,\n",
       "       9.99999434e-01, 9.99957739e-01, 9.99998814e-01, 9.99999991e-01,\n",
       "       9.99990637e-01, 9.99999403e-01, 1.00000000e+00, 9.99966656e-01,\n",
       "       9.99999998e-01, 9.96891094e-01, 9.99999996e-01, 9.99999990e-01,\n",
       "       9.99999325e-01, 9.99999393e-01, 1.00000000e+00, 9.99999044e-01,\n",
       "       9.99999762e-01, 9.99999971e-01, 1.00000000e+00, 1.00000000e+00,\n",
       "       9.99993877e-01, 9.99896796e-01, 9.99999961e-01, 9.99999999e-01,\n",
       "       1.00000000e+00, 1.00000000e+00, 9.99999716e-01, 9.99998816e-01,\n",
       "       9.99999984e-01, 9.99999977e-01, 9.98576819e-01, 9.99999978e-01,\n",
       "       9.99993027e-01, 9.99999988e-01, 9.99997912e-01, 9.99991376e-01])"
      ]
     },
     "execution_count": 85,
     "metadata": {},
     "output_type": "execute_result"
    }
   ],
   "source": [
    "Y = sigmoid(z)\n",
    "Y"
   ]
  },
  {
   "cell_type": "markdown",
   "metadata": {},
   "source": [
    "# выполните 100 итераций градиентного спуска\n",
    "### $J = crossentr + \\frac{1}{2} \\alpha w^Tw$"
   ]
  },
  {
   "cell_type": "code",
   "execution_count": 86,
   "metadata": {},
   "outputs": [],
   "source": [
    "def cross_entropy(T, Y):\n",
    "    E = 0\n",
    "    for i in range(len(T)):\n",
    "        if T[i] == 1:\n",
    "            E -= np.log(Y[i])\n",
    "        else:\n",
    "            E -= np.log(1 - Y[i])\n",
    "    return E"
   ]
  },
  {
   "cell_type": "code",
   "execution_count": 87,
   "metadata": {
    "scrolled": true
   },
   "outputs": [
    {
     "name": "stdout",
     "output_type": "stream",
     "text": [
      "479.32386580080595\n",
      "6.495914917083561e-13\n",
      "6.495914917083561e-13\n",
      "6.495914917083561e-13\n",
      "6.495914917083561e-13\n",
      "6.495914917083561e-13\n",
      "6.495914917083561e-13\n",
      "6.495914917083561e-13\n",
      "6.495914917083561e-13\n",
      "6.495914917083561e-13\n"
     ]
    }
   ],
   "source": [
    "learning_rate = 0.1\n",
    "alpha = 1\n",
    "w = np.random.randn(D + 1)\n",
    "for i in range(100):\n",
    "            \n",
    "    w += learning_rate *(np.dot((T-Y).T, Xb)) \n",
    "        \n",
    "    z = Xb.dot(w)\n",
    "    Y = sigmoid(z)\n",
    "    if (i % 10 == 0):\n",
    "        print(cross_entropy(T, Y))"
   ]
  },
  {
   "cell_type": "markdown",
   "metadata": {},
   "source": [
    "# выведите новые веса w\n",
    "# нарисуйте датасет с границей (классификтором)"
   ]
  },
  {
   "cell_type": "code",
   "execution_count": 88,
   "metadata": {},
   "outputs": [
    {
     "data": {
      "text/plain": [
       "array([ 0.77770723, 18.43100684, 19.58805496])"
      ]
     },
     "execution_count": 88,
     "metadata": {},
     "output_type": "execute_result"
    }
   ],
   "source": [
    "w"
   ]
  },
  {
   "cell_type": "code",
   "execution_count": 89,
   "metadata": {},
   "outputs": [
    {
     "data": {
      "text/plain": [
       "[<matplotlib.lines.Line2D at 0x239ae6bcf88>]"
      ]
     },
     "execution_count": 89,
     "metadata": {},
     "output_type": "execute_result"
    },
    {
     "data": {
      "image/png": "[encoded data removed]",
      "text/plain": [
       "<Figure size 432x288 with 1 Axes>"
      ]
     },
     "metadata": {
      "needs_background": "light"
     },
     "output_type": "display_data"
    }
   ],
   "source": [
    "plt.scatter(X[:, 0], X[:, 1], c=T)\n",
    "x_axis = np.linspace(-6, 6, 100)\n",
    "y_axis = -(w[0] + x_axis*w[1]) / w[2]\n",
    "plt.plot(x_axis, y_axis)"
   ]
  },
  {
   "cell_type": "markdown",
   "metadata": {},
   "source": [
    "# =========== часть 4 =============\n",
    "# добавьте регуляризацию $L_2$"
   ]
  },
  {
   "cell_type": "code",
   "execution_count": 90,
   "metadata": {},
   "outputs": [
    {
     "name": "stdout",
     "output_type": "stream",
     "text": [
      "14.536140857113464\n",
      "0.043564757652540156\n",
      "0.02319992898101612\n",
      "0.01207945367869588\n",
      "0.006047013216843658\n",
      "0.0028765417951582164\n",
      "0.0012880060457379943\n",
      "0.0005382146994570885\n",
      "0.0002081240002413879\n",
      "7.382833965547718e-05\n"
     ]
    }
   ],
   "source": [
    "learning_rate = 0.1\n",
    "alpha = 1\n",
    "w = np.random.randn(D + 1)\n",
    "for i in range(100):\n",
    "            \n",
    "    w += learning_rate *(np.dot((T-Y).T, Xb) + (0.1*w)) \n",
    "        \n",
    "    z = Xb.dot(w)\n",
    "    Y = sigmoid(z)\n",
    "    if (i % 10 == 0):\n",
    "        print(cross_entropy(T, Y))"
   ]
  },
  {
   "cell_type": "markdown",
   "metadata": {},
   "source": [
    "# выведите новые веса w\n",
    "# нарисуйте датасет с границей (классификтором)"
   ]
  },
  {
   "cell_type": "code",
   "execution_count": 91,
   "metadata": {},
   "outputs": [
    {
     "data": {
      "text/plain": [
       "array([0.12065974, 7.67055724, 7.45487453])"
      ]
     },
     "execution_count": 91,
     "metadata": {},
     "output_type": "execute_result"
    }
   ],
   "source": [
    "w"
   ]
  },
  {
   "cell_type": "code",
   "execution_count": 92,
   "metadata": {},
   "outputs": [
    {
     "data": {
      "text/plain": [
       "[<matplotlib.lines.Line2D at 0x239ae8e1a08>]"
      ]
     },
     "execution_count": 92,
     "metadata": {},
     "output_type": "execute_result"
    },
    {
     "data": {
      "image/png": "[encoded data removed]",
      "text/plain": [
       "<Figure size 432x288 with 1 Axes>"
      ]
     },
     "metadata": {
      "needs_background": "light"
     },
     "output_type": "display_data"
    }
   ],
   "source": [
    "plt.scatter(X[:, 0], X[:, 1], c=T)\n",
    "x_axis = np.linspace(-6, 6, 100)\n",
    "y_axis = -(w[0] + x_axis*w[1]) / w[2]\n",
    "plt.plot(x_axis, y_axis)"
   ]
  },
  {
   "cell_type": "code",
   "execution_count": null,
   "metadata": {},
   "outputs": [],
   "source": []
  }
 ],
 "metadata": {
  "kernelspec": {
   "display_name": "Python 3",
   "language": "python",
   "name": "python3"
  },
  "language_info": {
   "codemirror_mode": {
    "name": "ipython",
    "version": 3
   },
   "file_extension": ".py",
   "mimetype": "text/x-python",
   "name": "python",
   "nbconvert_exporter": "python",
   "pygments_lexer": "ipython3",
   "version": "3.7.6"
  }
 },
 "nbformat": 4,
 "nbformat_minor": 2
}
