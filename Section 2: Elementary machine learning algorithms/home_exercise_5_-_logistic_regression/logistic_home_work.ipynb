{
 "cells": [
  {
   "cell_type": "code",
   "execution_count": 1,
   "metadata": {},
   "outputs": [],
   "source": [
    "import numpy as np\n",
    "\n",
    "N = 100\n",
    "D = 2\n",
    "\n",
    "X = np.random.randn(N,D)\n",
    "ones = np.ones((N, 1))"
   ]
  },
  {
   "cell_type": "markdown",
   "metadata": {},
   "source": [
    "# ================= часть 1 =========="
   ]
  },
  {
   "cell_type": "markdown",
   "metadata": {},
   "source": [
    "# конкатенируйте в одной переменной X и ones "
   ]
  },
  {
   "cell_type": "code",
   "execution_count": 2,
   "metadata": {},
   "outputs": [
    {
     "data": {
      "text/plain": [
       "array([[ 1.        ,  1.08045811, -0.59743748],\n",
       "       [ 1.        ,  1.2386484 , -0.30102529],\n",
       "       [ 1.        ,  0.32970979,  1.66227278],\n",
       "       [ 1.        ,  1.48772833,  0.32234509],\n",
       "       [ 1.        , -2.1409324 ,  0.68041255],\n",
       "       [ 1.        , -2.62377837,  0.19979561],\n",
       "       [ 1.        ,  1.48421644,  0.4827717 ],\n",
       "       [ 1.        ,  0.50110847,  0.6878662 ],\n",
       "       [ 1.        ,  0.40854576, -1.47148761],\n",
       "       [ 1.        ,  1.20142546, -0.7680179 ],\n",
       "       [ 1.        ,  1.85916784,  0.10530373],\n",
       "       [ 1.        ,  0.52598842,  0.57451973],\n",
       "       [ 1.        ,  0.09379408, -0.61797912],\n",
       "       [ 1.        ,  0.75643707,  0.16727867],\n",
       "       [ 1.        , -0.09823006,  1.77615364],\n",
       "       [ 1.        ,  0.1874513 ,  0.49289928],\n",
       "       [ 1.        ,  1.13435763,  0.52649481],\n",
       "       [ 1.        ,  0.95732163,  3.2517074 ],\n",
       "       [ 1.        ,  0.12313196, -0.54682301],\n",
       "       [ 1.        ,  1.27781996,  0.71926531],\n",
       "       [ 1.        ,  1.79156092,  0.09151477],\n",
       "       [ 1.        , -0.12234292,  1.49632293],\n",
       "       [ 1.        ,  0.03266246,  0.0933955 ],\n",
       "       [ 1.        ,  0.11621922,  1.74794659],\n",
       "       [ 1.        , -2.2215738 ,  1.87545643],\n",
       "       [ 1.        , -0.47966994, -0.20516958],\n",
       "       [ 1.        , -1.0839687 , -0.46440587],\n",
       "       [ 1.        ,  0.32926001, -1.27092478],\n",
       "       [ 1.        ,  0.77242197,  0.53855499],\n",
       "       [ 1.        ,  0.77329523,  0.71623545],\n",
       "       [ 1.        ,  1.90207123, -1.26008174],\n",
       "       [ 1.        , -0.74615333, -0.72986347],\n",
       "       [ 1.        , -0.76900303,  1.03016196],\n",
       "       [ 1.        ,  0.93344106, -1.02871855],\n",
       "       [ 1.        ,  0.09676736, -0.90953213],\n",
       "       [ 1.        ,  1.23582551,  1.47741812],\n",
       "       [ 1.        ,  0.36444083, -0.19286173],\n",
       "       [ 1.        , -0.82241981, -1.41178981],\n",
       "       [ 1.        , -1.43863639,  0.86101038],\n",
       "       [ 1.        , -0.54630886,  1.35062149],\n",
       "       [ 1.        ,  1.39226482, -0.71385141],\n",
       "       [ 1.        , -0.51547868, -1.23765308],\n",
       "       [ 1.        , -0.12486814, -2.43441038],\n",
       "       [ 1.        , -0.59040931, -0.28154517],\n",
       "       [ 1.        ,  0.82932943,  0.60687743],\n",
       "       [ 1.        ,  0.17698728, -0.08895548],\n",
       "       [ 1.        , -0.10876013,  0.54279971],\n",
       "       [ 1.        ,  1.27377289,  0.5948019 ],\n",
       "       [ 1.        , -0.93247069,  0.69712265],\n",
       "       [ 1.        ,  1.18451626,  0.3619048 ],\n",
       "       [ 1.        , -1.28712591, -0.28196459],\n",
       "       [ 1.        ,  1.39222919,  2.1519918 ],\n",
       "       [ 1.        , -1.61474066,  1.09168571],\n",
       "       [ 1.        , -0.21840379, -0.11515013],\n",
       "       [ 1.        , -0.96166216,  0.66711606],\n",
       "       [ 1.        , -0.14235232, -0.89971375],\n",
       "       [ 1.        ,  0.26096918, -2.43282901],\n",
       "       [ 1.        ,  1.16463297, -0.3777233 ],\n",
       "       [ 1.        , -1.34202838, -2.3929907 ],\n",
       "       [ 1.        ,  0.25879089, -0.61294182],\n",
       "       [ 1.        , -0.44532773,  0.05015562],\n",
       "       [ 1.        , -0.32140656,  1.16573684],\n",
       "       [ 1.        ,  1.37977591,  1.02231393],\n",
       "       [ 1.        , -2.28359317, -0.97955147],\n",
       "       [ 1.        ,  0.83046375, -0.24169163],\n",
       "       [ 1.        , -0.70290777,  0.11888462],\n",
       "       [ 1.        , -0.38577055, -0.80832442],\n",
       "       [ 1.        ,  0.88453366, -0.85146143],\n",
       "       [ 1.        , -0.47775322, -1.32299831],\n",
       "       [ 1.        , -0.31169659,  1.05838134],\n",
       "       [ 1.        , -1.70162697, -0.1420976 ],\n",
       "       [ 1.        , -1.26454611, -0.26915654],\n",
       "       [ 1.        , -0.77279609,  0.3836524 ],\n",
       "       [ 1.        , -0.44856   , -0.77267114],\n",
       "       [ 1.        ,  0.23306221,  0.87951233],\n",
       "       [ 1.        , -0.19763637,  0.96342622],\n",
       "       [ 1.        , -0.90519823,  0.76497535],\n",
       "       [ 1.        ,  1.70888806, -2.28363476],\n",
       "       [ 1.        , -0.13570707,  0.33391194],\n",
       "       [ 1.        ,  1.70485633, -0.33228565],\n",
       "       [ 1.        ,  1.50875629, -0.73188372],\n",
       "       [ 1.        ,  0.12912235,  1.91087667],\n",
       "       [ 1.        , -0.35158313, -0.7112373 ],\n",
       "       [ 1.        , -0.70531151,  0.71085494],\n",
       "       [ 1.        , -0.91547122,  0.66865154],\n",
       "       [ 1.        , -0.59192154, -0.78962705],\n",
       "       [ 1.        ,  1.27085859,  0.16727614],\n",
       "       [ 1.        , -1.08010501, -0.79529338],\n",
       "       [ 1.        ,  0.41660769,  0.7932848 ],\n",
       "       [ 1.        ,  0.77085393,  2.67841557],\n",
       "       [ 1.        , -0.11863859, -1.00655538],\n",
       "       [ 1.        ,  0.04504973, -0.68924386],\n",
       "       [ 1.        , -1.14898262, -0.36805398],\n",
       "       [ 1.        , -0.4202176 ,  0.26568702],\n",
       "       [ 1.        , -1.62462961, -0.58012541],\n",
       "       [ 1.        ,  1.9082559 ,  0.52558943],\n",
       "       [ 1.        ,  0.51246699,  1.58127404],\n",
       "       [ 1.        , -0.85209237, -1.52095131],\n",
       "       [ 1.        ,  2.75990073, -0.13838612],\n",
       "       [ 1.        , -1.64348543,  0.35357595]])"
      ]
     },
     "execution_count": 2,
     "metadata": {},
     "output_type": "execute_result"
    }
   ],
   "source": [
    "Xb = np.concatenate((ones, X), axis=1)\n",
    "Xb"
   ]
  },
  {
   "cell_type": "markdown",
   "metadata": {},
   "source": [
    "# создайте случайный вектор весов w нужной размерности"
   ]
  },
  {
   "cell_type": "code",
   "execution_count": 3,
   "metadata": {},
   "outputs": [
    {
     "data": {
      "text/plain": [
       "array([ 0.96707478, -0.21262117, -0.36497549])"
      ]
     },
     "execution_count": 3,
     "metadata": {},
     "output_type": "execute_result"
    }
   ],
   "source": [
    "w = np.random.randn(D + 1)\n",
    "w"
   ]
  },
  {
   "cell_type": "markdown",
   "metadata": {},
   "source": [
    "# вычислите $z = w^Tx$"
   ]
  },
  {
   "cell_type": "code",
   "execution_count": 4,
   "metadata": {},
   "outputs": [
    {
     "data": {
      "text/plain": [
       "array([ 0.95539655,  0.81357876,  0.29028268,  0.53310418,  1.17394843,\n",
       "        1.4520251 ,  0.47529911,  0.60947421,  1.41726621,  0.991934  ,\n",
       "        0.53334306,  0.64555289,  1.1726794 ,  0.74518763,  0.33970803,\n",
       "        0.74732251,  0.53372863, -0.42326556,  1.14047131,  0.432869  ,\n",
       "        0.55275035,  0.44696628,  0.92604298,  0.30440645,  0.75493277,\n",
       "        1.14394463,  1.36704623,  1.36092352,  0.60628215,  0.54124746,\n",
       "        1.02255312,  1.39210505,  0.75459724,  1.14406251,  1.27845692,\n",
       "        0.16509071,  0.95997675,  1.65720732,  0.95871165,  0.59028787,\n",
       "        0.93158807,  1.5283895 ,  1.88212451,  1.19536538,  0.5692464 ,\n",
       "        0.96191011,  0.7920909 ,  0.47915558,  0.91090511,  0.58313516,\n",
       "        1.34365516, -0.11436688,  0.9119643 ,  1.05553902,  0.9280635 ,\n",
       "        1.32571536,  1.79951016,  0.8573089 ,  2.12580137,  1.1357591 ,\n",
       "        1.04345531,  0.60994725,  0.30058569,  1.81012731,  0.87871213,\n",
       "        1.07313788,  1.34411636,  1.08976675,  1.55151718,  0.64706483,\n",
       "        1.38073883,  1.33417959,  0.99136386,  1.34445416,  0.59652038,\n",
       "        0.6574695 ,  0.88034183,  1.43719971,  0.8740593 ,  0.72586235,\n",
       "        0.91340087,  0.24219749,  1.30141298,  0.85759431,  0.91768192,\n",
       "        1.38112435,  0.63581165,  1.48699056,  0.58896566, -0.17438112,\n",
       "        1.3596679 ,  1.20905337,  1.34570349,  0.95945269,  1.52423698,\n",
       "        0.36951192,  0.28098718,  1.7033576 ,  0.430769  ,  1.18746802])"
      ]
     },
     "execution_count": 4,
     "metadata": {},
     "output_type": "execute_result"
    }
   ],
   "source": [
    "z = Xb.dot(w)\n",
    "z"
   ]
  },
  {
   "cell_type": "markdown",
   "metadata": {},
   "source": [
    "# вычислите $\\sigma(z)$ (предварительно реализуйте функцию sigmoid)"
   ]
  },
  {
   "cell_type": "code",
   "execution_count": 5,
   "metadata": {},
   "outputs": [],
   "source": [
    "def sigmoid(z):\n",
    "    return 1/(1 + np.exp(-z))"
   ]
  },
  {
   "cell_type": "code",
   "execution_count": 6,
   "metadata": {},
   "outputs": [
    {
     "data": {
      "text/plain": [
       "array([0.48954267, 0.41592045, 0.23296191, 0.21655522, 0.19519581,\n",
       "       0.51770115, 0.18543717, 0.23044562, 0.2977768 , 0.37488674,\n",
       "       0.45929151, 0.59151317, 0.3248086 , 0.63976996, 0.33341212,\n",
       "       0.26138496, 0.25608968, 0.22532836, 0.28276627, 0.55147976,\n",
       "       0.53659889, 0.30468362, 0.27404798, 0.23267774, 0.25277662,\n",
       "       0.51200753, 0.40729183, 0.10539066, 0.37724158, 0.56657611,\n",
       "       0.25253676, 0.33551564, 0.4005614 , 0.44187268, 0.34021327,\n",
       "       0.13572555, 0.36370124, 0.27032424, 0.29568602, 0.50516475,\n",
       "       0.35731985, 0.15151362, 0.28127249, 0.34574924, 0.41121014,\n",
       "       0.14257028, 0.38394064, 0.53678918, 0.4341278 , 0.36799815,\n",
       "       0.20926143, 0.31963636, 0.28706458, 0.2172917 , 0.28502163,\n",
       "       0.32981361, 0.2204629 , 0.52404729, 0.20319453, 0.39846528,\n",
       "       0.2347733 , 0.28978463, 0.30768639, 0.32097604, 0.37519886,\n",
       "       0.38415892, 0.16997668, 0.16911568, 0.40834321, 0.26410133,\n",
       "       0.64111767, 0.17083362, 0.27129179, 0.21496682, 0.22257297,\n",
       "       0.59306068, 0.17949283, 0.31747723, 0.41420723, 0.35850888,\n",
       "       0.22711526, 0.33588134, 0.21044248, 0.2958477 , 0.10578687,\n",
       "       0.31005616, 0.22509102, 0.37941297, 0.38063214, 0.35231646,\n",
       "       0.17970385, 0.24242132, 0.24636947, 0.40557611, 0.23199031,\n",
       "       0.33640504, 0.34010825, 0.08900712, 0.39596086, 0.39382694])"
      ]
     },
     "execution_count": 6,
     "metadata": {},
     "output_type": "execute_result"
    }
   ],
   "source": [
    "sigmoid(z)"
   ]
  },
  {
   "cell_type": "markdown",
   "metadata": {},
   "source": [
    "# ================= часть 2 =========="
   ]
  },
  {
   "cell_type": "code",
   "execution_count": 17,
   "metadata": {},
   "outputs": [],
   "source": [
    "import numpy as np\n",
    "N = 100\n",
    "D = 2\n",
    "\n",
    "# генерация датасета\n",
    "\n",
    "np.random.seed(42)\n",
    "X = np.random.randn(N, D)\n",
    "ones = np.ones((N, 1))\n",
    "\n",
    "X[:50,:] = X[:50,:] - 2*np.ones((50,D))\n",
    "X[50:,:] = X[50:,:] + 2*np.ones((50,D))\n",
    "\n",
    "# метки из train set\n",
    "T = np.array([0]*50 + [1]*50)\n",
    "\n",
    "# данные из части 1\n",
    "ones = np.ones((N, 1))\n",
    "\n",
    "Xb = np.concatenate((ones, X), axis=1)\n",
    "w = np.random.randn(D + 1)\n",
    "z = Xb.dot(w)\n",
    "\n",
    "def sigmoid(z):\n",
    "    return 1/(1 + np.exp(-z))\n",
    "\n",
    "Y = sigmoid(z)"
   ]
  },
  {
   "cell_type": "markdown",
   "metadata": {},
   "source": [
    "# реализуйте функцию: def cross_entropy(T, Y):"
   ]
  },
  {
   "cell_type": "code",
   "execution_count": 18,
   "metadata": {},
   "outputs": [],
   "source": [
    "from math import log2\n",
    "\n",
    "def cross_entropy(T, Y):\n",
    "    return -sum([T[i]*log2(Y[i]) for i in range(len(T))])"
   ]
  },
  {
   "cell_type": "markdown",
   "metadata": {},
   "source": [
    "## задайте веса с помощью точного решения [0,-4,-4]"
   ]
  },
  {
   "cell_type": "code",
   "execution_count": 19,
   "metadata": {},
   "outputs": [],
   "source": [
    "w = [0, -4, -4]"
   ]
  },
  {
   "cell_type": "markdown",
   "metadata": {},
   "source": [
    "# вычислите z и Y"
   ]
  },
  {
   "cell_type": "code",
   "execution_count": 20,
   "metadata": {},
   "outputs": [
    {
     "data": {
      "text/plain": [
       "array([-2.80108189, -0.91715109, -3.31477609, -1.21311493, -2.60553782,\n",
       "       -3.69417084, -4.86637603, -4.50617762, -3.15751823, -4.96868731,\n",
       "       -2.35249833, -4.4350907 , -3.11503074, -3.16844336, -3.58263234,\n",
       "       -1.26119975, -4.08300835, -3.79084995, -4.93517987, -3.46149956,\n",
       "       -2.33016292, -3.32084868, -4.5386446 , -2.04328573, -4.64665119,\n",
       "       -3.16520675, -2.6470148 , -1.34309151, -3.73539723, -1.68755141,\n",
       "       -3.39967586, -4.84585278, -1.00535482, -1.88338879, -3.42578204,\n",
       "       -1.0614467 , -1.25538561, -3.50883417, -3.20490981, -5.03106514,\n",
       "       -2.66630156, -2.66241727, -3.92670347, -2.06048654, -2.67107057,\n",
       "       -1.82635243, -3.67845959, -4.73483405, -2.48108827, -3.18108652,\n",
       "        2.39616045,  2.58436251,  3.99262015,  4.89227948,  3.70926043,\n",
       "        2.54072581,  6.3470525 ,  3.86417707,  2.36025487,  5.10071826,\n",
       "        3.10414416,  2.91384771,  6.34693497,  2.476652  ,  3.15605191,\n",
       "        2.85012806,  3.56266029,  4.8085184 ,  2.85741345,  2.76857764,\n",
       "        5.1887175 ,  2.94397511,  4.63795138,  1.5216739 ,  4.25980527,\n",
       "        4.16115258,  3.51565421,  3.03613022,  5.20494171,  3.68847553,\n",
       "        3.95132546,  3.40634037,  4.63276822,  6.16078151,  2.69151415,\n",
       "        2.26306863,  3.97170652,  4.69650466,  5.22700205,  6.44312604,\n",
       "        3.06797791,  3.56746131,  4.29344355,  3.83196579,  1.52993292,\n",
       "        4.322584  ,  2.41632043,  4.15989455,  3.31629749,  2.44020605])"
      ]
     },
     "execution_count": 20,
     "metadata": {},
     "output_type": "execute_result"
    }
   ],
   "source": [
    "z"
   ]
  },
  {
   "cell_type": "code",
   "execution_count": 21,
   "metadata": {},
   "outputs": [
    {
     "data": {
      "text/plain": [
       "array([0.05726574, 0.28553873, 0.03506775, 0.22915036, 0.06878286,\n",
       "       0.02426465, 0.00764237, 0.01092002, 0.04079606, 0.00690427,\n",
       "       0.0868674 , 0.01171512, 0.04249149, 0.04037068, 0.02705035,\n",
       "       0.22076743, 0.01657724, 0.02207796, 0.00713785, 0.03042776,\n",
       "       0.0886555 , 0.03486284, 0.01057486, 0.11473258, 0.00950251,\n",
       "       0.04049625, 0.06617324, 0.20700212, 0.02330749, 0.15609813,\n",
       "       0.0323056 , 0.0077996 , 0.2678899 , 0.13200012, 0.03149936,\n",
       "       0.25703309, 0.22176926, 0.02906191, 0.03898138, 0.00648946,\n",
       "       0.06499135, 0.06522779, 0.01932762, 0.11299706, 0.06470215,\n",
       "       0.13867338, 0.02463942, 0.00870742, 0.07719464, 0.03988371,\n",
       "       0.91653405, 0.92984837, 0.98188298, 0.9925516 , 0.97609006,\n",
       "       0.92694799, 0.99825116, 0.97945094, 0.9137459 , 0.99394452,\n",
       "       0.95706336, 0.94852675, 0.99825096, 0.92248874, 0.95914652,\n",
       "       0.9453253 , 0.97241902, 0.99190611, 0.94570063, 0.94095401,\n",
       "       0.9944518 , 0.94997796, 0.99041525, 0.82078484, 0.98607169,\n",
       "       0.98464972, 0.97112991, 0.95417994, 0.9945406 , 0.97560014,\n",
       "       0.98113359, 0.9679021 , 0.99036593, 0.99789384, 0.93652405,\n",
       "       0.90577186, 0.98150718, 0.99095543, 0.99465908, 0.9984111 ,\n",
       "       0.95555237, 0.97254749, 0.98652621, 0.97879252, 0.8219965 ,\n",
       "       0.98690811, 0.91806338, 0.9846307 , 0.9649837 , 0.91984228])"
      ]
     },
     "execution_count": 21,
     "metadata": {},
     "output_type": "execute_result"
    }
   ],
   "source": [
    "Y"
   ]
  },
  {
   "cell_type": "markdown",
   "metadata": {},
   "source": [
    "# вычислите cross_entropy(T, Y)"
   ]
  },
  {
   "cell_type": "code",
   "execution_count": 22,
   "metadata": {},
   "outputs": [
    {
     "data": {
      "text/plain": [
       "2.935362825974991"
      ]
     },
     "execution_count": 22,
     "metadata": {},
     "output_type": "execute_result"
    }
   ],
   "source": [
    "cross_entropy(T, Y)"
   ]
  },
  {
   "cell_type": "markdown",
   "metadata": {},
   "source": [
    "# ================ часть 3 =============="
   ]
  },
  {
   "cell_type": "code",
   "execution_count": null,
   "metadata": {},
   "outputs": [],
   "source": []
  },
  {
   "cell_type": "code",
   "execution_count": 24,
   "metadata": {},
   "outputs": [
    {
     "data": {
      "text/plain": [
       "array([0.05726574, 0.28553873, 0.03506775, 0.22915036, 0.06878286,\n",
       "       0.02426465, 0.00764237, 0.01092002, 0.04079606, 0.00690427,\n",
       "       0.0868674 , 0.01171512, 0.04249149, 0.04037068, 0.02705035,\n",
       "       0.22076743, 0.01657724, 0.02207796, 0.00713785, 0.03042776,\n",
       "       0.0886555 , 0.03486284, 0.01057486, 0.11473258, 0.00950251,\n",
       "       0.04049625, 0.06617324, 0.20700212, 0.02330749, 0.15609813,\n",
       "       0.0323056 , 0.0077996 , 0.2678899 , 0.13200012, 0.03149936,\n",
       "       0.25703309, 0.22176926, 0.02906191, 0.03898138, 0.00648946,\n",
       "       0.06499135, 0.06522779, 0.01932762, 0.11299706, 0.06470215,\n",
       "       0.13867338, 0.02463942, 0.00870742, 0.07719464, 0.03988371,\n",
       "       0.91653405, 0.92984837, 0.98188298, 0.9925516 , 0.97609006,\n",
       "       0.92694799, 0.99825116, 0.97945094, 0.9137459 , 0.99394452,\n",
       "       0.95706336, 0.94852675, 0.99825096, 0.92248874, 0.95914652,\n",
       "       0.9453253 , 0.97241902, 0.99190611, 0.94570063, 0.94095401,\n",
       "       0.9944518 , 0.94997796, 0.99041525, 0.82078484, 0.98607169,\n",
       "       0.98464972, 0.97112991, 0.95417994, 0.9945406 , 0.97560014,\n",
       "       0.98113359, 0.9679021 , 0.99036593, 0.99789384, 0.93652405,\n",
       "       0.90577186, 0.98150718, 0.99095543, 0.99465908, 0.9984111 ,\n",
       "       0.95555237, 0.97254749, 0.98652621, 0.97879252, 0.8219965 ,\n",
       "       0.98690811, 0.91806338, 0.9846307 , 0.9649837 , 0.91984228])"
      ]
     },
     "execution_count": 24,
     "metadata": {},
     "output_type": "execute_result"
    }
   ],
   "source": [
    "Y = sigmoid(z)\n",
    "Y"
   ]
  },
  {
   "cell_type": "markdown",
   "metadata": {},
   "source": [
    "# выполните 100 итераций градиентного спуска\n",
    "### $J = crossentr + \\frac{1}{2} \\alpha w^Tw$"
   ]
  },
  {
   "cell_type": "code",
   "execution_count": 25,
   "metadata": {},
   "outputs": [
    {
     "ename": "SyntaxError",
     "evalue": "unexpected character after line continuation character (<ipython-input-25-a9d1e944b091>, line 1)",
     "output_type": "error",
     "traceback": [
      "\u001b[1;36m  File \u001b[1;32m\"<ipython-input-25-a9d1e944b091>\"\u001b[1;36m, line \u001b[1;32m1\u001b[0m\n\u001b[1;33m    J = crossentr + \\frac{1}{2} \\alpha w^Tw\u001b[0m\n\u001b[1;37m                                           ^\u001b[0m\n\u001b[1;31mSyntaxError\u001b[0m\u001b[1;31m:\u001b[0m unexpected character after line continuation character\n"
     ]
    }
   ],
   "source": [
    "J = crossentr + \\frac{1}{2} \\alpha w^Tw"
   ]
  },
  {
   "cell_type": "markdown",
   "metadata": {},
   "source": [
    "# выведите новые веса w\n",
    "# нарисуйте датасет с границей (классификтором)"
   ]
  },
  {
   "cell_type": "code",
   "execution_count": 76,
   "metadata": {},
   "outputs": [
    {
     "data": {
      "text/plain": [
       "0.0"
      ]
     },
     "execution_count": 76,
     "metadata": {},
     "output_type": "execute_result"
    }
   ],
   "source": []
  },
  {
   "cell_type": "markdown",
   "metadata": {},
   "source": [
    "# =========== часть 4 =============\n",
    "# добавьте регуляризацию $L_2$"
   ]
  },
  {
   "cell_type": "code",
   "execution_count": null,
   "metadata": {},
   "outputs": [],
   "source": []
  },
  {
   "cell_type": "markdown",
   "metadata": {},
   "source": [
    "# выведите новые веса w\n",
    "# нарисуйте датасет с границей (классификтором)"
   ]
  },
  {
   "cell_type": "code",
   "execution_count": 77,
   "metadata": {},
   "outputs": [
    {
     "data": {
      "image/png": "[encoded data removed]",
      "text/plain": [
       "<Figure size 432x288 with 1 Axes>"
      ]
     },
     "metadata": {
      "needs_background": "light"
     },
     "output_type": "display_data"
    }
   ],
   "source": []
  },
  {
   "cell_type": "code",
   "execution_count": null,
   "metadata": {},
   "outputs": [],
   "source": []
  }
 ],
 "metadata": {
  "kernelspec": {
   "display_name": "Python 3",
   "language": "python",
   "name": "python3"
  },
  "language_info": {
   "codemirror_mode": {
    "name": "ipython",
    "version": 3
   },
   "file_extension": ".py",
   "mimetype": "text/x-python",
   "name": "python",
   "nbconvert_exporter": "python",
   "pygments_lexer": "ipython3",
   "version": "3.7.6"
  }
 },
 "nbformat": 4,
 "nbformat_minor": 2
}
