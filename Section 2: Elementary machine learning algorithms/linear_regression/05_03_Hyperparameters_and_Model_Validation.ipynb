{
  "nbformat": 4,
  "nbformat_minor": 0,
  "metadata": {
    "anaconda-cloud": {},
    "kernelspec": {
      "display_name": "Python 3",
      "language": "python",
      "name": "python3"
    },
    "language_info": {
      "codemirror_mode": {
        "name": "ipython",
        "version": 3
      },
      "file_extension": ".py",
      "mimetype": "text/x-python",
      "name": "python",
      "nbconvert_exporter": "python",
      "pygments_lexer": "ipython3",
      "version": "3.5.1"
    },
    "colab": {
      "name": "05.03-Hyperparameters-and-Model-Validation.ipynb",
      "provenance": [],
      "collapsed_sections": [],
      "include_colab_link": true
    }
  },
  "cells": [
    {
      "cell_type": "markdown",
      "metadata": {
        "id": "view-in-github",
        "colab_type": "text"
      },
      "source": [
        "<a href=\"https://colab.research.google.com/github/MarkVoitov/DS_ABB/blob/main/05_03_Hyperparameters_and_Model_Validation.ipynb\" target=\"_parent\"><img src=\"https://colab.research.google.com/assets/colab-badge.svg\" alt=\"Open In Colab\"/></a>"
      ]
    },
    {
      "cell_type": "markdown",
      "metadata": {
        "deletable": true,
        "editable": true,
        "id": "_511-dNeX5EA"
      },
      "source": [
        "<!--BOOK_INFORMATION-->\n",
        "<img align=\"left\" style=\"padding-right:10px;\" src=\"figures/PDSH-cover-small.png\">\n",
        "\n",
        "*This notebook contains an excerpt from the [Python Data Science Handbook](http://shop.oreilly.com/product/0636920034919.do) by Jake VanderPlas; the content is available [on GitHub](https://github.com/jakevdp/PythonDataScienceHandbook).*\n",
        "\n",
        "*The text is released under the [CC-BY-NC-ND license](https://creativecommons.org/licenses/by-nc-nd/3.0/us/legalcode), and code is released under the [MIT license](https://opensource.org/licenses/MIT). If you find this content useful, please consider supporting the work by [buying the book](http://shop.oreilly.com/product/0636920034919.do)!*"
      ]
    },
    {
      "cell_type": "markdown",
      "metadata": {
        "deletable": true,
        "editable": true,
        "id": "b2r8xRzpX5EB"
      },
      "source": [
        "<!--NAVIGATION-->\n",
        "< [Introducing Scikit-Learn](05.02-Introducing-Scikit-Learn.ipynb) | [Contents](Index.ipynb) | [Feature Engineering](05.04-Feature-Engineering.ipynb) >\n",
        "\n",
        "<a href=\"https://colab.research.google.com/github/jakevdp/PythonDataScienceHandbook/blob/master/notebooks/05.03-Hyperparameters-and-Model-Validation.ipynb\"><img align=\"left\" src=\"https://colab.research.google.com/assets/colab-badge.svg\" alt=\"Open in Colab\" title=\"Open and Execute in Google Colaboratory\"></a>\n"
      ]
    },
    {
      "cell_type": "markdown",
      "metadata": {
        "id": "ajdJ9w1BX5EB"
      },
      "source": [
        "# Hyperparameters and Model Validation"
      ]
    },
    {
      "cell_type": "markdown",
      "metadata": {
        "collapsed": true,
        "deletable": true,
        "editable": true,
        "id": "jrQ-292qX5EB"
      },
      "source": [
        "In the previous section, we saw the basic recipe for applying a supervised machine learning model:\n",
        "\n",
        "1. Choose a class of model\n",
        "2. Choose model hyperparameters\n",
        "3. Fit the model to the training data\n",
        "4. Use the model to predict labels for new data\n",
        "\n",
        "The first two pieces of this—the choice of model and choice of hyperparameters—are perhaps the most important part of using these tools and techniques effectively.\n",
        "In order to make an informed choice, we need a way to *validate* that our model and our hyperparameters are a good fit to the data.\n",
        "While this may sound simple, there are some pitfalls that you must avoid to do this effectively."
      ]
    },
    {
      "cell_type": "markdown",
      "metadata": {
        "deletable": true,
        "editable": true,
        "id": "vxrrzDpMX5EB"
      },
      "source": [
        "## Thinking about Model Validation\n",
        "\n",
        "In principle, model validation is very simple: after choosing a model and its hyperparameters, we can estimate how effective it is by applying it to some of the training data and comparing the prediction to the known value.\n",
        "\n",
        "The following sections first show a naive approach to model validation and why it\n",
        "fails, before exploring the use of holdout sets and cross-validation for more robust\n",
        "model evaluation."
      ]
    },
    {
      "cell_type": "markdown",
      "metadata": {
        "deletable": true,
        "editable": true,
        "id": "eiFWIaYHX5EB"
      },
      "source": [
        "### Model validation the wrong way\n",
        "\n",
        "Let's demonstrate the naive approach to validation using the Iris data, which we saw in the previous section.\n",
        "We will start by loading the data:"
      ]
    },
    {
      "cell_type": "code",
      "metadata": {
        "deletable": true,
        "editable": true,
        "id": "BbWUyTJ7X5EB"
      },
      "source": [
        "from sklearn.datasets import load_iris\n",
        "iris = load_iris()\n",
        "X = iris.data\n",
        "y = iris.target"
      ],
      "execution_count": 1,
      "outputs": []
    },
    {
      "cell_type": "markdown",
      "metadata": {
        "deletable": true,
        "editable": true,
        "id": "t7TDgmNRX5EB"
      },
      "source": [
        "Next we choose a model and hyperparameters. Here we'll use a *k*-neighbors classifier with ``n_neighbors=1``.\n",
        "This is a very simple and intuitive model that says \"the label of an unknown point is the same as the label of its closest training point:\""
      ]
    },
    {
      "cell_type": "code",
      "metadata": {
        "deletable": true,
        "editable": true,
        "id": "-uZG9plcX5EB"
      },
      "source": [
        "from sklearn.neighbors import KNeighborsClassifier\n",
        "model = KNeighborsClassifier(n_neighbors=1)"
      ],
      "execution_count": 2,
      "outputs": []
    },
    {
      "cell_type": "markdown",
      "metadata": {
        "deletable": true,
        "editable": true,
        "id": "tQPDPKiyX5EB"
      },
      "source": [
        "Then we train the model, and use it to predict labels for data we already know:"
      ]
    },
    {
      "cell_type": "code",
      "metadata": {
        "deletable": true,
        "editable": true,
        "id": "uy0X_pOUX5EB"
      },
      "source": [
        "model.fit(X, y)\n",
        "y_model = model.predict(X)"
      ],
      "execution_count": 3,
      "outputs": []
    },
    {
      "cell_type": "markdown",
      "metadata": {
        "deletable": true,
        "editable": true,
        "id": "dwYPXzCqX5EB"
      },
      "source": [
        "Finally, we compute the fraction of correctly labeled points:"
      ]
    },
    {
      "cell_type": "code",
      "metadata": {
        "deletable": true,
        "editable": true,
        "colab": {
          "base_uri": "https://localhost:8080/"
        },
        "id": "Bm_dt494X5EB",
        "outputId": "b996ba18-cf4b-4e44-8527-5e2509b8f26d"
      },
      "source": [
        "from sklearn.metrics import accuracy_score\n",
        "accuracy_score(y, y_model)"
      ],
      "execution_count": 4,
      "outputs": [
        {
          "output_type": "execute_result",
          "data": {
            "text/plain": [
              "1.0"
            ]
          },
          "metadata": {
            "tags": []
          },
          "execution_count": 4
        }
      ]
    },
    {
      "cell_type": "markdown",
      "metadata": {
        "deletable": true,
        "editable": true,
        "id": "oYiWx24AX5EB"
      },
      "source": [
        "We see an accuracy score of 1.0, which indicates that 100% of points were correctly labeled by our model!\n",
        "But is this truly measuring the expected accuracy? Have we really come upon a model that we expect to be correct 100% of the time?\n",
        "\n",
        "As you may have gathered, the answer is no.\n",
        "In fact, this approach contains a fundamental flaw: *it trains and evaluates the model on the same data*.\n",
        "Furthermore, the nearest neighbor model is an *instance-based* estimator that simply stores the training data, and predicts labels by comparing new data to these stored points: except in contrived cases, it will get 100% accuracy *every time!*"
      ]
    },
    {
      "cell_type": "markdown",
      "metadata": {
        "deletable": true,
        "editable": true,
        "id": "UmTuQtBQX5EB"
      },
      "source": [
        "### Model validation the right way: Holdout sets\n",
        "\n",
        "So what can be done?\n",
        "A better sense of a model's performance can be found using what's known as a *holdout set*: that is, we hold back some subset of the data from the training of the model, and then use this holdout set to check the model performance.\n",
        "This splitting can be done using the ``train_test_split`` utility in Scikit-Learn:"
      ]
    },
    {
      "cell_type": "code",
      "metadata": {
        "id": "WDOUhxayYzwu"
      },
      "source": [
        "import sklearn"
      ],
      "execution_count": 5,
      "outputs": []
    },
    {
      "cell_type": "code",
      "metadata": {
        "deletable": true,
        "editable": true,
        "colab": {
          "base_uri": "https://localhost:8080/"
        },
        "id": "Gv_c1MaSX5EB",
        "outputId": "b01239e2-f89b-49af-f5b0-fe82cad96527"
      },
      "source": [
        "from sklearn.model_selection import train_test_split\n",
        "# split the data with 50% in each set\n",
        "X1, X2, y1, y2 = train_test_split(X, y, random_state=0,\n",
        "                                  train_size=0.5)\n",
        "\n",
        "# fit the model on one set of data\n",
        "model.fit(X1, y1)\n",
        "\n",
        "# evaluate the model on the second set of data\n",
        "y2_model = model.predict(X2)\n",
        "accuracy_score(y2, y2_model)"
      ],
      "execution_count": 6,
      "outputs": [
        {
          "output_type": "execute_result",
          "data": {
            "text/plain": [
              "0.9066666666666666"
            ]
          },
          "metadata": {
            "tags": []
          },
          "execution_count": 6
        }
      ]
    },
    {
      "cell_type": "markdown",
      "metadata": {
        "deletable": true,
        "editable": true,
        "id": "9H21nSerX5EB"
      },
      "source": [
        "We see here a more reasonable result: the nearest-neighbor classifier is about 90% accurate on this hold-out set.\n",
        "The hold-out set is similar to unknown data, because the model has not \"seen\" it before."
      ]
    },
    {
      "cell_type": "markdown",
      "metadata": {
        "deletable": true,
        "editable": true,
        "id": "fLmsJEKOX5EB"
      },
      "source": [
        "### Model validation via cross-validation\n",
        "\n",
        "One disadvantage of using a holdout set for model validation is that we have lost a portion of our data to the model training.\n",
        "In the above case, half the dataset does not contribute to the training of the model!\n",
        "This is not optimal, and can cause problems – especially if the initial set of training data is small.\n",
        "\n",
        "One way to address this is to use *cross-validation*; that is, to do a sequence of fits where each subset of the data is used both as a training set and as a validation set.\n",
        "Visually, it might look something like this:\n",
        "\n",
        "![](https://github.com/jakevdp/PythonDataScienceHandbook/raw/8a34a4f653bdbdc01415a94dc20d4e9b97438965/notebooks/figures/05.03-2-fold-CV.png)\n",
        "[figure source in Appendix](/content/drive/MyDrive/figures/05.03-2-fold-CV.png)\n",
        "\n",
        "Here we do two validation trials, alternately using each half of the data as a holdout set.\n",
        "Using the split data from before, we could implement it like this:"
      ]
    },
    {
      "cell_type": "code",
      "metadata": {
        "deletable": true,
        "editable": true,
        "colab": {
          "base_uri": "https://localhost:8080/"
        },
        "id": "rWQLVr9yX5EB",
        "outputId": "91310267-0a45-46a0-ae78-c346cfac7b80"
      },
      "source": [
        "y2_model = model.fit(X1, y1).predict(X2)\n",
        "y1_model = model.fit(X2, y2).predict(X1)\n",
        "accuracy_score(y1, y1_model), accuracy_score(y2, y2_model)"
      ],
      "execution_count": 7,
      "outputs": [
        {
          "output_type": "execute_result",
          "data": {
            "text/plain": [
              "(0.96, 0.9066666666666666)"
            ]
          },
          "metadata": {
            "tags": []
          },
          "execution_count": 7
        }
      ]
    },
    {
      "cell_type": "markdown",
      "metadata": {
        "deletable": true,
        "editable": true,
        "id": "0B4qKtAHX5EC"
      },
      "source": [
        "What comes out are two accuracy scores, which we could combine (by, say, taking the mean) to get a better measure of the global model performance.\n",
        "This particular form of cross-validation is a *two-fold cross-validation*—that is, one in which we have split the data into two sets and used each in turn as a validation set.\n",
        "\n",
        "We could expand on this idea to use even more trials, and more folds in the data—for example, here is a visual depiction of five-fold cross-validation:\n",
        "\n",
        "![](https://github.com/jakevdp/PythonDataScienceHandbook/raw/8a34a4f653bdbdc01415a94dc20d4e9b97438965/notebooks/figures/05.03-5-fold-CV.png)\n",
        "[figure source in Appendix](06.00-Figure-Code.ipynb#5-Fold-Cross-Validation)\n",
        "\n",
        "Here we split the data into five groups, and use each of them in turn to evaluate the model fit on the other 4/5 of the data.\n",
        "This would be rather tedious to do by hand, and so we can use Scikit-Learn's ``cross_val_score`` convenience routine to do it succinctly:"
      ]
    },
    {
      "cell_type": "code",
      "metadata": {
        "deletable": true,
        "editable": true,
        "colab": {
          "base_uri": "https://localhost:8080/"
        },
        "id": "nrA7hZtZX5EC",
        "outputId": "67d1ddeb-7fcf-4ab2-bd69-49b1468ea599"
      },
      "source": [
        "from sklearn.model_selection import cross_val_score\n",
        "cross_val_score(model, X, y, cv=5)"
      ],
      "execution_count": 8,
      "outputs": [
        {
          "output_type": "execute_result",
          "data": {
            "text/plain": [
              "array([0.96666667, 0.96666667, 0.93333333, 0.93333333, 1.        ])"
            ]
          },
          "metadata": {
            "tags": []
          },
          "execution_count": 8
        }
      ]
    },
    {
      "cell_type": "markdown",
      "metadata": {
        "deletable": true,
        "editable": true,
        "id": "FhQSGSlPX5EC"
      },
      "source": [
        "Repeating the validation across different subsets of the data gives us an even better idea of the performance of the algorithm.\n",
        "\n",
        "Scikit-Learn implements a number of useful cross-validation schemes that are useful in particular situations; these are implemented via iterators in the ``cross_validation`` module.\n",
        "For example, we might wish to go to the extreme case in which our number of folds is equal to the number of data points: that is, we train on all points but one in each trial.\n",
        "This type of cross-validation is known as *leave-one-out* cross validation, and can be used as follows:"
      ]
    },
    {
      "cell_type": "code",
      "metadata": {
        "deletable": true,
        "editable": true,
        "colab": {
          "base_uri": "https://localhost:8080/"
        },
        "id": "-h9Hz5AHX5EC",
        "outputId": "0d17f0e9-01cb-4bd8-caa7-f30472721c7b"
      },
      "source": [
        "from sklearn.model_selection import LeaveOneOut\n",
        "scores = cross_val_score(model, X, y, cv=LeaveOneOut())\n",
        "scores"
      ],
      "execution_count": 9,
      "outputs": [
        {
          "output_type": "execute_result",
          "data": {
            "text/plain": [
              "array([1., 1., 1., 1., 1., 1., 1., 1., 1., 1., 1., 1., 1., 1., 1., 1., 1.,\n",
              "       1., 1., 1., 1., 1., 1., 1., 1., 1., 1., 1., 1., 1., 1., 1., 1., 1.,\n",
              "       1., 1., 1., 1., 1., 1., 1., 1., 1., 1., 1., 1., 1., 1., 1., 1., 1.,\n",
              "       1., 1., 1., 1., 1., 1., 1., 1., 1., 1., 1., 1., 1., 1., 1., 1., 1.,\n",
              "       1., 1., 0., 1., 0., 1., 1., 1., 1., 1., 1., 1., 1., 1., 1., 0., 1.,\n",
              "       1., 1., 1., 1., 1., 1., 1., 1., 1., 1., 1., 1., 1., 1., 1., 1., 1.,\n",
              "       1., 1., 1., 1., 0., 1., 1., 1., 1., 1., 1., 1., 1., 1., 1., 1., 1.,\n",
              "       0., 1., 1., 1., 1., 1., 1., 1., 1., 1., 1., 1., 1., 1., 0., 1., 1.,\n",
              "       1., 1., 1., 1., 1., 1., 1., 1., 1., 1., 1., 1., 1., 1.])"
            ]
          },
          "metadata": {
            "tags": []
          },
          "execution_count": 9
        }
      ]
    },
    {
      "cell_type": "markdown",
      "metadata": {
        "deletable": true,
        "editable": true,
        "id": "MeCj3krbX5EC"
      },
      "source": [
        "Because we have 150 samples, the leave one out cross-validation yields scores for 150 trials, and the score indicates either successful (1.0) or unsuccessful (0.0) prediction.\n",
        "Taking the mean of these gives an estimate of the error rate:"
      ]
    },
    {
      "cell_type": "code",
      "metadata": {
        "deletable": true,
        "editable": true,
        "colab": {
          "base_uri": "https://localhost:8080/"
        },
        "id": "ABxHgDuGX5EC",
        "outputId": "cb5f6649-bfd4-4e45-91f5-6ece7fda540f"
      },
      "source": [
        "scores.mean()"
      ],
      "execution_count": 10,
      "outputs": [
        {
          "output_type": "execute_result",
          "data": {
            "text/plain": [
              "0.96"
            ]
          },
          "metadata": {
            "tags": []
          },
          "execution_count": 10
        }
      ]
    },
    {
      "cell_type": "markdown",
      "metadata": {
        "deletable": true,
        "editable": true,
        "id": "bSsHQYDaX5EC"
      },
      "source": [
        "Other cross-validation schemes can be used similarly.\n",
        "For a description of what is available in Scikit-Learn, use IPython to explore the ``sklearn.cross_validation`` submodule, or take a look at Scikit-Learn's online [cross-validation documentation](http://scikit-learn.org/stable/modules/cross_validation.html)."
      ]
    },
    {
      "cell_type": "markdown",
      "metadata": {
        "deletable": true,
        "editable": true,
        "id": "uNQXiRUPX5EC"
      },
      "source": [
        "## Selecting the Best Model\n",
        "\n",
        "Now that we've seen the basics of validation and cross-validation, we will go into a litte more depth regarding model selection and selection of hyperparameters.\n",
        "These issues are some of the most important aspects of the practice of machine learning, and I find that this information is often glossed over in introductory machine learning tutorials.\n",
        "\n",
        "Of core importance is the following question: *if our estimator is underperforming, how should we move forward?*\n",
        "There are several possible answers:\n",
        "\n",
        "- Use a more complicated/more flexible model\n",
        "- Use a less complicated/less flexible model\n",
        "- Gather more training samples\n",
        "- Gather more data to add features to each sample\n",
        "\n",
        "The answer to this question is often counter-intuitive.\n",
        "In particular, sometimes using a more complicated model will give worse results, and adding more training samples may not improve your results!\n",
        "The ability to determine what steps will improve your model is what separates the successful machine learning practitioners from the unsuccessful."
      ]
    },
    {
      "cell_type": "markdown",
      "metadata": {
        "deletable": true,
        "editable": true,
        "id": "o2HHhLH2X5EC"
      },
      "source": [
        "### The Bias-variance trade-off\n",
        "\n",
        "Fundamentally, the question of \"the best model\" is about finding a sweet spot in the tradeoff between *bias* and *variance*.\n",
        "Consider the following figure, which presents two regression fits to the same dataset:\n",
        "\n",
        "![](https://github.com/jakevdp/PythonDataScienceHandbook/raw/8a34a4f653bdbdc01415a94dc20d4e9b97438965/notebooks/figures/05.03-bias-variance.png)\n",
        "[figure source in Appendix](06.00-Figure-Code.ipynb#Bias-Variance-Tradeoff)\n",
        "\n",
        "It is clear that neither of these models is a particularly good fit to the data, but they fail in different ways.\n",
        "\n",
        "The model on the left attempts to find a straight-line fit through the data.\n",
        "Because the data are intrinsically more complicated than a straight line, the straight-line model will never be able to describe this dataset well.\n",
        "Such a model is said to *underfit* the data: that is, it does not have enough model flexibility to suitably account for all the features in the data; another way of saying this is that the model has high *bias*.\n",
        "\n",
        "The model on the right attempts to fit a high-order polynomial through the data.\n",
        "Here the model fit has enough flexibility to nearly perfectly account for the fine features in the data, but even though it very accurately describes the training data, its precise form seems to be more reflective of the particular noise properties of the data rather than the intrinsic properties of whatever process generated that data.\n",
        "Such a model is said to *overfit* the data: that is, it has so much model flexibility that the model ends up accounting for random errors as well as the underlying data distribution; another way of saying this is that the model has high *variance*."
      ]
    },
    {
      "cell_type": "markdown",
      "metadata": {
        "deletable": true,
        "editable": true,
        "id": "L3Bu6L5zX5EC"
      },
      "source": [
        "To look at this in another light, consider what happens if we use these two models to predict the y-value for some new data.\n",
        "In the following diagrams, the red/lighter points indicate data that is omitted from the training set:\n",
        "\n",
        "![](https://github.com/jakevdp/PythonDataScienceHandbook/raw/8a34a4f653bdbdc01415a94dc20d4e9b97438965/notebooks/figures/05.03-bias-variance-2.png)\n",
        "[figure source in Appendix](06.00-Figure-Code.ipynb#Bias-Variance-Tradeoff-Metrics)\n",
        "\n",
        "The score here is the $R^2$ score, or [coefficient of determination](https://en.wikipedia.org/wiki/Coefficient_of_determination), which measures how well a model performs relative to a simple mean of the target values. $R^2=1$ indicates a perfect match, $R^2=0$ indicates the model does no better than simply taking the mean of the data, and negative values mean even worse models.\n",
        "From the scores associated with these two models, we can make an observation that holds more generally:\n",
        "\n",
        "- For high-bias models, the performance of the model on the validation set is similar to the performance on the training set.\n",
        "- For high-variance models, the performance of the model on the validation set is far worse than the performance on the training set."
      ]
    },
    {
      "cell_type": "markdown",
      "metadata": {
        "deletable": true,
        "editable": true,
        "id": "IjRMlMsqX5EC"
      },
      "source": [
        "If we imagine that we have some ability to tune the model complexity, we would expect the training score and validation score to behave as illustrated in the following figure:\n",
        "\n",
        "![](https://github.com/jakevdp/PythonDataScienceHandbook/raw/8a34a4f653bdbdc01415a94dc20d4e9b97438965/notebooks/figures/05.03-validation-curve.png)\n",
        "[figure source in Appendix](06.00-Figure-Code.ipynb#Validation-Curve)\n",
        "\n",
        "The diagram shown here is often called a *validation curve*, and we see the following essential features:\n",
        "\n",
        "- The training score is everywhere higher than the validation score. This is generally the case: the model will be a better fit to data it has seen than to data it has not seen.\n",
        "- For very low model complexity (a high-bias model), the training data is under-fit, which means that the model is a poor predictor both for the training data and for any previously unseen data.\n",
        "- For very high model complexity (a high-variance model), the training data is over-fit, which means that the model predicts the training data very well, but fails for any previously unseen data.\n",
        "- For some intermediate value, the validation curve has a maximum. This level of complexity indicates a suitable trade-off between bias and variance.\n",
        "\n",
        "The means of tuning the model complexity varies from model to model; when we discuss individual models in depth in later sections, we will see how each model allows for such tuning."
      ]
    },
    {
      "cell_type": "markdown",
      "metadata": {
        "collapsed": true,
        "deletable": true,
        "editable": true,
        "id": "8_C6oqwIX5EC"
      },
      "source": [
        "### Validation curves in Scikit-Learn\n",
        "\n",
        "Let's look at an example of using cross-validation to compute the validation curve for a class of models.\n",
        "Here we will use a *polynomial regression* model: this is a generalized linear model in which the degree of the polynomial is a tunable parameter.\n",
        "For example, a degree-1 polynomial fits a straight line to the data; for model parameters $a$ and $b$:\n",
        "\n",
        "$$\n",
        "y = ax + b\n",
        "$$\n",
        "\n",
        "A degree-3 polynomial fits a cubic curve to the data; for model parameters $a, b, c, d$:\n",
        "\n",
        "$$\n",
        "y = ax^3 + bx^2 + cx + d\n",
        "$$\n",
        "\n",
        "We can generalize this to any number of polynomial features.\n",
        "In Scikit-Learn, we can implement this with a simple linear regression combined with the polynomial preprocessor.\n",
        "We will use a *pipeline* to string these operations together (we will discuss polynomial features and pipelines more fully in [Feature Engineering](05.04-Feature-Engineering.ipynb)):"
      ]
    },
    {
      "cell_type": "code",
      "metadata": {
        "deletable": true,
        "editable": true,
        "id": "-pccu0_8X5EC"
      },
      "source": [
        "from sklearn.preprocessing import PolynomialFeatures\n",
        "from sklearn.linear_model import LinearRegression\n",
        "from sklearn.pipeline import make_pipeline\n",
        "\n",
        "def PolynomialRegression(degree=2, **kwargs):\n",
        "    return make_pipeline(PolynomialFeatures(degree),\n",
        "                         LinearRegression(**kwargs))"
      ],
      "execution_count": 11,
      "outputs": []
    },
    {
      "cell_type": "markdown",
      "metadata": {
        "collapsed": true,
        "deletable": true,
        "editable": true,
        "id": "cQ1FWA1GX5EC"
      },
      "source": [
        "Now let's create some data to which we will fit our model:"
      ]
    },
    {
      "cell_type": "code",
      "metadata": {
        "deletable": true,
        "editable": true,
        "id": "iSgsqAhEX5EC"
      },
      "source": [
        "import numpy as np\n",
        "\n",
        "def make_data(N, err=1.0, rseed=1):\n",
        "    # randomly sample the data\n",
        "    rng = np.random.RandomState(rseed)\n",
        "    X = rng.rand(N, 1) ** 2\n",
        "    y = 10 - 1. / (X.ravel() + 0.1)\n",
        "    if err > 0:\n",
        "        y += err * rng.randn(N)\n",
        "    return X, y\n",
        "\n",
        "X, y = make_data(40)"
      ],
      "execution_count": 12,
      "outputs": []
    },
    {
      "cell_type": "markdown",
      "metadata": {
        "deletable": true,
        "editable": true,
        "id": "C33PqzIuX5EC"
      },
      "source": [
        "We can now visualize our data, along with polynomial fits of several degrees:"
      ]
    },
    {
      "cell_type": "code",
      "metadata": {
        "deletable": true,
        "editable": true,
        "colab": {
          "base_uri": "https://localhost:8080/",
          "height": 272
        },
        "id": "bPqMrXzlX5EC",
        "outputId": "66d612f2-6c20-49a6-d793-3e3573c8396c"
      },
      "source": [
        "%matplotlib inline\n",
        "import matplotlib.pyplot as plt\n",
        "import seaborn; seaborn.set()  # plot formatting\n",
        "\n",
        "X_test = np.linspace(-0.1, 1.1, 500)[:, None]\n",
        "\n",
        "plt.scatter(X.ravel(), y, color='black')\n",
        "axis = plt.axis()\n",
        "for degree in [1, 3, 5]:\n",
        "    y_test = PolynomialRegression(degree).fit(X, y).predict(X_test)\n",
        "    plt.plot(X_test.ravel(), y_test, label='degree={0}'.format(degree))\n",
        "plt.xlim(-0.1, 1.0)\n",
        "plt.ylim(-2, 12)\n",
        "plt.legend(loc='best');"
      ],
      "execution_count": 13,
      "outputs": [
        {
          "output_type": "display_data",
          "data": {
            "image/png": "[encoded data removed]",
            "text/plain": [
              "<Figure size 432x288 with 1 Axes>"
            ]
          },
          "metadata": {
            "tags": []
          }
        }
      ]
    },
    {
      "cell_type": "markdown",
      "metadata": {
        "deletable": true,
        "editable": true,
        "id": "Gy1hMl83X5EC"
      },
      "source": [
        "The knob controlling model complexity in this case is the degree of the polynomial, which can be any non-negative integer.\n",
        "A useful question to answer is this: what degree of polynomial provides a suitable trade-off between bias (under-fitting) and variance (over-fitting)?\n",
        "\n",
        "We can make progress in this by visualizing the validation curve for this particular data and model; this can be done straightforwardly using the ``validation_curve`` convenience routine provided by Scikit-Learn.\n",
        "Given a model, data, parameter name, and a range to explore, this function will automatically compute both the training score and validation score across the range:"
      ]
    },
    {
      "cell_type": "code",
      "metadata": {
        "deletable": true,
        "editable": true,
        "colab": {
          "base_uri": "https://localhost:8080/",
          "height": 288
        },
        "id": "CNn7GTWhX5EC",
        "outputId": "16eb35d5-a909-4a69-999d-2a6b699b2733"
      },
      "source": [
        "from sklearn.model_selection import learning_curve, validation_curve\n",
        "degree = np.arange(0, 21)\n",
        "train_score, val_score = validation_curve(PolynomialRegression(), X, y,\n",
        "                                          'polynomialfeatures__degree', degree, cv=5)\n",
        "\n",
        "plt.plot(degree, np.median(train_score, 1), color='blue', label='training score')\n",
        "plt.plot(degree, np.median(val_score, 1), color='red', label='validation score')\n",
        "plt.legend(loc='best')\n",
        "plt.ylim(0, 1)\n",
        "plt.xlabel('degree')\n",
        "plt.ylabel('score');"
      ],
      "execution_count": 14,
      "outputs": [
        {
          "output_type": "display_data",
          "data": {
            "image/png": "[encoded data removed]",
            "text/plain": [
              "<Figure size 432x288 with 1 Axes>"
            ]
          },
          "metadata": {
            "tags": []
          }
        }
      ]
    },
    {
      "cell_type": "markdown",
      "metadata": {
        "deletable": true,
        "editable": true,
        "id": "9K2CY1OyX5EC"
      },
      "source": [
        "This shows precisely the qualitative behavior we expect: the training score is everywhere higher than the validation score; the training score is monotonically improving with increased model complexity; and the validation score reaches a maximum before dropping off as the model becomes over-fit.\n",
        "\n",
        "From the validation curve, we can read-off that the optimal trade-off between bias and variance is found for a third-order polynomial; we can compute and display this fit over the original data as follows:"
      ]
    },
    {
      "cell_type": "code",
      "metadata": {
        "deletable": true,
        "editable": true,
        "colab": {
          "base_uri": "https://localhost:8080/",
          "height": 267
        },
        "id": "i7beNm1xX5EC",
        "outputId": "490da626-fb5f-4581-a35f-239fe3ad27c0"
      },
      "source": [
        "plt.scatter(X.ravel(), y)\n",
        "lim = plt.axis()\n",
        "y_test = PolynomialRegression(3).fit(X, y).predict(X_test)\n",
        "plt.plot(X_test.ravel(), y_test);\n",
        "plt.axis(lim);"
      ],
      "execution_count": 15,
      "outputs": [
        {
          "output_type": "display_data",
          "data": {
            "image/png": "[encoded data removed]",
            "text/plain": [
              "<Figure size 432x288 with 1 Axes>"
            ]
          },
          "metadata": {
            "tags": []
          }
        }
      ]
    },
    {
      "cell_type": "markdown",
      "metadata": {
        "deletable": true,
        "editable": true,
        "id": "ebGcH_gkX5ED"
      },
      "source": [
        "Notice that finding this optimal model did not actually require us to compute the training score, but examining the relationship between the training score and validation score can give us useful insight into the performance of the model."
      ]
    },
    {
      "cell_type": "markdown",
      "metadata": {
        "deletable": true,
        "editable": true,
        "id": "A8q1EAPhX5ED"
      },
      "source": [
        "## Learning Curves\n",
        "\n",
        "One important aspect of model complexity is that the optimal model will generally depend on the size of your training data.\n",
        "For example, let's generate a new dataset with a factor of five more points:"
      ]
    },
    {
      "cell_type": "code",
      "metadata": {
        "deletable": true,
        "editable": true,
        "colab": {
          "base_uri": "https://localhost:8080/",
          "height": 268
        },
        "id": "GiBV-GdiX5ED",
        "outputId": "fb17b968-40fe-45c7-fefc-5112fde95bc1"
      },
      "source": [
        "X2, y2 = make_data(200)\n",
        "plt.scatter(X2.ravel(), y2);"
      ],
      "execution_count": null,
      "outputs": [
        {
          "output_type": "display_data",
          "data": {
            "image/png": "[encoded data removed]",
            "text/plain": [
              "<Figure size 432x288 with 1 Axes>"
            ]
          },
          "metadata": {
            "tags": []
          }
        }
      ]
    },
    {
      "cell_type": "markdown",
      "metadata": {
        "deletable": true,
        "editable": true,
        "id": "ovooabizX5ED"
      },
      "source": [
        "We will duplicate the preceding code to plot the validation curve for this larger dataset; for reference let's over-plot the previous results as well:"
      ]
    },
    {
      "cell_type": "code",
      "metadata": {
        "deletable": true,
        "editable": true,
        "colab": {
          "base_uri": "https://localhost:8080/",
          "height": 289
        },
        "id": "ABIJZ4wjX5ED",
        "outputId": "f2b21bb8-8ab4-4a7e-fbaa-39740d203f83"
      },
      "source": [
        "degree = np.arange(21)\n",
        "train_score2, val_score2 = validation_curve(PolynomialRegression(), X2, y2,\n",
        "                                            'polynomialfeatures__degree', degree, cv=7)\n",
        "\n",
        "plt.plot(degree, np.median(train_score2, 1), color='blue', label='training score')\n",
        "plt.plot(degree, np.median(val_score2, 1), color='red', label='validation score')\n",
        "plt.plot(degree, np.median(train_score, 1), color='blue', alpha=0.3, linestyle='dashed')\n",
        "plt.plot(degree, np.median(val_score, 1), color='red', alpha=0.3, linestyle='dashed')\n",
        "plt.legend(loc='lower center')\n",
        "plt.ylim(0, 1)\n",
        "plt.xlabel('degree')\n",
        "plt.ylabel('score');"
      ],
      "execution_count": null,
      "outputs": [
        {
          "output_type": "display_data",
          "data": {
            "image/png": "[encoded data removed]",
            "text/plain": [
              "<Figure size 432x288 with 1 Axes>"
            ]
          },
          "metadata": {
            "tags": []
          }
        }
      ]
    },
    {
      "cell_type": "markdown",
      "metadata": {
        "deletable": true,
        "editable": true,
        "id": "izayOS77X5ED"
      },
      "source": [
        "The solid lines show the new results, while the fainter dashed lines show the results of the previous smaller dataset.\n",
        "It is clear from the validation curve that the larger dataset can support a much more complicated model: the peak here is probably around a degree of 6, but even a degree-20 model is not seriously over-fitting the data—the validation and training scores remain very close.\n",
        "\n",
        "Thus we see that the behavior of the validation curve has not one but two important inputs: the model complexity and the number of training points.\n",
        "It is often useful to to explore the behavior of the model as a function of the number of training points, which we can do by using increasingly larger subsets of the data to fit our model.\n",
        "A plot of the training/validation score with respect to the size of the training set is known as a *learning curve.*\n",
        "\n",
        "The general behavior we would expect from a learning curve is this:\n",
        "\n",
        "- A model of a given complexity will *overfit* a small dataset: this means the training score will be relatively high, while the validation score will be relatively low.\n",
        "- A model of a given complexity will *underfit* a large dataset: this means that the training score will decrease, but the validation score will increase.\n",
        "- A model will never, except by chance, give a better score to the validation set than the training set: this means the curves should keep getting closer together but never cross.\n",
        "\n",
        "With these features in mind, we would expect a learning curve to look qualitatively like that shown in the following figure:"
      ]
    },
    {
      "cell_type": "markdown",
      "metadata": {
        "deletable": true,
        "editable": true,
        "id": "Kac3ll1zX5ED"
      },
      "source": [
        "![](https://github.com/jakevdp/PythonDataScienceHandbook/raw/8a34a4f653bdbdc01415a94dc20d4e9b97438965/notebooks/figures/05.03-learning-curve.png)\n",
        "[figure source in Appendix](06.00-Figure-Code.ipynb#Learning-Curve)"
      ]
    },
    {
      "cell_type": "markdown",
      "metadata": {
        "deletable": true,
        "editable": true,
        "id": "ioGy6itvX5ED"
      },
      "source": [
        "The notable feature of the learning curve is the convergence to a particular score as the number of training samples grows.\n",
        "In particular, once you have enough points that a particular model has converged, *adding more training data will not help you!*\n",
        "The only way to increase model performance in this case is to use another (often more complex) model."
      ]
    },
    {
      "cell_type": "markdown",
      "metadata": {
        "deletable": true,
        "editable": true,
        "id": "ku0Vr-bkX5ED"
      },
      "source": [
        "### Learning curves in Scikit-Learn\n",
        "\n",
        "Scikit-Learn offers a convenient utility for computing such learning curves from your models; here we will compute a learning curve for our original dataset with a second-order polynomial model and a ninth-order polynomial:"
      ]
    },
    {
      "cell_type": "code",
      "metadata": {
        "deletable": true,
        "editable": true,
        "colab": {
          "base_uri": "https://localhost:8080/",
          "height": 411
        },
        "id": "-kXgPpdMX5ED",
        "outputId": "11bc14fa-05cc-45fe-b973-65e6d03518c8"
      },
      "source": [
        "from sklearn.model_selection import learning_curve \n",
        "\n",
        "fig, ax = plt.subplots(1, 2, figsize=(16, 6))\n",
        "fig.subplots_adjust(left=0.0625, right=0.95, wspace=0.1)\n",
        "\n",
        "for i, degree in enumerate([2, 9]):\n",
        "    N, train_lc, val_lc = learning_curve(PolynomialRegression(degree),\n",
        "                                         X, y, cv=7,\n",
        "                                         train_sizes=np.linspace(0.3, 1, 25))\n",
        "\n",
        "    ax[i].plot(N, np.mean(train_lc, 1), color='blue', label='training score')\n",
        "    ax[i].plot(N, np.mean(val_lc, 1), color='red', label='validation score')\n",
        "    ax[i].hlines(np.mean([train_lc[-1], val_lc[-1]]), N[0], N[-1],\n",
        "                 color='gray', linestyle='dashed')\n",
        "\n",
        "    ax[i].set_ylim(0, 1)\n",
        "    ax[i].set_xlim(N[0], N[-1])\n",
        "    ax[i].set_xlabel('training size')\n",
        "    ax[i].set_ylabel('score')\n",
        "    ax[i].set_title('degree = {0}'.format(degree), size=14)\n",
        "    ax[i].legend(loc='best')"
      ],
      "execution_count": 16,
      "outputs": [
        {
          "output_type": "display_data",
          "data": {
            "image/png": "[encoded data removed]",
            "text/plain": [
              "<Figure size 1152x432 with 2 Axes>"
            ]
          },
          "metadata": {
            "tags": []
          }
        }
      ]
    },
    {
      "cell_type": "markdown",
      "metadata": {
        "deletable": true,
        "editable": true,
        "id": "cK0JNakPX5ED"
      },
      "source": [
        "This is a valuable diagnostic, because it gives us a visual depiction of how our model responds to increasing training data.\n",
        "In particular, when your learning curve has already converged (i.e., when the training and validation curves are already close to each other) *adding more training data will not significantly improve the fit!*\n",
        "This situation is seen in the left panel, with the learning curve for the degree-2 model.\n",
        "\n",
        "The only way to increase the converged score is to use a different (usually more complicated) model.\n",
        "We see this in the right panel: by moving to a much more complicated model, we increase the score of convergence (indicated by the dashed line), but at the expense of higher model variance (indicated by the difference between the training and validation scores).\n",
        "If we were to add even more data points, the learning curve for the more complicated model would eventually converge.\n",
        "\n",
        "Plotting a learning curve for your particular choice of model and dataset can help you to make this type of decision about how to move forward in improving your analysis."
      ]
    },
    {
      "cell_type": "markdown",
      "metadata": {
        "deletable": true,
        "editable": true,
        "id": "3VyxvLhmX5ED"
      },
      "source": [
        "## Validation in Practice: Grid Search\n",
        "\n",
        "The preceding discussion is meant to give you some intuition into the trade-off between bias and variance, and its dependence on model complexity and training set size.\n",
        "In practice, models generally have more than one knob to turn, and thus plots of validation and learning curves change from lines to multi-dimensional surfaces.\n",
        "In these cases, such visualizations are difficult and we would rather simply find the particular model that maximizes the validation score.\n",
        "\n",
        "Scikit-Learn provides automated tools to do this in the grid search module.\n",
        "Here is an example of using grid search to find the optimal polynomial model.\n",
        "We will explore a three-dimensional grid of model features; namely the polynomial degree, the flag telling us whether to fit the intercept, and the flag telling us whether to normalize the problem.\n",
        "This can be set up using Scikit-Learn's ``GridSearchCV`` meta-estimator:"
      ]
    },
    {
      "cell_type": "code",
      "metadata": {
        "deletable": true,
        "editable": true,
        "id": "DU4WQvpyX5ED"
      },
      "source": [
        "from sklearn.model_selection import GridSearchCV\n",
        "\n",
        "param_grid = {'polynomialfeatures__degree': np.arange(21),\n",
        "              'linearregression__fit_intercept': [True, False],\n",
        "              'linearregression__normalize': [True, False]}\n",
        "\n",
        "grid = GridSearchCV(PolynomialRegression(), param_grid, cv=7)"
      ],
      "execution_count": 17,
      "outputs": []
    },
    {
      "cell_type": "markdown",
      "metadata": {
        "deletable": true,
        "editable": true,
        "id": "kLcEs2-xX5ED"
      },
      "source": [
        "Notice that like a normal estimator, this has not yet been applied to any data.\n",
        "Calling the ``fit()`` method will fit the model at each grid point, keeping track of the scores along the way:"
      ]
    },
    {
      "cell_type": "code",
      "metadata": {
        "deletable": true,
        "editable": true,
        "id": "f2sxK405X5ED"
      },
      "source": [
        "grid.fit(X, y);"
      ],
      "execution_count": 18,
      "outputs": []
    },
    {
      "cell_type": "markdown",
      "metadata": {
        "deletable": true,
        "editable": true,
        "id": "zapFrPJxX5ED"
      },
      "source": [
        "Now that this is fit, we can ask for the best parameters as follows:"
      ]
    },
    {
      "cell_type": "code",
      "metadata": {
        "deletable": true,
        "editable": true,
        "colab": {
          "base_uri": "https://localhost:8080/"
        },
        "id": "WUcEip5UX5ED",
        "outputId": "c3812d05-b17e-4b6b-ec78-144c581de92f"
      },
      "source": [
        "grid.best_params_"
      ],
      "execution_count": 19,
      "outputs": [
        {
          "output_type": "execute_result",
          "data": {
            "text/plain": [
              "{'linearregression__fit_intercept': False,\n",
              " 'linearregression__normalize': True,\n",
              " 'polynomialfeatures__degree': 4}"
            ]
          },
          "metadata": {
            "tags": []
          },
          "execution_count": 19
        }
      ]
    },
    {
      "cell_type": "markdown",
      "metadata": {
        "deletable": true,
        "editable": true,
        "id": "WfUtF6zyX5ED"
      },
      "source": [
        "Finally, if we wish, we can use the best model and show the fit to our data using code from before:"
      ]
    },
    {
      "cell_type": "code",
      "metadata": {
        "deletable": true,
        "editable": true,
        "colab": {
          "base_uri": "https://localhost:8080/",
          "height": 267
        },
        "id": "i33d5dZRX5ED",
        "outputId": "96f731f4-8f6e-428a-e321-54306cf94b9a"
      },
      "source": [
        "model = grid.best_estimator_\n",
        "\n",
        "plt.scatter(X.ravel(), y)\n",
        "lim = plt.axis()\n",
        "y_test = model.fit(X, y).predict(X_test)\n",
        "plt.plot(X_test.ravel(), y_test);\n",
        "plt.axis(lim);"
      ],
      "execution_count": 20,
      "outputs": [
        {
          "output_type": "display_data",
          "data": {
            "image/png": "[encoded data removed]",
            "text/plain": [
              "<Figure size 432x288 with 1 Axes>"
            ]
          },
          "metadata": {
            "tags": []
          }
        }
      ]
    },
    {
      "cell_type": "markdown",
      "metadata": {
        "deletable": true,
        "editable": true,
        "id": "h5sJRLxiX5ED"
      },
      "source": [
        "The grid search provides many more options, including the ability to specify a custom scoring function, to parallelize the computations, to do randomized searches, and more.\n",
        "For information, see the examples in [In-Depth: Kernel Density Estimation](05.13-Kernel-Density-Estimation.ipynb) and [Feature Engineering: Working with Images](05.14-Image-Features.ipynb), or refer to Scikit-Learn's [grid search documentation](http://Scikit-Learn.org/stable/modules/grid_search.html)."
      ]
    },
    {
      "cell_type": "markdown",
      "metadata": {
        "deletable": true,
        "editable": true,
        "id": "KS5BQIZIX5ED"
      },
      "source": [
        "## Summary\n",
        "\n",
        "In this section, we have begun to explore the concept of model validation and hyperparameter optimization, focusing on intuitive aspects of the bias–variance trade-off and how it comes into play when fitting models to data.\n",
        "In particular, we found that the use of a validation set or cross-validation approach is *vital* when tuning parameters in order to avoid over-fitting for more complex/flexible models.\n",
        "\n",
        "In later sections, we will discuss the details of particularly useful models, and throughout will talk about what tuning is available for these models and how these free parameters affect model complexity.\n",
        "Keep the lessons of this section in mind as you read on and learn about these machine learning approaches!"
      ]
    },
    {
      "cell_type": "markdown",
      "metadata": {
        "deletable": true,
        "editable": true,
        "id": "G5iOp84HX5ED"
      },
      "source": [
        "<!--NAVIGATION-->\n",
        "< [Introducing Scikit-Learn](05.02-Introducing-Scikit-Learn.ipynb) | [Contents](Index.ipynb) | [Feature Engineering](05.04-Feature-Engineering.ipynb) >\n",
        "\n",
        "<a href=\"https://colab.research.google.com/github/jakevdp/PythonDataScienceHandbook/blob/master/notebooks/05.03-Hyperparameters-and-Model-Validation.ipynb\"><img align=\"left\" src=\"https://colab.research.google.com/assets/colab-badge.svg\" alt=\"Open in Colab\" title=\"Open and Execute in Google Colaboratory\"></a>\n"
      ]
    }
  ]
}
