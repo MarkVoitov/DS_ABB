{
 "cells": [
  {
   "cell_type": "markdown",
   "metadata": {},
   "source": [
    "#### keras practice"
   ]
  },
  {
   "cell_type": "code",
   "execution_count": 1,
   "metadata": {},
   "outputs": [],
   "source": [
    "import numpy as np\n",
    "import pandas as pd\n",
    "import tensorflow as tf\n",
    "from tensorflow import keras\n",
    "import matplotlib.pyplot as plt\n",
    "%matplotlib inline"
   ]
  },
  {
   "cell_type": "code",
   "execution_count": 2,
   "metadata": {},
   "outputs": [
    {
     "data": {
      "text/plain": [
       "'2.4.0'"
      ]
     },
     "execution_count": 2,
     "metadata": {},
     "output_type": "execute_result"
    }
   ],
   "source": [
    "tf.__version__"
   ]
  },
  {
   "cell_type": "code",
   "execution_count": 3,
   "metadata": {},
   "outputs": [
    {
     "data": {
      "text/plain": [
       "'2.4.0'"
      ]
     },
     "execution_count": 3,
     "metadata": {},
     "output_type": "execute_result"
    }
   ],
   "source": [
    "keras.__version__"
   ]
  },
  {
   "cell_type": "code",
   "execution_count": 4,
   "metadata": {},
   "outputs": [],
   "source": [
    "# import fashion-MNIST dataset\n",
    "fashion_mnist = keras.datasets.fashion_mnist"
   ]
  },
  {
   "cell_type": "code",
   "execution_count": 5,
   "metadata": {},
   "outputs": [],
   "source": [
    "(X_train_full, y_train_full), (X_test, y_test) = fashion_mnist.load_data()"
   ]
  },
  {
   "cell_type": "code",
   "execution_count": 6,
   "metadata": {},
   "outputs": [
    {
     "data": {
      "text/plain": [
       "(60000, 28, 28)"
      ]
     },
     "execution_count": 6,
     "metadata": {},
     "output_type": "execute_result"
    }
   ],
   "source": [
    "X_train_full.shape"
   ]
  },
  {
   "cell_type": "code",
   "execution_count": 7,
   "metadata": {},
   "outputs": [
    {
     "data": {
      "text/plain": [
       "dtype('uint8')"
      ]
     },
     "execution_count": 7,
     "metadata": {},
     "output_type": "execute_result"
    }
   ],
   "source": [
    "X_train_full.dtype"
   ]
  },
  {
   "cell_type": "code",
   "execution_count": 8,
   "metadata": {},
   "outputs": [],
   "source": [
    "X_valid, X_train = X_train_full[:5000] / 255.0, X_train_full[5000:] / 255.0\n",
    "y_valid, y_train = y_train_full[:5000], y_train_full[5000:]"
   ]
  },
  {
   "cell_type": "code",
   "execution_count": 9,
   "metadata": {},
   "outputs": [],
   "source": [
    "class_names = \"a b c d e f g h j k\".split()\n",
    "# 0 T-shirt/top\n",
    "# 1 Trouser\n",
    "# 2 Pullover\n",
    "# 3 Dress\n",
    "# 4 Coat\n",
    "# 5 Sandal\n",
    "# 6 Shirt\n",
    "# 7 Sneaker\n",
    "# 8 Bag\n",
    "# 9 Ankle boot"
   ]
  },
  {
   "cell_type": "code",
   "execution_count": 10,
   "metadata": {},
   "outputs": [],
   "source": [
    "# build model\n",
    "\n",
    "# input layer\n",
    "model = keras.Sequential()\n",
    "\n",
    "# hidden layer Flatten\n",
    "model.add(keras.layers.Flatten(input_shape=[28,28]))\n",
    "# model.add(keras.layers.InputLayer(input_shape=[28,28])) # the same\n",
    "\n",
    "# hidden layer Dense 1\n",
    "model.add(keras.layers.Dense(500, activation=\"relu\"))\n",
    "\n",
    "# hidden layer Dense 2\n",
    "model.add(keras.layers.Dense(200, activation=\"relu\"))\n",
    "\n",
    "# output layer Dense 3\n",
    "model.add(keras.layers.Dense(10, activation=\"softmax\"))"
   ]
  },
  {
   "cell_type": "code",
   "execution_count": 11,
   "metadata": {},
   "outputs": [
    {
     "name": "stdout",
     "output_type": "stream",
     "text": [
      "Model: \"sequential\"\n",
      "_________________________________________________________________\n",
      "Layer (type)                 Output Shape              Param #   \n",
      "=================================================================\n",
      "flatten (Flatten)            (None, 784)               0         \n",
      "_________________________________________________________________\n",
      "dense (Dense)                (None, 500)               392500    \n",
      "_________________________________________________________________\n",
      "dense_1 (Dense)              (None, 200)               100200    \n",
      "_________________________________________________________________\n",
      "dense_2 (Dense)              (None, 10)                2010      \n",
      "=================================================================\n",
      "Total params: 494,710\n",
      "Trainable params: 494,710\n",
      "Non-trainable params: 0\n",
      "_________________________________________________________________\n"
     ]
    }
   ],
   "source": [
    "# model info\n",
    "model.summary()"
   ]
  },
  {
   "cell_type": "code",
   "execution_count": 12,
   "metadata": {},
   "outputs": [
    {
     "data": {
      "text/plain": [
       "[<tensorflow.python.keras.layers.core.Flatten at 0x1cfb1f2e948>,\n",
       " <tensorflow.python.keras.layers.core.Dense at 0x1cfb1f2e308>,\n",
       " <tensorflow.python.keras.layers.core.Dense at 0x1cfb20b64c8>,\n",
       " <tensorflow.python.keras.layers.core.Dense at 0x1cfb2102748>]"
      ]
     },
     "execution_count": 12,
     "metadata": {},
     "output_type": "execute_result"
    }
   ],
   "source": [
    "model.layers"
   ]
  },
  {
   "cell_type": "code",
   "execution_count": 14,
   "metadata": {},
   "outputs": [],
   "source": [
    "h = model.get_layer(\"dense_2\")"
   ]
  },
  {
   "cell_type": "code",
   "execution_count": 15,
   "metadata": {},
   "outputs": [
    {
     "data": {
      "text/plain": [
       "(200, 10)"
      ]
     },
     "execution_count": 15,
     "metadata": {},
     "output_type": "execute_result"
    }
   ],
   "source": [
    "weights, biases = h.get_weights()\n",
    "weights.shape"
   ]
  },
  {
   "cell_type": "code",
   "execution_count": 16,
   "metadata": {},
   "outputs": [
    {
     "data": {
      "text/plain": [
       "(10,)"
      ]
     },
     "execution_count": 16,
     "metadata": {},
     "output_type": "execute_result"
    }
   ],
   "source": [
    "biases.shape"
   ]
  },
  {
   "cell_type": "code",
   "execution_count": 17,
   "metadata": {},
   "outputs": [],
   "source": [
    "model.compile(loss = \"sparse_categorical_crossentropy\", optimizer=\"sgd\", metrics=[\"accuracy\"])"
   ]
  },
  {
   "cell_type": "code",
   "execution_count": 18,
   "metadata": {},
   "outputs": [
    {
     "name": "stdout",
     "output_type": "stream",
     "text": [
      "Epoch 1/30\n",
      "1000/1000 [==============================] - 12s 11ms/step - loss: 1.0826 - accuracy: 0.6792 - val_loss: 0.5460 - val_accuracy: 0.8228\n",
      "Epoch 2/30\n",
      "1000/1000 [==============================] - 11s 11ms/step - loss: 0.5426 - accuracy: 0.8158 - val_loss: 0.4724 - val_accuracy: 0.8416\n",
      "Epoch 3/30\n",
      "1000/1000 [==============================] - 10s 10ms/step - loss: 0.4732 - accuracy: 0.8378 - val_loss: 0.4477 - val_accuracy: 0.8528\n",
      "Epoch 4/30\n",
      "1000/1000 [==============================] - 10s 10ms/step - loss: 0.4446 - accuracy: 0.8452 - val_loss: 0.4206 - val_accuracy: 0.8568\n",
      "Epoch 5/30\n",
      "1000/1000 [==============================] - 11s 11ms/step - loss: 0.4307 - accuracy: 0.8499 - val_loss: 0.4251 - val_accuracy: 0.8566\n",
      "Epoch 6/30\n",
      "1000/1000 [==============================] - 10s 10ms/step - loss: 0.4087 - accuracy: 0.8572 - val_loss: 0.4005 - val_accuracy: 0.8600\n",
      "Epoch 7/30\n",
      "1000/1000 [==============================] - 10s 10ms/step - loss: 0.3924 - accuracy: 0.8622 - val_loss: 0.3879 - val_accuracy: 0.8672\n",
      "Epoch 8/30\n",
      "1000/1000 [==============================] - 10s 10ms/step - loss: 0.3796 - accuracy: 0.8682 - val_loss: 0.3948 - val_accuracy: 0.8634\n",
      "Epoch 9/30\n",
      "1000/1000 [==============================] - 10s 10ms/step - loss: 0.3719 - accuracy: 0.8700 - val_loss: 0.4022 - val_accuracy: 0.8612\n",
      "Epoch 10/30\n",
      "1000/1000 [==============================] - 10s 10ms/step - loss: 0.3659 - accuracy: 0.8737 - val_loss: 0.3843 - val_accuracy: 0.8704\n",
      "Epoch 11/30\n",
      "1000/1000 [==============================] - 10s 10ms/step - loss: 0.3596 - accuracy: 0.8764 - val_loss: 0.3704 - val_accuracy: 0.8732\n",
      "Epoch 12/30\n",
      "1000/1000 [==============================] - 10s 10ms/step - loss: 0.3430 - accuracy: 0.8790 - val_loss: 0.3570 - val_accuracy: 0.8760\n",
      "Epoch 13/30\n",
      "1000/1000 [==============================] - 10s 10ms/step - loss: 0.3402 - accuracy: 0.8800 - val_loss: 0.3544 - val_accuracy: 0.8756\n",
      "Epoch 14/30\n",
      "1000/1000 [==============================] - 10s 10ms/step - loss: 0.3370 - accuracy: 0.8817 - val_loss: 0.3579 - val_accuracy: 0.8780\n",
      "Epoch 15/30\n",
      "1000/1000 [==============================] - 10s 10ms/step - loss: 0.3252 - accuracy: 0.8851 - val_loss: 0.3381 - val_accuracy: 0.8846\n",
      "Epoch 16/30\n",
      "1000/1000 [==============================] - 10s 10ms/step - loss: 0.3211 - accuracy: 0.8866 - val_loss: 0.3300 - val_accuracy: 0.8838\n",
      "Epoch 17/30\n",
      "1000/1000 [==============================] - 10s 10ms/step - loss: 0.3178 - accuracy: 0.8852 - val_loss: 0.3420 - val_accuracy: 0.8810\n",
      "Epoch 18/30\n",
      "1000/1000 [==============================] - 10s 10ms/step - loss: 0.3106 - accuracy: 0.8893 - val_loss: 0.3325 - val_accuracy: 0.8824\n",
      "Epoch 19/30\n",
      "1000/1000 [==============================] - 10s 10ms/step - loss: 0.3055 - accuracy: 0.8920 - val_loss: 0.3286 - val_accuracy: 0.8866\n",
      "Epoch 20/30\n",
      "1000/1000 [==============================] - 10s 10ms/step - loss: 0.3028 - accuracy: 0.8911 - val_loss: 0.3222 - val_accuracy: 0.8868\n",
      "Epoch 21/30\n",
      "1000/1000 [==============================] - 10s 10ms/step - loss: 0.3002 - accuracy: 0.8931 - val_loss: 0.3170 - val_accuracy: 0.8904\n",
      "Epoch 22/30\n",
      "1000/1000 [==============================] - 10s 10ms/step - loss: 0.2974 - accuracy: 0.8938 - val_loss: 0.3128 - val_accuracy: 0.8888\n",
      "Epoch 23/30\n",
      "1000/1000 [==============================] - 10s 10ms/step - loss: 0.2891 - accuracy: 0.8954 - val_loss: 0.3145 - val_accuracy: 0.8882\n",
      "Epoch 24/30\n",
      "1000/1000 [==============================] - 11s 11ms/step - loss: 0.2835 - accuracy: 0.8995 - val_loss: 0.3149 - val_accuracy: 0.8900\n",
      "Epoch 25/30\n",
      "1000/1000 [==============================] - 11s 11ms/step - loss: 0.2833 - accuracy: 0.9003 - val_loss: 0.3108 - val_accuracy: 0.8916\n",
      "Epoch 26/30\n",
      "1000/1000 [==============================] - 11s 11ms/step - loss: 0.2799 - accuracy: 0.8994 - val_loss: 0.3116 - val_accuracy: 0.8874\n",
      "Epoch 27/30\n",
      "1000/1000 [==============================] - 10s 10ms/step - loss: 0.2744 - accuracy: 0.9026 - val_loss: 0.3281 - val_accuracy: 0.8854\n",
      "Epoch 28/30\n",
      "1000/1000 [==============================] - 11s 11ms/step - loss: 0.2683 - accuracy: 0.9034 - val_loss: 0.3064 - val_accuracy: 0.8914\n",
      "Epoch 29/30\n",
      "1000/1000 [==============================] - 10s 10ms/step - loss: 0.2619 - accuracy: 0.9077 - val_loss: 0.3047 - val_accuracy: 0.8902\n",
      "Epoch 30/30\n",
      "1000/1000 [==============================] - 11s 11ms/step - loss: 0.2589 - accuracy: 0.9064 - val_loss: 0.3055 - val_accuracy: 0.8906\n"
     ]
    }
   ],
   "source": [
    "history = model.fit(X_train, y_train, batch_size=55, epochs=30, validation_data=(X_valid, y_valid))"
   ]
  },
  {
   "cell_type": "code",
   "execution_count": 19,
   "metadata": {},
   "outputs": [
    {
     "data": {
      "image/png": "[encoded data removed]",
      "text/plain": [
       "<Figure size 576x360 with 1 Axes>"
      ]
     },
     "metadata": {
      "needs_background": "light"
     },
     "output_type": "display_data"
    }
   ],
   "source": [
    "# result visualization\n",
    "pd.DataFrame(history.history).plot(figsize=(8,5))\n",
    "plt.grid(True)\n",
    "plt.gca().set_ylim(0,1)\n",
    "plt.show()"
   ]
  },
  {
   "cell_type": "code",
   "execution_count": 20,
   "metadata": {},
   "outputs": [
    {
     "name": "stdout",
     "output_type": "stream",
     "text": [
      "313/313 [==============================] - 2s 7ms/step - loss: 68.3753 - accuracy: 0.8435\n"
     ]
    },
    {
     "data": {
      "text/plain": [
       "[68.37527465820312, 0.843500018119812]"
      ]
     },
     "execution_count": 20,
     "metadata": {},
     "output_type": "execute_result"
    }
   ],
   "source": [
    "model.evaluate(X_test, y_test)"
   ]
  },
  {
   "cell_type": "code",
   "execution_count": 21,
   "metadata": {},
   "outputs": [
    {
     "data": {
      "text/plain": [
       "array([[0., 0., 0., 0., 0., 0., 0., 0., 0., 1.],\n",
       "       [0., 0., 1., 0., 0., 0., 0., 0., 0., 0.],\n",
       "       [0., 1., 0., 0., 0., 0., 0., 0., 0., 0.]], dtype=float32)"
      ]
     },
     "execution_count": 21,
     "metadata": {},
     "output_type": "execute_result"
    }
   ],
   "source": [
    "X_new = X_test[:3]\n",
    "y_proba = model.predict(X_new)\n",
    "y_proba.round(2)"
   ]
  },
  {
   "cell_type": "code",
   "execution_count": 22,
   "metadata": {},
   "outputs": [
    {
     "data": {
      "text/plain": [
       "array([9, 2, 1], dtype=int64)"
      ]
     },
     "execution_count": 22,
     "metadata": {},
     "output_type": "execute_result"
    }
   ],
   "source": [
    "y_pred = np.argmax( model.predict(X_new), axis=-1)\n",
    "y_pred"
   ]
  },
  {
   "cell_type": "markdown",
   "metadata": {},
   "source": [
    "#### Implement for regression"
   ]
  },
  {
   "cell_type": "code",
   "execution_count": 23,
   "metadata": {},
   "outputs": [],
   "source": [
    "from sklearn.datasets import fetch_california_housing\n",
    "from sklearn.model_selection import train_test_split\n",
    "from sklearn.preprocessing import StandardScaler\n",
    "\n",
    "housing = fetch_california_housing()"
   ]
  },
  {
   "cell_type": "code",
   "execution_count": 24,
   "metadata": {},
   "outputs": [],
   "source": [
    "X_train_full,  X_test, y_train_full, y_test = train_test_split(housing.data, housing.target)\n",
    "X_train, X_valid, y_train, y_valid = train_test_split(X_train_full, y_train_full)"
   ]
  },
  {
   "cell_type": "code",
   "execution_count": 25,
   "metadata": {},
   "outputs": [
    {
     "data": {
      "text/plain": [
       "array([4.526, 3.585, 3.521, ..., 0.923, 0.847, 0.894])"
      ]
     },
     "execution_count": 25,
     "metadata": {},
     "output_type": "execute_result"
    }
   ],
   "source": [
    "housing.target"
   ]
  },
  {
   "cell_type": "code",
   "execution_count": 26,
   "metadata": {},
   "outputs": [
    {
     "data": {
      "text/plain": [
       "(11610, 8)"
      ]
     },
     "execution_count": 26,
     "metadata": {},
     "output_type": "execute_result"
    }
   ],
   "source": [
    "# data normalization\n",
    "scaler = StandardScaler()\n",
    "X_train = scaler.fit_transform(X_train)\n",
    "X_test = scaler.fit_transform(X_test)\n",
    "X_valid = scaler.fit_transform(X_valid)\n",
    "X_train.shape"
   ]
  },
  {
   "cell_type": "code",
   "execution_count": 27,
   "metadata": {},
   "outputs": [],
   "source": [
    "model = keras.models.Sequential([keras.layers.Dense(10, activation=\"relu\", input_shape=X_train.shape[1:]), \n",
    "                                 keras.layers.Dense(1) ])"
   ]
  },
  {
   "cell_type": "code",
   "execution_count": 28,
   "metadata": {},
   "outputs": [],
   "source": [
    "model.compile(loss=\"mean_squared_error\", optimizer=\"sgd\")"
   ]
  },
  {
   "cell_type": "code",
   "execution_count": 29,
   "metadata": {},
   "outputs": [
    {
     "name": "stdout",
     "output_type": "stream",
     "text": [
      "Epoch 1/20\n",
      "363/363 [==============================] - 3s 5ms/step - loss: 1.6703 - val_loss: 0.5032\n",
      "Epoch 2/20\n",
      "363/363 [==============================] - 2s 5ms/step - loss: 0.5072 - val_loss: 0.6122\n",
      "Epoch 3/20\n",
      "363/363 [==============================] - 1s 4ms/step - loss: 0.4583 - val_loss: 0.6571\n",
      "Epoch 4/20\n",
      "363/363 [==============================] - 2s 4ms/step - loss: 0.5114 - val_loss: 1.2308\n",
      "Epoch 5/20\n",
      "363/363 [==============================] - 1s 4ms/step - loss: 1.1724 - val_loss: 3.2200\n",
      "Epoch 6/20\n",
      "363/363 [==============================] - 2s 5ms/step - loss: 0.4200 - val_loss: 3.2987- ETA: 0s - loss: 0.4\n",
      "Epoch 7/20\n",
      "363/363 [==============================] - 1s 3ms/step - loss: 0.4226 - val_loss: 3.1448\n",
      "Epoch 8/20\n",
      "363/363 [==============================] - 2s 6ms/step - loss: 0.4237 - val_loss: 3.2556\n",
      "Epoch 9/20\n",
      "363/363 [==============================] - 2s 6ms/step - loss: 0.3982 - val_loss: 3.3310\n",
      "Epoch 10/20\n",
      "363/363 [==============================] - 1s 4ms/step - loss: 0.3693 - val_loss: 3.4156\n",
      "Epoch 11/20\n",
      "363/363 [==============================] - 1s 4ms/step - loss: 0.3925 - val_loss: 3.3396\n",
      "Epoch 12/20\n",
      "363/363 [==============================] - 2s 5ms/step - loss: 0.4011 - val_loss: 3.4524\n",
      "Epoch 13/20\n",
      "363/363 [==============================] - 2s 6ms/step - loss: 0.3855 - val_loss: 3.5008\n",
      "Epoch 14/20\n",
      "363/363 [==============================] - 2s 4ms/step - loss: 0.3939 - val_loss: 3.5401\n",
      "Epoch 15/20\n",
      "363/363 [==============================] - 2s 5ms/step - loss: 0.3580 - val_loss: 3.7520\n",
      "Epoch 16/20\n",
      "363/363 [==============================] - 2s 4ms/step - loss: 0.3551 - val_loss: 3.6681\n",
      "Epoch 17/20\n",
      "363/363 [==============================] - 1s 4ms/step - loss: 0.3800 - val_loss: 3.8477\n",
      "Epoch 18/20\n",
      "363/363 [==============================] - 1s 4ms/step - loss: 0.3749 - val_loss: 3.8743\n",
      "Epoch 19/20\n",
      "363/363 [==============================] - 2s 4ms/step - loss: 0.3582 - val_loss: 3.9049\n",
      "Epoch 20/20\n",
      "363/363 [==============================] - 1s 4ms/step - loss: 0.3686 - val_loss: 4.0065\n"
     ]
    },
    {
     "data": {
      "text/plain": [
       "<tensorflow.python.keras.callbacks.History at 0x1cfb27dc448>"
      ]
     },
     "execution_count": 29,
     "metadata": {},
     "output_type": "execute_result"
    }
   ],
   "source": [
    "model.fit(X_train, y_train, epochs=20, validation_data=(X_valid, y_valid))"
   ]
  },
  {
   "cell_type": "code",
   "execution_count": 30,
   "metadata": {},
   "outputs": [
    {
     "name": "stdout",
     "output_type": "stream",
     "text": [
      "162/162 [==============================] - 0s 2ms/step - loss: 0.4216\n"
     ]
    },
    {
     "data": {
      "text/plain": [
       "0.42155081033706665"
      ]
     },
     "execution_count": 30,
     "metadata": {},
     "output_type": "execute_result"
    }
   ],
   "source": [
    "model.evaluate(X_test, y_test)"
   ]
  },
  {
   "cell_type": "markdown",
   "metadata": {},
   "source": [
    "#### Functional interface"
   ]
  },
  {
   "cell_type": "code",
   "execution_count": 31,
   "metadata": {},
   "outputs": [],
   "source": [
    "input_ = keras.layers.Input(shape= X_train.shape[1:])\n",
    "hidden1 = keras.layers.Dense(30, activation=\"relu\")(input_)\n",
    "hidden2 = keras.layers.Dense(30, activation=\"relu\")(hidden1)\n",
    "concat = keras.layers.Concatenate()([input_, hidden2])\n",
    "output = keras.layers.Dense(1)(concat)\n",
    "model = keras.Model(inputs = [input_], outputs = [output])"
   ]
  },
  {
   "cell_type": "code",
   "execution_count": 36,
   "metadata": {},
   "outputs": [],
   "source": [
    "model.compile(loss = \"categorical_crossentropy\", optimizer=\"sgd\", metrics=[\"accuracy\"])"
   ]
  },
  {
   "cell_type": "code",
   "execution_count": 37,
   "metadata": {},
   "outputs": [
    {
     "name": "stdout",
     "output_type": "stream",
     "text": [
      "Model: \"model\"\n",
      "__________________________________________________________________________________________________\n",
      "Layer (type)                    Output Shape         Param #     Connected to                     \n",
      "==================================================================================================\n",
      "input_1 (InputLayer)            [(None, 8)]          0                                            \n",
      "__________________________________________________________________________________________________\n",
      "dense_5 (Dense)                 (None, 30)           270         input_1[0][0]                    \n",
      "__________________________________________________________________________________________________\n",
      "dense_6 (Dense)                 (None, 30)           930         dense_5[0][0]                    \n",
      "__________________________________________________________________________________________________\n",
      "concatenate (Concatenate)       (None, 38)           0           input_1[0][0]                    \n",
      "                                                                 dense_6[0][0]                    \n",
      "__________________________________________________________________________________________________\n",
      "dense_7 (Dense)                 (None, 1)            39          concatenate[0][0]                \n",
      "==================================================================================================\n",
      "Total params: 1,239\n",
      "Trainable params: 1,239\n",
      "Non-trainable params: 0\n",
      "__________________________________________________________________________________________________\n"
     ]
    }
   ],
   "source": [
    "model.summary()"
   ]
  },
  {
   "cell_type": "code",
   "execution_count": 38,
   "metadata": {},
   "outputs": [
    {
     "name": "stdout",
     "output_type": "stream",
     "text": [
      "INFO:tensorflow:Assets written to: keras_model\\assets\n"
     ]
    }
   ],
   "source": [
    "model.save(\"keras_model\")\n",
    "\n",
    "model = keras.models.load_model(\"keras_model\")"
   ]
  },
  {
   "cell_type": "markdown",
   "metadata": {},
   "source": [
    "#### Callbacks & early stopping"
   ]
  },
  {
   "cell_type": "code",
   "execution_count": 39,
   "metadata": {},
   "outputs": [
    {
     "data": {
      "text/plain": [
       "[<tensorflow.python.keras.engine.input_layer.InputLayer at 0x1cf987214c8>,\n",
       " <tensorflow.python.keras.layers.core.Dense at 0x1cf9872dc88>,\n",
       " <tensorflow.python.keras.layers.core.Dense at 0x1cf986f2bc8>,\n",
       " <tensorflow.python.keras.layers.merge.Concatenate at 0x1cf986e7e88>,\n",
       " <tensorflow.python.keras.layers.core.Dense at 0x1cf9877e308>]"
      ]
     },
     "execution_count": 39,
     "metadata": {},
     "output_type": "execute_result"
    }
   ],
   "source": [
    "model.layers"
   ]
  },
  {
   "cell_type": "code",
   "execution_count": 40,
   "metadata": {},
   "outputs": [
    {
     "name": "stdout",
     "output_type": "stream",
     "text": [
      "Epoch 1/20\n",
      "46/46 [==============================] - 2s 17ms/step - loss: 2.4766e-07 - accuracy: 0.0012 - val_loss: 2.4240e-07 - val_accuracy: 2.5840e-04\n",
      "Epoch 2/20\n",
      "46/46 [==============================] - 0s 9ms/step - loss: 2.4766e-07 - accuracy: 0.0012 - val_loss: 2.4240e-07 - val_accuracy: 2.5840e-04\n",
      "Epoch 3/20\n",
      "46/46 [==============================] - 0s 11ms/step - loss: 2.4766e-07 - accuracy: 0.0012 - val_loss: 2.4240e-07 - val_accuracy: 2.5840e-04\n",
      "Epoch 4/20\n",
      "46/46 [==============================] - 0s 8ms/step - loss: 2.4766e-07 - accuracy: 0.0012 - val_loss: 2.4240e-07 - val_accuracy: 2.5840e-04\n",
      "Epoch 5/20\n",
      "46/46 [==============================] - 0s 7ms/step - loss: 2.4766e-07 - accuracy: 0.0012 - val_loss: 2.4240e-07 - val_accuracy: 2.5840e-04\n",
      "Epoch 6/20\n",
      "46/46 [==============================] - 0s 11ms/step - loss: 2.4766e-07 - accuracy: 0.0012 - val_loss: 2.4240e-07 - val_accuracy: 2.5840e-04\n",
      "Epoch 7/20\n",
      "46/46 [==============================] - 0s 9ms/step - loss: 2.4766e-07 - accuracy: 0.0012 - val_loss: 2.4240e-07 - val_accuracy: 2.5840e-04\n",
      "Epoch 8/20\n",
      "46/46 [==============================] - 0s 6ms/step - loss: 2.4766e-07 - accuracy: 0.0012 - val_loss: 2.4240e-07 - val_accuracy: 2.5840e-04\n",
      "Epoch 9/20\n",
      "46/46 [==============================] - 0s 10ms/step - loss: 2.4766e-07 - accuracy: 0.0012 - val_loss: 2.4240e-07 - val_accuracy: 2.5840e-04\n",
      "Epoch 10/20\n",
      "46/46 [==============================] - 0s 10ms/step - loss: 2.4766e-07 - accuracy: 0.0012 - val_loss: 2.4240e-07 - val_accuracy: 2.5840e-04\n",
      "Epoch 11/20\n",
      "46/46 [==============================] - 0s 6ms/step - loss: 2.4766e-07 - accuracy: 0.0012 - val_loss: 2.4240e-07 - val_accuracy: 2.5840e-04\n",
      "Epoch 12/20\n",
      "46/46 [==============================] - 0s 8ms/step - loss: 2.4766e-07 - accuracy: 0.0012 - val_loss: 2.4240e-07 - val_accuracy: 2.5840e-04\n",
      "Epoch 13/20\n",
      "46/46 [==============================] - 1s 12ms/step - loss: 2.4766e-07 - accuracy: 0.0012 - val_loss: 2.4240e-07 - val_accuracy: 2.5840e-04\n",
      "Epoch 14/20\n",
      "46/46 [==============================] - 0s 7ms/step - loss: 2.4766e-07 - accuracy: 0.0012 - val_loss: 2.4240e-07 - val_accuracy: 2.5840e-04\n",
      "Epoch 15/20\n",
      "46/46 [==============================] - 1s 13ms/step - loss: 2.4766e-07 - accuracy: 0.0012 - val_loss: 2.4240e-07 - val_accuracy: 2.5840e-04\n",
      "Epoch 16/20\n",
      "46/46 [==============================] - 0s 6ms/step - loss: 2.4766e-07 - accuracy: 0.0012 - val_loss: 2.4240e-07 - val_accuracy: 2.5840e-04\n",
      "Epoch 17/20\n",
      "46/46 [==============================] - 0s 9ms/step - loss: 2.4766e-07 - accuracy: 0.0012 - val_loss: 2.4240e-07 - val_accuracy: 2.5840e-04\n",
      "Epoch 18/20\n",
      "46/46 [==============================] - 0s 10ms/step - loss: 2.4766e-07 - accuracy: 0.0012 - val_loss: 2.4240e-07 - val_accuracy: 2.5840e-04\n",
      "Epoch 19/20\n",
      "46/46 [==============================] - 0s 5ms/step - loss: 2.4766e-07 - accuracy: 0.0012 - val_loss: 2.4240e-07 - val_accuracy: 2.5840e-04\n",
      "Epoch 20/20\n",
      "46/46 [==============================] - 0s 10ms/step - loss: 2.4766e-07 - accuracy: 0.0012 - val_loss: 2.4240e-07 - val_accuracy: 2.5840e-04\n"
     ]
    }
   ],
   "source": [
    "history = model.fit(X_train, y_train, batch_size=256, epochs=20, validation_data=(X_valid, y_valid))"
   ]
  },
  {
   "cell_type": "code",
   "execution_count": 43,
   "metadata": {},
   "outputs": [
    {
     "name": "stdout",
     "output_type": "stream",
     "text": [
      "Epoch 1/10\n",
      "363/363 [==============================] - 2s 6ms/step - loss: 2.4766e-07 - accuracy: 0.0012 - val_loss: 2.4240e-07 - val_accuracy: 2.5840e-04\n",
      "INFO:tensorflow:Assets written to: keras_model\\assets\n",
      "Epoch 2/10\n",
      "363/363 [==============================] - 2s 5ms/step - loss: 2.4766e-07 - accuracy: 0.0012 - val_loss: 2.4240e-07 - val_accuracy: 2.5840e-04\n",
      "INFO:tensorflow:Assets written to: keras_model\\assets\n",
      "Epoch 3/10\n",
      "363/363 [==============================] - 2s 5ms/step - loss: 2.4766e-07 - accuracy: 0.0012 - val_loss: 2.4240e-07 - val_accuracy: 2.5840e-04\n",
      "INFO:tensorflow:Assets written to: keras_model\\assets\n",
      "Epoch 4/10\n",
      "363/363 [==============================] - 2s 6ms/step - loss: 2.4766e-07 - accuracy: 0.0012 - val_loss: 2.4240e-07 - val_accuracy: 2.5840e-04\n",
      "INFO:tensorflow:Assets written to: keras_model\\assets\n",
      "Epoch 5/10\n",
      "363/363 [==============================] - 2s 5ms/step - loss: 2.4766e-07 - accuracy: 0.0012 - val_loss: 2.4240e-07 - val_accuracy: 2.5840e-04\n",
      "INFO:tensorflow:Assets written to: keras_model\\assets\n",
      "Epoch 6/10\n",
      "363/363 [==============================] - 2s 5ms/step - loss: 2.4766e-07 - accuracy: 0.0012 - val_loss: 2.4240e-07 - val_accuracy: 2.5840e-04\n",
      "INFO:tensorflow:Assets written to: keras_model\\assets\n",
      "Epoch 7/10\n",
      "363/363 [==============================] - 2s 5ms/step - loss: 2.4766e-07 - accuracy: 0.0012 - val_loss: 2.4240e-07 - val_accuracy: 2.5840e-04\n",
      "INFO:tensorflow:Assets written to: keras_model\\assets\n",
      "Epoch 8/10\n",
      "363/363 [==============================] - 2s 6ms/step - loss: 2.4766e-07 - accuracy: 0.0012 - val_loss: 2.4240e-07 - val_accuracy: 2.5840e-04\n",
      "INFO:tensorflow:Assets written to: keras_model\\assets\n",
      "Epoch 9/10\n",
      "363/363 [==============================] - 2s 5ms/step - loss: 2.4766e-07 - accuracy: 0.0012 - val_loss: 2.4240e-07 - val_accuracy: 2.5840e-04\n",
      "INFO:tensorflow:Assets written to: keras_model\\assets\n",
      "Epoch 10/10\n",
      "363/363 [==============================] - 2s 5ms/step - loss: 2.4766e-07 - accuracy: 0.0012 - val_loss: 2.4240e-07 - val_accuracy: 2.5840e-04\n",
      "INFO:tensorflow:Assets written to: keras_model\\assets\n"
     ]
    }
   ],
   "source": [
    "checkpoint_cb = keras.callbacks.ModelCheckpoint(\"keras_model\")\n",
    "\n",
    "history = model.fit(X_train, y_train, epochs=10,\n",
    "                    validation_data=(X_valid, y_valid),\n",
    "                    callbacks=[checkpoint_cb])"
   ]
  },
  {
   "cell_type": "code",
   "execution_count": 44,
   "metadata": {},
   "outputs": [
    {
     "name": "stdout",
     "output_type": "stream",
     "text": [
      "Epoch 1/100\n",
      "363/363 [==============================] - 2s 5ms/step - loss: 2.4766e-07 - accuracy: 0.0012 - val_loss: 2.4240e-07 - val_accuracy: 2.5840e-04\n",
      "INFO:tensorflow:Assets written to: keras_model\\assets\n",
      "Epoch 2/100\n",
      "363/363 [==============================] - 2s 5ms/step - loss: 2.4766e-07 - accuracy: 0.0012 - val_loss: 2.4240e-07 - val_accuracy: 2.5840e-04\n",
      "INFO:tensorflow:Assets written to: keras_model\\assets\n",
      "Epoch 3/100\n",
      "363/363 [==============================] - 2s 5ms/step - loss: 2.4766e-07 - accuracy: 0.0012 - val_loss: 2.4240e-07 - val_accuracy: 2.5840e-04\n",
      "INFO:tensorflow:Assets written to: keras_model\\assets\n",
      "Epoch 4/100\n",
      "363/363 [==============================] - 2s 5ms/step - loss: 2.4766e-07 - accuracy: 0.0012 - val_loss: 2.4240e-07 - val_accuracy: 2.5840e-04\n",
      "INFO:tensorflow:Assets written to: keras_model\\assets\n",
      "Epoch 5/100\n",
      "363/363 [==============================] - 2s 5ms/step - loss: 2.4766e-07 - accuracy: 0.0012 - val_loss: 2.4240e-07 - val_accuracy: 2.5840e-04\n",
      "INFO:tensorflow:Assets written to: keras_model\\assets\n",
      "Epoch 6/100\n",
      "363/363 [==============================] - 2s 5ms/step - loss: 2.4766e-07 - accuracy: 0.0012 - val_loss: 2.4240e-07 - val_accuracy: 2.5840e-04\n",
      "INFO:tensorflow:Assets written to: keras_model\\assets\n",
      "Epoch 7/100\n",
      "363/363 [==============================] - 2s 5ms/step - loss: 2.4766e-07 - accuracy: 0.0012 - val_loss: 2.4240e-07 - val_accuracy: 2.5840e-04\n",
      "INFO:tensorflow:Assets written to: keras_model\\assets\n",
      "Epoch 8/100\n",
      "363/363 [==============================] - 2s 7ms/step - loss: 2.4766e-07 - accuracy: 0.0012 - val_loss: 2.4240e-07 - val_accuracy: 2.5840e-04\n",
      "INFO:tensorflow:Assets written to: keras_model\\assets\n",
      "Epoch 9/100\n",
      "363/363 [==============================] - 2s 4ms/step - loss: 2.4766e-07 - accuracy: 0.0012 - val_loss: 2.4240e-07 - val_accuracy: 2.5840e-04\n",
      "INFO:tensorflow:Assets written to: keras_model\\assets\n",
      "Epoch 10/100\n",
      "363/363 [==============================] - 2s 4ms/step - loss: 2.4766e-07 - accuracy: 0.0012 - val_loss: 2.4240e-07 - val_accuracy: 2.5840e-04\n",
      "INFO:tensorflow:Assets written to: keras_model\\assets\n",
      "Epoch 11/100\n",
      "363/363 [==============================] - 2s 4ms/step - loss: 2.4766e-07 - accuracy: 0.0012 - val_loss: 2.4240e-07 - val_accuracy: 2.5840e-04\n",
      "INFO:tensorflow:Assets written to: keras_model\\assets\n"
     ]
    }
   ],
   "source": [
    "early_stopping_cb = keras.callbacks.EarlyStopping(patience=10,\n",
    "                                                  restore_best_weights=True)\n",
    "history = model.fit(X_train, y_train, epochs=100,\n",
    "                    validation_data=(X_valid, y_valid),\n",
    "                    callbacks=[checkpoint_cb, early_stopping_cb])"
   ]
  }
 ],
 "metadata": {
  "kernelspec": {
   "display_name": "Python 3",
   "language": "python",
   "name": "python3"
  },
  "language_info": {
   "codemirror_mode": {
    "name": "ipython",
    "version": 3
   },
   "file_extension": ".py",
   "mimetype": "text/x-python",
   "name": "python",
   "nbconvert_exporter": "python",
   "pygments_lexer": "ipython3",
   "version": "3.7.6"
  }
 },
 "nbformat": 4,
 "nbformat_minor": 4
}
