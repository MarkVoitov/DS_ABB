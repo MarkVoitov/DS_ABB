{
  "cells": [
    {
      "cell_type": "markdown",
      "metadata": {
        "id": "view-in-github",
        "colab_type": "text"
      },
      "source": [
        "<a href=\"https://colab.research.google.com/github/MarkVoitov/DS_ABB/blob/main/Section%205%3A%20Neural%20networks/pytorch_cnn/MNIST_with_CNN.ipynb\" target=\"_parent\"><img src=\"https://colab.research.google.com/assets/colab-badge.svg\" alt=\"Open In Colab\"/></a>"
      ]
    },
    {
      "cell_type": "markdown",
      "metadata": {
        "id": "abGBY7xFZDoL"
      },
      "source": [
        "# MNIST с CNN\n",
        "Применяем сверточную нейронную сеть (CNN) к MNIST.\n",
        "Перед выполнением вспомните, то такое\n",
        "* сверточные слои\n",
        "* фильтры / ядра\n",
        "* пулинг\n",
        "* шаг (stride) и padding\n",
        "\n",
        "Обратите внимание, что в этом упражнении нет необходимости выравнивать данные MNIST, поскольку CNN ожидает двумерные данные."
      ]
    },
    {
      "cell_type": "markdown",
      "metadata": {
        "id": "KAQjJ6m1ZDoM"
      },
      "source": [
        "## Импорт"
      ]
    },
    {
      "cell_type": "code",
      "execution_count": null,
      "metadata": {
        "id": "tuXwn7GGZDoN"
      },
      "outputs": [],
      "source": [
        "import torch\n",
        "import torch.nn as nn\n",
        "import torch.nn.functional as F\n",
        "from torch.utils.data import DataLoader\n",
        "from torchvision import datasets, transforms\n",
        "from torchvision.utils import make_grid\n",
        "\n",
        "import numpy as np\n",
        "import pandas as pd\n",
        "from sklearn.metrics import confusion_matrix\n",
        "import matplotlib.pyplot as plt\n",
        "%matplotlib inline"
      ]
    },
    {
      "cell_type": "markdown",
      "metadata": {
        "id": "XyIViK4iZDoO"
      },
      "source": [
        "## Загружаем данные MNIST \n",
        "PyTorch обеспечивает доступ к обучающим и тестовым наборам данных (включая данные MNIST) через <a href='https://pytorch.org/docs/stable/torchvision/index.html'> <tt> <strong> torchvision </strong> </tt> </a>. При первом вызове наборы данных будут загружены на ваш компьютер по указанному пути. С этого момента torchvision всегда будет искать локальную копию перед попыткой загрузки.\n",
        "\n",
        "Мы будем использовать преобразования (transform) и класс <a href='https://pytorch.org/docs/stable/data.html#torch.utils.data.DataLoader'> <tt> <strong> DataLoader </strong> </tt> </a>."
      ]
    },
    {
      "cell_type": "code",
      "execution_count": null,
      "metadata": {
        "id": "vkjdvA0dZDoO"
      },
      "outputs": [],
      "source": [
        "transform = transforms.ToTensor()\n",
        "\n",
        "train_data = datasets.MNIST(root='../Data', train=True, download=True, transform=transform)\n",
        "test_data = datasets.MNIST(root='../Data', train=False, download=True, transform=transform)"
      ]
    },
    {
      "cell_type": "code",
      "execution_count": null,
      "metadata": {
        "id": "DQOevvDDZDoP",
        "outputId": "bd6460df-c690-44e7-f6d6-a9d962bfbd0b"
      },
      "outputs": [
        {
          "data": {
            "text/plain": [
              "Dataset MNIST\n",
              "    Number of datapoints: 60000\n",
              "    Split: train\n",
              "    Root Location: ../Data\n",
              "    Transforms (if any): ToTensor()\n",
              "    Target Transforms (if any): None"
            ]
          },
          "execution_count": 32,
          "metadata": {},
          "output_type": "execute_result"
        }
      ],
      "source": [
        "train_data"
      ]
    },
    {
      "cell_type": "code",
      "execution_count": null,
      "metadata": {
        "id": "TU00469mZDoP",
        "outputId": "f08c52d0-4953-44eb-e02b-862bec05664b"
      },
      "outputs": [
        {
          "data": {
            "text/plain": [
              "Dataset MNIST\n",
              "    Number of datapoints: 10000\n",
              "    Split: test\n",
              "    Root Location: ../Data\n",
              "    Transforms (if any): ToTensor()\n",
              "    Target Transforms (if any): None"
            ]
          },
          "execution_count": 33,
          "metadata": {},
          "output_type": "execute_result"
        }
      ],
      "source": [
        "test_data"
      ]
    },
    {
      "cell_type": "markdown",
      "metadata": {
        "id": "MJPGzJDMZDoQ"
      },
      "source": [
        "### Создаем загрузчики данных\n",
        "При работе с изображениями нам нужны относительно небольшие батчи; размер батча равный 4 -- не редкость."
      ]
    },
    {
      "cell_type": "code",
      "execution_count": null,
      "metadata": {
        "id": "l5b7hFEPZDoQ"
      },
      "outputs": [],
      "source": [
        "train_loader = DataLoader(train_data, batch_size=10, shuffle=True)\n",
        "test_loader = DataLoader(test_data, batch_size=10, shuffle=False)\n"
      ]
    },
    {
      "cell_type": "code",
      "execution_count": null,
      "metadata": {
        "id": "ldVJ8QFHZDoQ"
      },
      "outputs": [],
      "source": []
    },
    {
      "cell_type": "markdown",
      "metadata": {
        "id": "Ny8isuojZDoQ"
      },
      "source": [
        "## Определить сверточную модель\n",
        "\n",
        "Мы будем использовать два сверточных слоя и два пулинга, прежде чем передавать данные через полносвязные скрытые слои на выход. Структура модели: CONV/RELU/POOL/CONV/RELU/POOL/FC/RELU/FC."
      ]
    },
    {
      "cell_type": "markdown",
      "metadata": {
        "id": "w6rCCumHZDoR"
      },
      "source": [
        "Далее мы проиллюстрируем работу сети по шагам"
      ]
    },
    {
      "cell_type": "code",
      "execution_count": null,
      "metadata": {
        "id": "AF6vU96OZDoR"
      },
      "outputs": [],
      "source": [
        "# определим слои\n",
        "conv1 = nn.Conv2d(1, 6, 3, 1)\n",
        "conv2 = nn.Conv2d(6, 16, 3, 1)"
      ]
    },
    {
      "cell_type": "code",
      "execution_count": null,
      "metadata": {
        "id": "nwhB0_DJZDoR"
      },
      "outputs": [],
      "source": [
        "# берем первую запись\n",
        "for i, (X_train, y_train) in enumerate(train_data):\n",
        "    break"
      ]
    },
    {
      "cell_type": "code",
      "execution_count": null,
      "metadata": {
        "id": "9HaqHUYUZDoR",
        "outputId": "df9bde2e-6e51-4912-8561-a9f1bb42e969"
      },
      "outputs": [
        {
          "name": "stdout",
          "output_type": "stream",
          "text": [
            "torch.Size([1, 1, 28, 28])\n"
          ]
        }
      ],
      "source": [
        "# создаем тензор\n",
        "# \n",
        "x = X_train.view(1,1,28,28)\n",
        "print(x.shape)"
      ]
    },
    {
      "cell_type": "code",
      "execution_count": null,
      "metadata": {
        "id": "rW9Ron97ZDoS",
        "outputId": "94caffd2-7db3-4685-b223-a49da610221f"
      },
      "outputs": [
        {
          "name": "stdout",
          "output_type": "stream",
          "text": [
            "torch.Size([1, 6, 26, 26])\n"
          ]
        }
      ],
      "source": [
        "# выполняем первую свертку: convolution/activation\n",
        "x = F.relu(conv1(x))\n",
        "print(x.shape)\n",
        "# batch_size x channels x H x W\n",
        "# размер батча х цветов х высота х ширина "
      ]
    },
    {
      "cell_type": "code",
      "execution_count": null,
      "metadata": {
        "id": "BOLWNaQhZDoS",
        "outputId": "28b3629c-6a52-475a-97cd-dfa15833ac53"
      },
      "outputs": [
        {
          "name": "stdout",
          "output_type": "stream",
          "text": [
            "torch.Size([1, 6, 13, 13])\n"
          ]
        }
      ],
      "source": [
        "# Выполняем первый пулинг\n",
        "x = F.max_pool2d(x, 2, 2)\n",
        "print(x.shape)"
      ]
    },
    {
      "cell_type": "code",
      "execution_count": null,
      "metadata": {
        "id": "uHSH5uWIZDoS",
        "outputId": "1cb28b04-aa4c-46b9-af7e-01304dce759d"
      },
      "outputs": [
        {
          "name": "stdout",
          "output_type": "stream",
          "text": [
            "torch.Size([1, 16, 11, 11])\n"
          ]
        }
      ],
      "source": [
        "# выполняем вторую свертку: convolution/activation\n",
        "x = F.relu(conv2(x))\n",
        "print(x.shape)"
      ]
    },
    {
      "cell_type": "code",
      "execution_count": null,
      "metadata": {
        "id": "MXjXz461ZDoT",
        "outputId": "fbbb6cfb-79bb-4cce-ef76-3e58e596aa43"
      },
      "outputs": [
        {
          "name": "stdout",
          "output_type": "stream",
          "text": [
            "torch.Size([1, 16, 5, 5])\n"
          ]
        }
      ],
      "source": [
        "# Выполняем второй пулинг\n",
        "x = F.max_pool2d(x, 2, 2)\n",
        "print(x.shape)"
      ]
    },
    {
      "cell_type": "code",
      "execution_count": null,
      "metadata": {
        "id": "HV_5ujedZDoT",
        "outputId": "f9d49795-c0d2-4886-c7cf-70d120a6f8ba"
      },
      "outputs": [
        {
          "name": "stdout",
          "output_type": "stream",
          "text": [
            "torch.Size([1, 400])\n"
          ]
        }
      ],
      "source": [
        "# \"расплющиваем\" данные \n",
        "x = x.view(-1, 5*5*16)\n",
        "print(x.shape)"
      ]
    },
    {
      "cell_type": "markdown",
      "metadata": {
        "id": "30_k_F70ZDoT"
      },
      "source": [
        "Вот как вывод сверточного слоя передается в полносвязанный слой.\n",
        "\n",
        "Далее опишем то же, но уже в классе модели"
      ]
    },
    {
      "cell_type": "code",
      "execution_count": null,
      "metadata": {
        "id": "t1wT_c70ZDoT"
      },
      "outputs": [],
      "source": [
        "class ConvolutionalNetwork(nn.Module):\n",
        "    def __init__(self):\n",
        "        super().__init__()\n",
        "        self.conv1 = nn.Conv2d(1, 6, 3, 1)\n",
        "        self.conv2 = nn.Conv2d(6, 16, 3, 1)\n",
        "        self.fc1 = nn.Linear(5*5*16, 120)\n",
        "        self.fc2 = nn.Linear(120, 84)\n",
        "        self.fc3 = nn.Linear(84,10)\n",
        "\n",
        "    def forward(self, X):\n",
        "        X = F.relu(self.conv1(X))\n",
        "        X = F.max_pool2d(X, 2, 2)\n",
        "        X = F.relu(self.conv2(X))\n",
        "        X = F.max_pool2d(X, 2, 2)\n",
        "        X = X.view(-1, 5*5*16)\n",
        "        X = F.relu(self.fc1(X))\n",
        "        X = F.relu(self.fc2(X))\n",
        "        X = self.fc3(X)\n",
        "        return F.log_softmax(X, dim=1)"
      ]
    },
    {
      "cell_type": "code",
      "execution_count": null,
      "metadata": {
        "id": "HDYNNS52ZDoU",
        "outputId": "8ce6bcc3-65e0-4e1f-c872-9b838db6cf99"
      },
      "outputs": [
        {
          "data": {
            "text/plain": [
              "ConvolutionalNetwork(\n",
              "  (conv1): Conv2d(1, 6, kernel_size=(3, 3), stride=(1, 1))\n",
              "  (conv2): Conv2d(6, 16, kernel_size=(3, 3), stride=(1, 1))\n",
              "  (fc1): Linear(in_features=400, out_features=120, bias=True)\n",
              "  (fc2): Linear(in_features=120, out_features=84, bias=True)\n",
              "  (fc3): Linear(in_features=84, out_features=10, bias=True)\n",
              ")"
            ]
          },
          "execution_count": 16,
          "metadata": {},
          "output_type": "execute_result"
        }
      ],
      "source": [
        "torch.manual_seed(42)\n",
        "model = ConvolutionalNetwork()\n",
        "model"
      ]
    },
    {
      "cell_type": "markdown",
      "metadata": {
        "id": "GjNLBUuaZDoU"
      },
      "source": [
        "С учетом bias-нейронов для каждого слоя общее количество обучаемых параметров составляет: <br>\n",
        "\n",
        "$\\quad\\begin{split}(1\\times6\\times3\\times3)+6+(6\\times16\\times3\\times3)+16+(400\\times120)+120+(120\\times84)+84+(84\\times10)+10 &=\\\\\n",
        "54+6+864+16+48000+120+10080+84+840+10 &= 60,074\\end{split}$<br>"
      ]
    },
    {
      "cell_type": "code",
      "execution_count": null,
      "metadata": {
        "id": "o9FcTYAvZDoU"
      },
      "outputs": [],
      "source": [
        "def count_parameters(model):\n",
        "    params = [p.numel() for p in model.parameters() if p.requires_grad]\n",
        "    for item in params:\n",
        "        print(f'{item:>6}')\n",
        "    print(f'______\\n{sum(params):>6}')"
      ]
    },
    {
      "cell_type": "code",
      "execution_count": null,
      "metadata": {
        "id": "RZjf0nzlZDoV",
        "outputId": "3f0c5c69-7bd7-4701-f17b-15e5e4a4902c"
      },
      "outputs": [
        {
          "name": "stdout",
          "output_type": "stream",
          "text": [
            "    54\n",
            "     6\n",
            "   864\n",
            "    16\n",
            " 48000\n",
            "   120\n",
            " 10080\n",
            "    84\n",
            "   840\n",
            "    10\n",
            "______\n",
            " 60074\n"
          ]
        }
      ],
      "source": [
        "count_parameters(model)"
      ]
    },
    {
      "cell_type": "markdown",
      "metadata": {
        "id": "uOellGoLZDoV"
      },
      "source": [
        "## Определяем функцию потерь и оптимизатор"
      ]
    },
    {
      "cell_type": "code",
      "execution_count": null,
      "metadata": {
        "id": "LY5giQoJZDoV"
      },
      "outputs": [],
      "source": [
        "criterion = nn.CrossEntropyLoss()\n",
        "optimizer = torch.optim.Adam(model.parameters(), lr=0.001)"
      ]
    },
    {
      "cell_type": "markdown",
      "metadata": {
        "id": "He5EDFdaZDoV"
      },
      "source": [
        "## Обучаем модель\n"
      ]
    },
    {
      "cell_type": "code",
      "execution_count": null,
      "metadata": {
        "id": "tx21IxOBZDoV",
        "outputId": "a08c6799-3a1f-47fb-9b8c-311c4a43979a"
      },
      "outputs": [
        {
          "name": "stdout",
          "output_type": "stream",
          "text": [
            "epoch:  0  batch:  600 [  6000/60000]  loss: 0.05620493  accuracy:  99.267%\n",
            "epoch:  0  batch: 1200 [ 12000/60000]  loss: 0.00234961  accuracy:  99.183%\n",
            "epoch:  0  batch: 1800 [ 18000/60000]  loss: 0.00001659  accuracy:  99.167%\n",
            "epoch:  0  batch: 2400 [ 24000/60000]  loss: 0.00022505  accuracy:  99.225%\n",
            "epoch:  0  batch: 3000 [ 30000/60000]  loss: 0.00000319  accuracy:  99.260%\n",
            "epoch:  0  batch: 3600 [ 36000/60000]  loss: 0.00003750  accuracy:  99.231%\n",
            "epoch:  0  batch: 4200 [ 42000/60000]  loss: 0.01552648  accuracy:  99.207%\n",
            "epoch:  0  batch: 4800 [ 48000/60000]  loss: 0.00003825  accuracy:  99.225%\n",
            "epoch:  0  batch: 5400 [ 54000/60000]  loss: 0.00145499  accuracy:  99.254%\n",
            "epoch:  0  batch: 6000 [ 60000/60000]  loss: 0.03866885  accuracy:  99.248%\n",
            "epoch:  1  batch:  600 [  6000/60000]  loss: 0.00000223  accuracy:  99.500%\n",
            "epoch:  1  batch: 1200 [ 12000/60000]  loss: 0.00016161  accuracy:  99.433%\n",
            "epoch:  1  batch: 1800 [ 18000/60000]  loss: 0.23034331  accuracy:  99.417%\n",
            "epoch:  1  batch: 2400 [ 24000/60000]  loss: 0.00003942  accuracy:  99.379%\n",
            "epoch:  1  batch: 3000 [ 30000/60000]  loss: 0.00018333  accuracy:  99.393%\n",
            "epoch:  1  batch: 3600 [ 36000/60000]  loss: 0.00000342  accuracy:  99.408%\n",
            "epoch:  1  batch: 4200 [ 42000/60000]  loss: 0.00001781  accuracy:  99.405%\n",
            "epoch:  1  batch: 4800 [ 48000/60000]  loss: 0.00948112  accuracy:  99.392%\n",
            "epoch:  1  batch: 5400 [ 54000/60000]  loss: 0.00001657  accuracy:  99.393%\n",
            "epoch:  1  batch: 6000 [ 60000/60000]  loss: 0.00379334  accuracy:  99.380%\n",
            "epoch:  2  batch:  600 [  6000/60000]  loss: 0.00097004  accuracy:  99.383%\n",
            "epoch:  2  batch: 1200 [ 12000/60000]  loss: 0.00001053  accuracy:  99.483%\n",
            "epoch:  2  batch: 1800 [ 18000/60000]  loss: 0.00003535  accuracy:  99.500%\n",
            "epoch:  2  batch: 2400 [ 24000/60000]  loss: 0.00200737  accuracy:  99.483%\n",
            "epoch:  2  batch: 3000 [ 30000/60000]  loss: 0.01593308  accuracy:  99.440%\n",
            "epoch:  2  batch: 3600 [ 36000/60000]  loss: 0.00035627  accuracy:  99.419%\n",
            "epoch:  2  batch: 4200 [ 42000/60000]  loss: 0.00003283  accuracy:  99.383%\n",
            "epoch:  2  batch: 4800 [ 48000/60000]  loss: 0.00001175  accuracy:  99.381%\n",
            "epoch:  2  batch: 5400 [ 54000/60000]  loss: 0.00000077  accuracy:  99.411%\n",
            "epoch:  2  batch: 6000 [ 60000/60000]  loss: 0.00402777  accuracy:  99.397%\n",
            "epoch:  3  batch:  600 [  6000/60000]  loss: 0.00433589  accuracy:  99.633%\n",
            "epoch:  3  batch: 1200 [ 12000/60000]  loss: 0.00002273  accuracy:  99.642%\n",
            "epoch:  3  batch: 1800 [ 18000/60000]  loss: 0.00001958  accuracy:  99.622%\n",
            "epoch:  3  batch: 2400 [ 24000/60000]  loss: 0.00109312  accuracy:  99.554%\n",
            "epoch:  3  batch: 3000 [ 30000/60000]  loss: 0.00395975  accuracy:  99.563%\n",
            "epoch:  3  batch: 3600 [ 36000/60000]  loss: 0.00040431  accuracy:  99.550%\n",
            "epoch:  3  batch: 4200 [ 42000/60000]  loss: 0.05221010  accuracy:  99.552%\n",
            "epoch:  3  batch: 4800 [ 48000/60000]  loss: 0.00000248  accuracy:  99.500%\n",
            "epoch:  3  batch: 5400 [ 54000/60000]  loss: 0.00057064  accuracy:  99.487%\n",
            "epoch:  3  batch: 6000 [ 60000/60000]  loss: 0.00091189  accuracy:  99.492%\n",
            "epoch:  4  batch:  600 [  6000/60000]  loss: 0.00000031  accuracy:  99.817%\n",
            "epoch:  4  batch: 1200 [ 12000/60000]  loss: 0.00000254  accuracy:  99.658%\n",
            "epoch:  4  batch: 1800 [ 18000/60000]  loss: 0.00015540  accuracy:  99.622%\n",
            "epoch:  4  batch: 2400 [ 24000/60000]  loss: 0.00377844  accuracy:  99.625%\n",
            "epoch:  4  batch: 3000 [ 30000/60000]  loss: 0.00029934  accuracy:  99.593%\n",
            "epoch:  4  batch: 3600 [ 36000/60000]  loss: 0.00056208  accuracy:  99.575%\n",
            "epoch:  4  batch: 4200 [ 42000/60000]  loss: 0.00000049  accuracy:  99.574%\n",
            "epoch:  4  batch: 4800 [ 48000/60000]  loss: 0.04207513  accuracy:  99.558%\n",
            "epoch:  4  batch: 5400 [ 54000/60000]  loss: 0.00623628  accuracy:  99.557%\n",
            "epoch:  4  batch: 6000 [ 60000/60000]  loss: 0.00004393  accuracy:  99.553%\n",
            "\n",
            "Duration: 382 seconds\n"
          ]
        }
      ],
      "source": [
        "import time\n",
        "start_time = time.time()\n",
        "\n",
        "epochs = 5\n",
        "train_losses = []\n",
        "test_losses = []\n",
        "train_correct = []\n",
        "test_correct = []\n",
        "\n",
        "# цикл по эпохам\n",
        "for i in range(epochs):\n",
        "    trn_corr = 0\n",
        "    tst_corr = 0\n",
        "    \n",
        "    # цикл по батчам\n",
        "    for b, (X_train, y_train) in enumerate(train_loader):\n",
        "        b+=1\n",
        "        \n",
        "        # применяем модель\n",
        "        y_pred = model(X_train)  \n",
        "#         print(y_train)\n",
        "        loss = criterion(y_pred, y_train)\n",
        " \n",
        "        # Считаем количество правильных прогнозов\n",
        "        predicted = torch.max(y_pred.data, 1)[1]\n",
        "        batch_corr = (predicted == y_train).sum()\n",
        "        trn_corr += batch_corr\n",
        "        \n",
        "        # Обновляем параметры\n",
        "        optimizer.zero_grad()\n",
        "        loss.backward()\n",
        "        optimizer.step()\n",
        "        \n",
        "        # Выводим промежуточные результаты\n",
        "        if b%600 == 0:\n",
        "            print(f'epoch: {i:2}  batch: {b:4} [{10*b:6}/60000]  loss: {loss.item():10.8f}  \\\n",
        "accuracy: {trn_corr.item()*100/(10*b):7.3f}%')\n",
        "        \n",
        "    train_losses.append(loss)\n",
        "    train_correct.append(trn_corr)\n",
        "        \n",
        "    # Запусткаем на тестовых батчах\n",
        "    with torch.no_grad():\n",
        "        for b, (X_test, y_test) in enumerate(test_loader):\n",
        "\n",
        "            # Применяем модель\n",
        "            y_val = model(X_test)\n",
        "\n",
        "            # Считаем количество правильных прогнозов (на тесте)\n",
        "            predicted = torch.max(y_val.data, 1)[1] \n",
        "            tst_corr += (predicted == y_test).sum()\n",
        "            \n",
        "    loss = criterion(y_val, y_test)\n",
        "    test_losses.append(loss)\n",
        "    test_correct.append(tst_corr)\n",
        "        \n",
        "print(f'\\nDuration: {time.time() - start_time:.0f} seconds') "
      ]
    },
    {
      "cell_type": "markdown",
      "metadata": {
        "id": "L-AkQajGZDoW"
      },
      "source": [
        "## Отрисовываем значения фугкции потерь"
      ]
    },
    {
      "cell_type": "code",
      "execution_count": null,
      "metadata": {
        "id": "9gaGaHlaZDoW",
        "outputId": "7eda064d-7baa-4fd4-a151-cdcb8d47ec5c"
      },
      "outputs": [
        {
          "data": {
            "image/png": "[encoded data removed]",
            "text/plain": [
              "<Figure size 432x288 with 1 Axes>"
            ]
          },
          "metadata": {
            "needs_background": "light"
          },
          "output_type": "display_data"
        }
      ],
      "source": [
        "plt.plot(train_losses, label='training loss')\n",
        "plt.plot(test_losses, label='validation loss')\n",
        "plt.title('Loss at the end of each epoch')\n",
        "plt.legend();"
      ]
    },
    {
      "cell_type": "code",
      "execution_count": null,
      "metadata": {
        "id": "g4njn-h3ZDoW",
        "outputId": "0f39e290-a88f-4722-8a82-4f21b5315852"
      },
      "outputs": [
        {
          "data": {
            "text/plain": [
              "[tensor(0.0024),\n",
              " tensor(0.0013),\n",
              " tensor(0.0011),\n",
              " tensor(5.9553e-05),\n",
              " tensor(0.0001)]"
            ]
          },
          "execution_count": 22,
          "metadata": {},
          "output_type": "execute_result"
        }
      ],
      "source": [
        "test_losses"
      ]
    },
    {
      "cell_type": "markdown",
      "metadata": {
        "id": "GdS4Dhk8ZDoX"
      },
      "source": []
    },
    {
      "cell_type": "code",
      "execution_count": null,
      "metadata": {
        "id": "JLcAX6BbZDoX",
        "outputId": "2f631306-76fa-44e4-e9b7-cfdee1093e70"
      },
      "outputs": [
        {
          "data": {
            "image/png": "[encoded data removed]",
            "text/plain": [
              "<Figure size 432x288 with 1 Axes>"
            ]
          },
          "metadata": {
            "needs_background": "light"
          },
          "output_type": "display_data"
        }
      ],
      "source": [
        "plt.plot([t/600 for t in train_correct], label='training accuracy')\n",
        "plt.plot([t/100 for t in test_correct], label='validation accuracy')\n",
        "plt.title('Accuracy at the end of each epoch')\n",
        "plt.legend();"
      ]
    },
    {
      "cell_type": "markdown",
      "metadata": {
        "id": "RHbDzOmcZDoX"
      },
      "source": [
        "## Оцениваем на тестовом наборе"
      ]
    },
    {
      "cell_type": "code",
      "execution_count": null,
      "metadata": {
        "id": "iMLxBz_DZDoX"
      },
      "outputs": [],
      "source": [
        "# работаем сразу со всем множетсвом (не по батчам)\n",
        "test_load_all = DataLoader(test_data, batch_size=10000, shuffle=False)"
      ]
    },
    {
      "cell_type": "code",
      "execution_count": null,
      "metadata": {
        "id": "9pRcfmEuZDoX",
        "outputId": "048ec725-c158-49bc-f8a3-1796c6a02b02"
      },
      "outputs": [
        {
          "name": "stdout",
          "output_type": "stream",
          "text": [
            "Test accuracy: 9852/10000 =  98.520%\n"
          ]
        }
      ],
      "source": [
        "with torch.no_grad():\n",
        "    correct = 0\n",
        "    for X_test, y_test in test_load_all:\n",
        "        y_val = model(X_test)  \n",
        "        predicted = torch.max(y_val,1)[1]\n",
        "        correct += (predicted == y_test).sum()\n",
        "print(f'Test accuracy: {correct.item()}/{len(test_data)} = {correct.item()*100/(len(test_data)):7.3f}%')"
      ]
    },
    {
      "cell_type": "markdown",
      "metadata": {
        "id": "GrjO9DxcZDoY"
      },
      "source": [
        "Recall that our [784,120,84,10] ANN returned an accuracy of 97.25% after 10 epochs. And it used 105,214 parameters to our current 60,074."
      ]
    },
    {
      "cell_type": "markdown",
      "metadata": {
        "id": "l1xfYg5VZDoY"
      },
      "source": [
        "## Показываем матрицу расхождений"
      ]
    },
    {
      "cell_type": "code",
      "execution_count": null,
      "metadata": {
        "id": "xSxD9brjZDoY",
        "outputId": "df286ae2-dbcd-4f93-eb47-7dae3e0a807e"
      },
      "outputs": [
        {
          "name": "stdout",
          "output_type": "stream",
          "text": [
            "[[   0    1    2    3    4    5    6    7    8    9]]\n",
            "\n",
            "[[ 980    0    6    0    0    3    6    3   11    3]\n",
            " [   0 1130    7    0    0    0    1    2    0    1]\n",
            " [   0    0 1007    1    0    0    0    4    0    0]\n",
            " [   0    1    1 1006    0    9    0    1    1    1]\n",
            " [   0    0    1    0  980    0    2    0    1   10]\n",
            " [   0    2    0    1    0  862    1    0    2    2]\n",
            " [   0    0    0    0    1    1  944    0    0    1]\n",
            " [   0    0    9    0    0    1    0 1010    1    4]\n",
            " [   0    2    1    2    0    6    4    2  957   11]\n",
            " [   0    0    0    0    1   10    0    6    1  976]]\n"
          ]
        }
      ],
      "source": [
        "\n",
        "np.set_printoptions(formatter=dict(int=lambda x: f'{x:4}'))\n",
        "print(np.arange(10).reshape(1,10))\n",
        "print()\n",
        "\n",
        "\n",
        "print(confusion_matrix(predicted.view(-1), y_test.view(-1)))"
      ]
    },
    {
      "cell_type": "markdown",
      "metadata": {
        "id": "9bcHP1GaZDoY"
      },
      "source": [
        "## Запускаем модель на одном изображении\n",
        "Мы также можем передать одно изображение на вход модели, чтобы получить метку класса.\n",
        "Выберите число от 0 до 9999, которое мы будем использовать для выбора номера примера из MNIST."
      ]
    },
    {
      "cell_type": "code",
      "execution_count": null,
      "metadata": {
        "id": "-4yS_xGdZDoY",
        "outputId": "a09e3ddf-1ec3-4d3f-98d6-8fd5c8eece14"
      },
      "outputs": [
        {
          "data": {
            "image/png": "[encoded data removed]",
            "text/plain": [
              "<Figure size 72x72 with 1 Axes>"
            ]
          },
          "metadata": {
            "needs_background": "light"
          },
          "output_type": "display_data"
        }
      ],
      "source": [
        "x = 42\n",
        "plt.figure(figsize=(1,1))\n",
        "plt.imshow(test_data[x][0].reshape((28,28)), cmap=\"gist_yarg\");"
      ]
    },
    {
      "cell_type": "code",
      "execution_count": null,
      "metadata": {
        "id": "aimSRS61ZDoZ",
        "outputId": "95fe220e-bad5-4334-9d37-6533ee9bf2f3"
      },
      "outputs": [
        {
          "name": "stdout",
          "output_type": "stream",
          "text": [
            "Ответ модели: 4\n"
          ]
        }
      ],
      "source": [
        "model.eval()\n",
        "with torch.no_grad():\n",
        "    new_pred = model(test_data[x][0].view(1,1,28,28)).argmax()\n",
        "print(\"Ответ модели:\",new_pred.item())"
      ]
    },
    {
      "cell_type": "code",
      "execution_count": null,
      "metadata": {
        "id": "EYGGsQ6aZDoZ"
      },
      "outputs": [],
      "source": []
    },
    {
      "cell_type": "code",
      "execution_count": null,
      "metadata": {
        "id": "PqDEUnNjZDoZ"
      },
      "outputs": [],
      "source": []
    }
  ],
  "metadata": {
    "kernelspec": {
      "display_name": "Python 3",
      "language": "python",
      "name": "python3"
    },
    "language_info": {
      "codemirror_mode": {
        "name": "ipython",
        "version": 3
      },
      "file_extension": ".py",
      "mimetype": "text/x-python",
      "name": "python",
      "nbconvert_exporter": "python",
      "pygments_lexer": "ipython3",
      "version": "3.7.6"
    },
    "colab": {
      "provenance": [],
      "include_colab_link": true
    }
  },
  "nbformat": 4,
  "nbformat_minor": 0
}