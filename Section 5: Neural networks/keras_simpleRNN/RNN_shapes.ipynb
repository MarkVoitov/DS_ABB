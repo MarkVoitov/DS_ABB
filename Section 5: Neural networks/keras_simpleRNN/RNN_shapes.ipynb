{
 "cells": [
  {
   "cell_type": "code",
   "execution_count": 1,
   "metadata": {},
   "outputs": [
    {
     "name": "stdout",
     "output_type": "stream",
     "text": [
      "2.4.0\n"
     ]
    }
   ],
   "source": [
    "import tensorflow as tf\n",
    "print(tf.__version__)"
   ]
  },
  {
   "cell_type": "code",
   "execution_count": 3,
   "metadata": {},
   "outputs": [],
   "source": [
    "from tensorflow.keras.layers import Input, SimpleRNN, Dense, Flatten\n",
    "from tensorflow.keras.models import Model\n",
    "from tensorflow.keras.optimizers import SGD, Adam\n",
    "\n",
    "import numpy as np\n",
    "import pandas as pd\n",
    "import matplotlib.pyplot as plt"
   ]
  },
  {
   "cell_type": "code",
   "execution_count": 4,
   "metadata": {},
   "outputs": [],
   "source": [
    "# ВАЖНЫЕ КОНСТАНТЫ и ОБОЗНАЧЕНИЯ\n",
    "\n",
    "# N = число семплов\n",
    "# T = длина последовательности\n",
    "# D = число входных признаков \n",
    "# M = число скрытых состояний (размерность h)\n",
    "# K = число выходов (например, в случае бинарной классификации K=1)"
   ]
  },
  {
   "cell_type": "code",
   "execution_count": 5,
   "metadata": {},
   "outputs": [
    {
     "data": {
      "text/plain": [
       "(1, 10, 3)"
      ]
     },
     "execution_count": 5,
     "metadata": {},
     "output_type": "execute_result"
    }
   ],
   "source": [
    "# создаём input\n",
    "N = 1\n",
    "T = 10\n",
    "D = 3\n",
    "K = 2\n",
    "X = np.random.randn(N, T, D)\n",
    "X.shape"
   ]
  },
  {
   "cell_type": "code",
   "execution_count": 6,
   "metadata": {},
   "outputs": [],
   "source": [
    "# создаем RNN\n",
    "M = 5 # число скрытых состояний \n",
    "i = Input(shape=(T, D))\n",
    "x = SimpleRNN(M)(i)\n",
    "x = Dense(K)(x)\n",
    "\n",
    "model = Model(i, x)"
   ]
  },
  {
   "cell_type": "code",
   "execution_count": 7,
   "metadata": {},
   "outputs": [
    {
     "name": "stdout",
     "output_type": "stream",
     "text": [
      "[[ 0.24175242 -1.1020015 ]]\n"
     ]
    }
   ],
   "source": [
    "Yhat = model.predict(X)\n",
    "print(Yhat)"
   ]
  },
  {
   "cell_type": "code",
   "execution_count": 8,
   "metadata": {},
   "outputs": [
    {
     "name": "stdout",
     "output_type": "stream",
     "text": [
      "Model: \"model\"\n",
      "_________________________________________________________________\n",
      "Layer (type)                 Output Shape              Param #   \n",
      "=================================================================\n",
      "input_1 (InputLayer)         [(None, 10, 3)]           0         \n",
      "_________________________________________________________________\n",
      "simple_rnn (SimpleRNN)       (None, 5)                 45        \n",
      "_________________________________________________________________\n",
      "dense (Dense)                (None, 2)                 12        \n",
      "=================================================================\n",
      "Total params: 57\n",
      "Trainable params: 57\n",
      "Non-trainable params: 0\n",
      "_________________________________________________________________\n"
     ]
    }
   ],
   "source": [
    "model.summary()"
   ]
  },
  {
   "cell_type": "code",
   "execution_count": 9,
   "metadata": {},
   "outputs": [
    {
     "data": {
      "text/plain": [
       "[array([[ 0.8478139 ,  0.3311842 , -0.6235581 ,  0.14295548, -0.54582655],\n",
       "        [-0.8432969 , -0.8140718 , -0.65767276,  0.35316283,  0.81391674],\n",
       "        [ 0.6947263 ,  0.18932718,  0.7362413 , -0.23596555,  0.2906894 ]],\n",
       "       dtype=float32),\n",
       " array([[-0.04703772,  0.09846234, -0.84185636,  0.12968098, -0.5123997 ],\n",
       "        [-0.08841279, -0.4307741 , -0.4540718 , -0.5673518 ,  0.5277757 ],\n",
       "        [ 0.26787475, -0.84643334,  0.04026648,  0.435515  , -0.14317456],\n",
       "        [-0.78214926, -0.03859585, -0.0806216 ,  0.52163553,  0.32886097],\n",
       "        [ 0.55358505,  0.29461762, -0.27744457,  0.4466741 ,  0.5746746 ]],\n",
       "       dtype=float32),\n",
       " array([0., 0., 0., 0., 0.], dtype=float32)]"
      ]
     },
     "execution_count": 9,
     "metadata": {},
     "output_type": "execute_result"
    }
   ],
   "source": [
    "model.layers[1].get_weights()"
   ]
  },
  {
   "cell_type": "code",
   "execution_count": 10,
   "metadata": {},
   "outputs": [
    {
     "name": "stdout",
     "output_type": "stream",
     "text": [
      "(3, 5) (5, 5) (5,)\n"
     ]
    }
   ],
   "source": [
    "# проверим формы тензоров\n",
    "a, b, c = model.layers[1].get_weights()\n",
    "print(a.shape, b.shape, c.shape)"
   ]
  },
  {
   "cell_type": "code",
   "execution_count": 11,
   "metadata": {},
   "outputs": [
    {
     "name": "stdout",
     "output_type": "stream",
     "text": [
      "(3, 5)\n",
      "(5, 5)\n"
     ]
    }
   ],
   "source": [
    "Wx, Wh, bh = model.layers[1].get_weights()\n",
    "Wo, bo = model.layers[2].get_weights()\n",
    "print(Wx.shape)\n",
    "print(Wh.shape)"
   ]
  },
  {
   "cell_type": "code",
   "execution_count": 12,
   "metadata": {},
   "outputs": [
    {
     "name": "stdout",
     "output_type": "stream",
     "text": [
      "[ 0.2417525  -1.10200149]\n"
     ]
    }
   ],
   "source": [
    "h_last = np.zeros(M) # начальное скрытое состояние\n",
    "x = X[0] # у нас единственный пример\n",
    "Yhats = [] # массив для выходных значений\n",
    "\n",
    "for t in range(T):\n",
    "    h = np.tanh(x[t].dot(Wx) + h_last.dot(Wh) + bh)\n",
    "    y = h.dot(Wo) + bo \n",
    "    Yhats.append(y)\n",
    "  \n",
    "    # important: assign h to h_last\n",
    "    h_last = h\n",
    "\n",
    "# print the final output\n",
    "print(Yhats[-1])"
   ]
  },
  {
   "cell_type": "code",
   "execution_count": null,
   "metadata": {},
   "outputs": [],
   "source": []
  }
 ],
 "metadata": {
  "kernelspec": {
   "display_name": "Python 3",
   "language": "python",
   "name": "python3"
  },
  "language_info": {
   "codemirror_mode": {
    "name": "ipython",
    "version": 3
   },
   "file_extension": ".py",
   "mimetype": "text/x-python",
   "name": "python",
   "nbconvert_exporter": "python",
   "pygments_lexer": "ipython3",
   "version": "3.7.6"
  }
 },
 "nbformat": 4,
 "nbformat_minor": 4
}
