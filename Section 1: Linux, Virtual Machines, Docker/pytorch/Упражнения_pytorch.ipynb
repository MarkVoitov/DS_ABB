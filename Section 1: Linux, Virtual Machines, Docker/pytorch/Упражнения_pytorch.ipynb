{
  "nbformat": 4,
  "nbformat_minor": 0,
  "metadata": {
    "colab": {
      "name": "Упражнения-pytorch.ipynb",
      "provenance": [],
      "include_colab_link": true
    },
    "kernelspec": {
      "display_name": "Python 3",
      "language": "python",
      "name": "python3"
    },
    "language_info": {
      "codemirror_mode": {
        "name": "ipython",
        "version": 3
      },
      "file_extension": ".py",
      "mimetype": "text/x-python",
      "name": "python",
      "nbconvert_exporter": "python",
      "pygments_lexer": "ipython3",
      "version": "3.6.3"
    }
  },
  "cells": [
    {
      "cell_type": "markdown",
      "metadata": {
        "id": "view-in-github",
        "colab_type": "text"
      },
      "source": [
        "<a href=\"https://colab.research.google.com/github/MarkVoitov/DS_ABB/blob/main/%D0%A3%D0%BF%D1%80%D0%B0%D0%B6%D0%BD%D0%B5%D0%BD%D0%B8%D1%8F_pytorch.ipynb\" target=\"_parent\"><img src=\"https://colab.research.google.com/assets/colab-badge.svg\" alt=\"Open In Colab\"/></a>"
      ]
    },
    {
      "cell_type": "markdown",
      "metadata": {
        "collapsed": true,
        "id": "an8YtnircBd8"
      },
      "source": [
        "# PyTorch"
      ]
    },
    {
      "cell_type": "markdown",
      "metadata": {
        "id": "r6QfJXaYcBd_"
      },
      "source": [
        "### 1. Выполнить стандартный импорт\n",
        " torch и NumPy"
      ]
    },
    {
      "cell_type": "code",
      "metadata": {
        "colab": {
          "base_uri": "https://localhost:8080/",
          "height": 35
        },
        "id": "_wFjfAhvcBeA",
        "outputId": "332e8fc7-8d63-4275-bfbd-316dd882e2c3"
      },
      "source": [
        "import numpy as np\n",
        "import torch\n",
        "torch.__version__"
      ],
      "execution_count": 1,
      "outputs": [
        {
          "output_type": "execute_result",
          "data": {
            "application/vnd.google.colaboratory.intrinsic+json": {
              "type": "string"
            },
            "text/plain": [
              "'1.8.1+cu101'"
            ]
          },
          "metadata": {
            "tags": []
          },
          "execution_count": 1
        }
      ]
    },
    {
      "cell_type": "code",
      "metadata": {
        "colab": {
          "base_uri": "https://localhost:8080/"
        },
        "id": "sA7oy7p2cBeF",
        "outputId": "69671842-05b6-4679-a8b1-1591d63479d3"
      },
      "source": [
        "arr = np.array([1,2,3,4,5])\n",
        "arr"
      ],
      "execution_count": 2,
      "outputs": [
        {
          "output_type": "execute_result",
          "data": {
            "text/plain": [
              "array([1, 2, 3, 4, 5])"
            ]
          },
          "metadata": {
            "tags": []
          },
          "execution_count": 2
        }
      ]
    },
    {
      "cell_type": "code",
      "metadata": {
        "colab": {
          "base_uri": "https://localhost:8080/"
        },
        "id": "V7a5tnUj5Xrw",
        "outputId": "937fbf3e-a46d-4b28-fbc9-eaf3a6447fb1"
      },
      "source": [
        "type(arr)"
      ],
      "execution_count": 3,
      "outputs": [
        {
          "output_type": "execute_result",
          "data": {
            "text/plain": [
              "numpy.ndarray"
            ]
          },
          "metadata": {
            "tags": []
          },
          "execution_count": 3
        }
      ]
    },
    {
      "cell_type": "code",
      "metadata": {
        "colab": {
          "base_uri": "https://localhost:8080/"
        },
        "id": "ZGoZA8Vi5Xwt",
        "outputId": "2ed918fe-c173-4f01-a710-34823299e3ed"
      },
      "source": [
        "arr.dtype"
      ],
      "execution_count": 4,
      "outputs": [
        {
          "output_type": "execute_result",
          "data": {
            "text/plain": [
              "dtype('int64')"
            ]
          },
          "metadata": {
            "tags": []
          },
          "execution_count": 4
        }
      ]
    },
    {
      "cell_type": "code",
      "metadata": {
        "colab": {
          "base_uri": "https://localhost:8080/"
        },
        "id": "EsHzK47a-2JG",
        "outputId": "b83e45b7-2831-40c4-94d7-f768b31fe8a0"
      },
      "source": [
        "x = torch.from_numpy(arr)\n",
        "x"
      ],
      "execution_count": 5,
      "outputs": [
        {
          "output_type": "execute_result",
          "data": {
            "text/plain": [
              "tensor([1, 2, 3, 4, 5])"
            ]
          },
          "metadata": {
            "tags": []
          },
          "execution_count": 5
        }
      ]
    },
    {
      "cell_type": "code",
      "metadata": {
        "id": "ZUPatnycEkXQ",
        "colab": {
          "base_uri": "https://localhost:8080/"
        },
        "outputId": "c87ca08c-520e-496a-e941-9d62f7d4a5a6"
      },
      "source": [
        "type(x)"
      ],
      "execution_count": 6,
      "outputs": [
        {
          "output_type": "execute_result",
          "data": {
            "text/plain": [
              "torch.Tensor"
            ]
          },
          "metadata": {
            "tags": []
          },
          "execution_count": 6
        }
      ]
    },
    {
      "cell_type": "code",
      "metadata": {
        "colab": {
          "base_uri": "https://localhost:8080/"
        },
        "id": "mB2nAHFJ5orU",
        "outputId": "87091741-3b78-463e-c7b8-03807da904f6"
      },
      "source": [
        "x.dtype"
      ],
      "execution_count": 7,
      "outputs": [
        {
          "output_type": "execute_result",
          "data": {
            "text/plain": [
              "torch.int64"
            ]
          },
          "metadata": {
            "tags": []
          },
          "execution_count": 7
        }
      ]
    },
    {
      "cell_type": "code",
      "metadata": {
        "colab": {
          "base_uri": "https://localhost:8080/"
        },
        "id": "69SLRgx91NjT",
        "outputId": "262bec3a-157b-4a2b-928a-19346f99ccf7"
      },
      "source": [
        "x.device"
      ],
      "execution_count": 8,
      "outputs": [
        {
          "output_type": "execute_result",
          "data": {
            "text/plain": [
              "device(type='cpu')"
            ]
          },
          "metadata": {
            "tags": []
          },
          "execution_count": 8
        }
      ]
    },
    {
      "cell_type": "code",
      "metadata": {
        "colab": {
          "base_uri": "https://localhost:8080/"
        },
        "id": "d1K5qj193NGt",
        "outputId": "ec79c63a-b73e-4b4c-dcde-37173a96bac4"
      },
      "source": [
        "a = torch.tensor([1,2,3], dtype=torch.float)\n",
        "b = torch.tensor([4,5,6], dtype=torch.float)\n",
        "print(a + b)"
      ],
      "execution_count": 9,
      "outputs": [
        {
          "output_type": "stream",
          "text": [
            "tensor([5., 7., 9.])\n"
          ],
          "name": "stdout"
        }
      ]
    },
    {
      "cell_type": "code",
      "metadata": {
        "colab": {
          "base_uri": "https://localhost:8080/"
        },
        "id": "HfN6mtqq3xGi",
        "outputId": "73e10fc1-ee25-4a77-bb3e-0662843b932b"
      },
      "source": [
        "torch.add(a, b)"
      ],
      "execution_count": 10,
      "outputs": [
        {
          "output_type": "execute_result",
          "data": {
            "text/plain": [
              "tensor([5., 7., 9.])"
            ]
          },
          "metadata": {
            "tags": []
          },
          "execution_count": 10
        }
      ]
    },
    {
      "cell_type": "code",
      "metadata": {
        "colab": {
          "base_uri": "https://localhost:8080/"
        },
        "id": "-TYN42gB4AZW",
        "outputId": "9d95bc03-18c6-4596-d7e2-089dcea264c7"
      },
      "source": [
        "torch.mul(a, b)"
      ],
      "execution_count": 11,
      "outputs": [
        {
          "output_type": "execute_result",
          "data": {
            "text/plain": [
              "tensor([ 4., 10., 18.])"
            ]
          },
          "metadata": {
            "tags": []
          },
          "execution_count": 11
        }
      ]
    },
    {
      "cell_type": "code",
      "metadata": {
        "colab": {
          "base_uri": "https://localhost:8080/"
        },
        "id": "ZYQ6smrV5dnb",
        "outputId": "32ec0b49-55c0-40f7-b175-f1d7ca14b5fa"
      },
      "source": [
        "a.numel()"
      ],
      "execution_count": 12,
      "outputs": [
        {
          "output_type": "execute_result",
          "data": {
            "text/plain": [
              "3"
            ]
          },
          "metadata": {
            "tags": []
          },
          "execution_count": 12
        }
      ]
    },
    {
      "cell_type": "markdown",
      "metadata": {
        "id": "jhkomfWIcBeK"
      },
      "source": [
        "### 2. Установите случайное начальное число для NumPy и PyTorch на «42»\n",
        "Это позволяет нам обмениваться одинаковыми «случайными» результатами."
      ]
    },
    {
      "cell_type": "code",
      "metadata": {
        "colab": {
          "base_uri": "https://localhost:8080/"
        },
        "id": "6OYUt7w0cBeL",
        "outputId": "90f3dab7-3a54-48ad-b929-18d1d707853e"
      },
      "source": [
        "np.random.seed(42)\n",
        "torch.manual_seed(42)"
      ],
      "execution_count": 13,
      "outputs": [
        {
          "output_type": "execute_result",
          "data": {
            "text/plain": [
              "<torch._C.Generator at 0x7fc8c980ea30>"
            ]
          },
          "metadata": {
            "tags": []
          },
          "execution_count": 13
        }
      ]
    },
    {
      "cell_type": "markdown",
      "metadata": {
        "id": "iLneMC6ucBeO"
      },
      "source": [
        "### 3. Создайте массив NumPy с именем «arr», который содержит 6 случайных целых чисел от 0 (включительно) до 5 (исключительно)"
      ]
    },
    {
      "cell_type": "code",
      "metadata": {
        "id": "ez_CIHRzcBeO",
        "colab": {
          "base_uri": "https://localhost:8080/"
        },
        "outputId": "fe8b8a02-a267-4655-998e-8000d7d740e2"
      },
      "source": [
        "arr = np.random.randint(0,5,6)\n",
        "print(arr)"
      ],
      "execution_count": 14,
      "outputs": [
        {
          "output_type": "stream",
          "text": [
            "[3 4 2 4 4 1]\n"
          ],
          "name": "stdout"
        }
      ]
    },
    {
      "cell_type": "code",
      "metadata": {
        "id": "FJxdLZdYcBeR",
        "outputId": "c324d649-a1ac-4d17-953e-f003e35998b9"
      },
      "source": [
        "# DON'T WRITE HERE"
      ],
      "execution_count": null,
      "outputs": [
        {
          "output_type": "stream",
          "text": [
            "[3 4 2 4 4 1]\n"
          ],
          "name": "stdout"
        }
      ]
    },
    {
      "cell_type": "markdown",
      "metadata": {
        "id": "jIggX9OdcBeT"
      },
      "source": [
        "### 4. Создайте тензор \"х\" из массива выше"
      ]
    },
    {
      "cell_type": "code",
      "metadata": {
        "id": "8VegbTPTcBeU",
        "colab": {
          "base_uri": "https://localhost:8080/"
        },
        "outputId": "6415c305-1767-483d-c318-9f1eb1c8de13"
      },
      "source": [
        "x = torch.from_numpy(arr)\n",
        "x = x.type(torch.int32)\n",
        "x"
      ],
      "execution_count": 15,
      "outputs": [
        {
          "output_type": "execute_result",
          "data": {
            "text/plain": [
              "tensor([3, 4, 2, 4, 4, 1], dtype=torch.int32)"
            ]
          },
          "metadata": {
            "tags": []
          },
          "execution_count": 15
        }
      ]
    },
    {
      "cell_type": "code",
      "metadata": {
        "id": "Ac0OehQbcBeV",
        "outputId": "61b27e11-2289-4488-fc93-4c2a127ea3be"
      },
      "source": [
        "# DON'T WRITE HERE"
      ],
      "execution_count": null,
      "outputs": [
        {
          "output_type": "stream",
          "text": [
            "tensor([3, 4, 2, 4, 4, 1], dtype=torch.int32)\n"
          ],
          "name": "stdout"
        }
      ]
    },
    {
      "cell_type": "markdown",
      "metadata": {
        "id": "DmpbAPwocBeX"
      },
      "source": [
        "### 5. Измените тип (dtype) для x с int32 на int64\n",
        "Note: 'int64' is also called 'LongTensor'"
      ]
    },
    {
      "cell_type": "code",
      "metadata": {
        "id": "Ibfq-Tf7cBeX",
        "colab": {
          "base_uri": "https://localhost:8080/"
        },
        "outputId": "90e2b2a4-48a1-40fc-ee65-02d5aaf9b231"
      },
      "source": [
        "x = x.type(torch.int64)\n",
        "print(x.type())"
      ],
      "execution_count": 16,
      "outputs": [
        {
          "output_type": "stream",
          "text": [
            "torch.LongTensor\n"
          ],
          "name": "stdout"
        }
      ]
    },
    {
      "cell_type": "code",
      "metadata": {
        "id": "KjNbZK8McBeY",
        "outputId": "ffe705ef-a053-459c-fa32-a49f0fff7a34"
      },
      "source": [
        "# DON'T WRITE HERE"
      ],
      "execution_count": null,
      "outputs": [
        {
          "output_type": "stream",
          "text": [
            "torch.LongTensor\n"
          ],
          "name": "stdout"
        }
      ]
    },
    {
      "cell_type": "markdown",
      "metadata": {
        "id": "OoR8yV74cBea"
      },
      "source": [
        "### 6. Преобразуйте х в тензор 3х2\n",
        "Есть несколько способов сделать это."
      ]
    },
    {
      "cell_type": "code",
      "metadata": {
        "id": "v7B8vJ-2cBea",
        "colab": {
          "base_uri": "https://localhost:8080/"
        },
        "outputId": "014db5f7-7eb7-425a-b5ce-ca4927aba87d"
      },
      "source": [
        "x = x.reshape(3,2)\n",
        "x"
      ],
      "execution_count": 17,
      "outputs": [
        {
          "output_type": "execute_result",
          "data": {
            "text/plain": [
              "tensor([[3, 4],\n",
              "        [2, 4],\n",
              "        [4, 1]])"
            ]
          },
          "metadata": {
            "tags": []
          },
          "execution_count": 17
        }
      ]
    },
    {
      "cell_type": "code",
      "metadata": {
        "id": "F_RsCaZocBeb",
        "outputId": "bf824772-3a33-43a7-c445-b0d58227ce4b"
      },
      "source": [
        "# DON'T WRITE HERE"
      ],
      "execution_count": null,
      "outputs": [
        {
          "output_type": "stream",
          "text": [
            "tensor([[3, 4],\n",
            "        [2, 4],\n",
            "        [4, 1]])\n"
          ],
          "name": "stdout"
        }
      ]
    },
    {
      "cell_type": "markdown",
      "metadata": {
        "id": "FqAThwa5cBec"
      },
      "source": [
        "### 7. Вернуть правый столбец тензора х"
      ]
    },
    {
      "cell_type": "code",
      "metadata": {
        "id": "pdu8YDkAcBec",
        "colab": {
          "base_uri": "https://localhost:8080/"
        },
        "outputId": "65436c8a-6a63-435f-d287-4a219db2b1aa"
      },
      "source": [
        "x[:,1:]"
      ],
      "execution_count": 18,
      "outputs": [
        {
          "output_type": "execute_result",
          "data": {
            "text/plain": [
              "tensor([[4],\n",
              "        [4],\n",
              "        [1]])"
            ]
          },
          "metadata": {
            "tags": []
          },
          "execution_count": 18
        }
      ]
    },
    {
      "cell_type": "code",
      "metadata": {
        "id": "u3cDb8YYcBed",
        "outputId": "10bed5ff-6cfb-462a-8a20-0e05a28132fc"
      },
      "source": [
        "# DON'T WRITE HERE"
      ],
      "execution_count": null,
      "outputs": [
        {
          "output_type": "stream",
          "text": [
            "tensor([[4],\n",
            "        [4],\n",
            "        [1]])\n"
          ],
          "name": "stdout"
        }
      ]
    },
    {
      "cell_type": "markdown",
      "metadata": {
        "id": "3lP7pgyDcBef"
      },
      "source": [
        "### 8. Не изменяя x, вернуть тензор квадратов значений x\n",
        "Есть несколько способов сделать это."
      ]
    },
    {
      "cell_type": "code",
      "metadata": {
        "id": "MjE8qfKGcBef",
        "colab": {
          "base_uri": "https://localhost:8080/"
        },
        "outputId": "189f1051-bcd3-40e6-882a-d1fc05b3b4b7"
      },
      "source": [
        "x ** 2"
      ],
      "execution_count": 19,
      "outputs": [
        {
          "output_type": "execute_result",
          "data": {
            "text/plain": [
              "tensor([[ 9, 16],\n",
              "        [ 4, 16],\n",
              "        [16,  1]])"
            ]
          },
          "metadata": {
            "tags": []
          },
          "execution_count": 19
        }
      ]
    },
    {
      "cell_type": "code",
      "metadata": {
        "colab": {
          "base_uri": "https://localhost:8080/"
        },
        "id": "QINKdp8KDZBA",
        "outputId": "82024f23-5a3b-4f51-f609-a172783d1ac6"
      },
      "source": [
        "x.pow(2)"
      ],
      "execution_count": 20,
      "outputs": [
        {
          "output_type": "execute_result",
          "data": {
            "text/plain": [
              "tensor([[ 9, 16],\n",
              "        [ 4, 16],\n",
              "        [16,  1]])"
            ]
          },
          "metadata": {
            "tags": []
          },
          "execution_count": 20
        }
      ]
    },
    {
      "cell_type": "code",
      "metadata": {
        "colab": {
          "base_uri": "https://localhost:8080/"
        },
        "id": "43R5Di_gDgOH",
        "outputId": "3a81aa07-cdec-451e-8aaa-5a55b6d7dcc3"
      },
      "source": [
        "torch.mul(x, x)"
      ],
      "execution_count": 21,
      "outputs": [
        {
          "output_type": "execute_result",
          "data": {
            "text/plain": [
              "tensor([[ 9, 16],\n",
              "        [ 4, 16],\n",
              "        [16,  1]])"
            ]
          },
          "metadata": {
            "tags": []
          },
          "execution_count": 21
        }
      ]
    },
    {
      "cell_type": "code",
      "metadata": {
        "colab": {
          "base_uri": "https://localhost:8080/"
        },
        "id": "yoWVUKEIDtJm",
        "outputId": "a499a821-3b8f-496e-89de-a6c2cc05e656"
      },
      "source": [
        "torch.square(x)"
      ],
      "execution_count": 22,
      "outputs": [
        {
          "output_type": "execute_result",
          "data": {
            "text/plain": [
              "tensor([[ 9, 16],\n",
              "        [ 4, 16],\n",
              "        [16,  1]])"
            ]
          },
          "metadata": {
            "tags": []
          },
          "execution_count": 22
        }
      ]
    },
    {
      "cell_type": "code",
      "metadata": {
        "id": "bUTRg_fAcBeg",
        "outputId": "6cebc9fb-550a-482e-a581-794c4516bcb2"
      },
      "source": [
        "# DON'T WRITE HERE"
      ],
      "execution_count": null,
      "outputs": [
        {
          "output_type": "stream",
          "text": [
            "tensor([[ 9, 16],\n",
            "        [ 4, 16],\n",
            "        [16,  1]])\n"
          ],
          "name": "stdout"
        }
      ]
    },
    {
      "cell_type": "markdown",
      "metadata": {
        "id": "16zjWja6cBeh"
      },
      "source": [
        "### Создайте тензор \"y\" с тем же числом элементов, что и x, который можно умножить на матрицу с x\n",
        "Используйте PyTorch напрямую (не NumPy), чтобы создать тензор случайных целых чисел от 0 (включительно) до 5 (исключительно).\n",
        "Подумайте о том, какую форму должна иметь матрица для умножения."
      ]
    },
    {
      "cell_type": "code",
      "metadata": {
        "id": "81g-i8kncBeh",
        "colab": {
          "base_uri": "https://localhost:8080/"
        },
        "outputId": "a7a4d397-b837-4d63-b21c-b47168bd76ec"
      },
      "source": [
        "y = torch.randint(0, 5, (2, 3))\n",
        "y"
      ],
      "execution_count": 23,
      "outputs": [
        {
          "output_type": "execute_result",
          "data": {
            "text/plain": [
              "tensor([[2, 2, 1],\n",
              "        [4, 1, 0]])"
            ]
          },
          "metadata": {
            "tags": []
          },
          "execution_count": 23
        }
      ]
    },
    {
      "cell_type": "code",
      "metadata": {
        "id": "zNlYVlrBcBei",
        "outputId": "765e28f2-0177-4439-855b-ed6b1fac3f80"
      },
      "source": [
        "# DON'T WRITE HERE"
      ],
      "execution_count": null,
      "outputs": [
        {
          "output_type": "stream",
          "text": [
            "tensor([[2, 2, 1],\n",
            "        [4, 1, 0]])\n"
          ],
          "name": "stdout"
        }
      ]
    },
    {
      "cell_type": "markdown",
      "metadata": {
        "id": "W1ztW1SmcBej"
      },
      "source": [
        "### 10. Найти матричное произведение х и у"
      ]
    },
    {
      "cell_type": "code",
      "metadata": {
        "colab": {
          "base_uri": "https://localhost:8080/"
        },
        "id": "eXzxFmhCDALo",
        "outputId": "f2bb0e7c-1ed5-473d-a400-1fadee3366cb"
      },
      "source": [
        "torch.matmul(x, y)"
      ],
      "execution_count": 24,
      "outputs": [
        {
          "output_type": "execute_result",
          "data": {
            "text/plain": [
              "tensor([[22, 10,  3],\n",
              "        [20,  8,  2],\n",
              "        [12,  9,  4]])"
            ]
          },
          "metadata": {
            "tags": []
          },
          "execution_count": 24
        }
      ]
    },
    {
      "cell_type": "code",
      "metadata": {
        "id": "xX2PifNGcBej",
        "colab": {
          "base_uri": "https://localhost:8080/"
        },
        "outputId": "4b2280d5-60f7-4be8-a620-6577ddb13f10"
      },
      "source": [
        "torch.mm(x, y)"
      ],
      "execution_count": 25,
      "outputs": [
        {
          "output_type": "execute_result",
          "data": {
            "text/plain": [
              "tensor([[22, 10,  3],\n",
              "        [20,  8,  2],\n",
              "        [12,  9,  4]])"
            ]
          },
          "metadata": {
            "tags": []
          },
          "execution_count": 25
        }
      ]
    },
    {
      "cell_type": "code",
      "metadata": {
        "colab": {
          "base_uri": "https://localhost:8080/"
        },
        "id": "52guJ5x2C1Xt",
        "outputId": "6bf3d5d2-e0b4-40ed-c882-a34e9eb01b99"
      },
      "source": [
        "x@y"
      ],
      "execution_count": 26,
      "outputs": [
        {
          "output_type": "execute_result",
          "data": {
            "text/plain": [
              "tensor([[22, 10,  3],\n",
              "        [20,  8,  2],\n",
              "        [12,  9,  4]])"
            ]
          },
          "metadata": {
            "tags": []
          },
          "execution_count": 26
        }
      ]
    },
    {
      "cell_type": "code",
      "metadata": {
        "id": "iwax_3v_cBek",
        "outputId": "5c86c672-11ad-435d-bc68-346b9e0f881c"
      },
      "source": [
        "# DON'T WRITE HERE"
      ],
      "execution_count": null,
      "outputs": [
        {
          "output_type": "stream",
          "text": [
            "tensor([[22, 10,  3],\n",
            "        [20,  8,  2],\n",
            "        [12,  9,  4]])\n"
          ],
          "name": "stdout"
        }
      ]
    }
  ]
}
