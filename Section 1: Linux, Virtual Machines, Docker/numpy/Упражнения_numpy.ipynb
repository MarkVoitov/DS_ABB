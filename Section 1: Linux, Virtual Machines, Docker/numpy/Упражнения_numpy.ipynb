{
  "nbformat": 4,
  "nbformat_minor": 0,
  "metadata": {
    "anaconda-cloud": {},
    "kernelspec": {
      "display_name": "Python 3",
      "language": "python",
      "name": "python3"
    },
    "language_info": {
      "codemirror_mode": {
        "name": "ipython",
        "version": 3
      },
      "file_extension": ".py",
      "mimetype": "text/x-python",
      "name": "python",
      "nbconvert_exporter": "python",
      "pygments_lexer": "ipython3",
      "version": "3.6.3"
    },
    "colab": {
      "name": " Упражнения-numpy.ipynb",
      "provenance": [],
      "include_colab_link": true
    }
  },
  "cells": [
    {
      "cell_type": "markdown",
      "metadata": {
        "id": "view-in-github",
        "colab_type": "text"
      },
      "source": [
        "<a href=\"https://colab.research.google.com/github/MarkVoitov/DS_ABB/blob/main/%D0%A3%D0%BF%D1%80%D0%B0%D0%B6%D0%BD%D0%B5%D0%BD%D0%B8%D1%8F_numpy.ipynb\" target=\"_parent\"><img src=\"https://colab.research.google.com/assets/colab-badge.svg\" alt=\"Open In Colab\"/></a>"
      ]
    },
    {
      "cell_type": "markdown",
      "metadata": {
        "id": "0sljEYHbbKk3"
      },
      "source": [
        "# Упражнения с NumPy \n",
        "\n",
        "Давайте проверим ваши знания. Мы начнем с нескольких простых задач, а затем вам будут заданы несколько более сложных вопросов."
      ]
    },
    {
      "cell_type": "markdown",
      "metadata": {
        "id": "gThsLmm-bKk6"
      },
      "source": [
        "#### 1. Импорт NumPy "
      ]
    },
    {
      "cell_type": "code",
      "metadata": {
        "id": "N1HV8ir6bKk7"
      },
      "source": [
        "import numpy as np"
      ],
      "execution_count": 1,
      "outputs": []
    },
    {
      "cell_type": "markdown",
      "metadata": {
        "id": "PxwSRbWgbKlB"
      },
      "source": [
        "#### 2. Создать массив из 10 нулей"
      ]
    },
    {
      "cell_type": "code",
      "metadata": {
        "id": "lK_muG5vbKlC",
        "colab": {
          "base_uri": "https://localhost:8080/"
        },
        "outputId": "7ee2f472-e890-44fe-b924-361eccfdaf22"
      },
      "source": [
        "np.array([0, 0, 0, 0, 0, 0, 0, 0, 0, 0])\n"
      ],
      "execution_count": 2,
      "outputs": [
        {
          "output_type": "execute_result",
          "data": {
            "text/plain": [
              "array([0, 0, 0, 0, 0, 0, 0, 0, 0, 0])"
            ]
          },
          "metadata": {
            "tags": []
          },
          "execution_count": 2
        }
      ]
    },
    {
      "cell_type": "code",
      "metadata": {
        "colab": {
          "base_uri": "https://localhost:8080/"
        },
        "id": "ajPNho6eIRcQ",
        "outputId": "dcd80c2b-f2d3-4429-cbef-69bffea5cab2"
      },
      "source": [
        "np.zeros(10)"
      ],
      "execution_count": 3,
      "outputs": [
        {
          "output_type": "execute_result",
          "data": {
            "text/plain": [
              "array([0., 0., 0., 0., 0., 0., 0., 0., 0., 0.])"
            ]
          },
          "metadata": {
            "tags": []
          },
          "execution_count": 3
        }
      ]
    },
    {
      "cell_type": "code",
      "metadata": {
        "id": "2SQ9KzGtbKlG"
      },
      "source": [
        "# DON'T WRITE HERE"
      ],
      "execution_count": 4,
      "outputs": []
    },
    {
      "cell_type": "markdown",
      "metadata": {
        "id": "x17REr7ibKlJ"
      },
      "source": [
        "#### 3. Создать массив из 10 единиц"
      ]
    },
    {
      "cell_type": "code",
      "metadata": {
        "id": "nGlw_fPTbKlJ",
        "colab": {
          "base_uri": "https://localhost:8080/"
        },
        "outputId": "c3dc2011-8c7d-42ce-a002-394d79435602"
      },
      "source": [
        "np.array([1, 1, 1, 1, 1, 1, 1, 1, 1, 1])"
      ],
      "execution_count": 5,
      "outputs": [
        {
          "output_type": "execute_result",
          "data": {
            "text/plain": [
              "array([1, 1, 1, 1, 1, 1, 1, 1, 1, 1])"
            ]
          },
          "metadata": {
            "tags": []
          },
          "execution_count": 5
        }
      ]
    },
    {
      "cell_type": "code",
      "metadata": {
        "colab": {
          "base_uri": "https://localhost:8080/"
        },
        "id": "pDsALkFnI2H8",
        "outputId": "7c2b869e-52b1-476e-84ac-fbb20799073c"
      },
      "source": [
        "np.ones((10,), dtype=int)"
      ],
      "execution_count": 6,
      "outputs": [
        {
          "output_type": "execute_result",
          "data": {
            "text/plain": [
              "array([1, 1, 1, 1, 1, 1, 1, 1, 1, 1])"
            ]
          },
          "metadata": {
            "tags": []
          },
          "execution_count": 6
        }
      ]
    },
    {
      "cell_type": "code",
      "metadata": {
        "id": "J6rcAJL_bKlM"
      },
      "source": [
        "# DON'T WRITE HERE"
      ],
      "execution_count": 7,
      "outputs": []
    },
    {
      "cell_type": "markdown",
      "metadata": {
        "id": "IUMwUk3gbKlO"
      },
      "source": [
        "#### 4. Создать массив из  10 пятерок"
      ]
    },
    {
      "cell_type": "code",
      "metadata": {
        "id": "LAsyd74WbKlO",
        "colab": {
          "base_uri": "https://localhost:8080/"
        },
        "outputId": "bcf773ce-5735-4ca8-a88f-c056ca7b19b2"
      },
      "source": [
        "np.ones(10) * 5"
      ],
      "execution_count": 8,
      "outputs": [
        {
          "output_type": "execute_result",
          "data": {
            "text/plain": [
              "array([5., 5., 5., 5., 5., 5., 5., 5., 5., 5.])"
            ]
          },
          "metadata": {
            "tags": []
          },
          "execution_count": 8
        }
      ]
    },
    {
      "cell_type": "code",
      "metadata": {
        "colab": {
          "base_uri": "https://localhost:8080/"
        },
        "id": "B9-0q25EKI-1",
        "outputId": "09731994-71d7-4bdf-bfde-485682b2f136"
      },
      "source": [
        "np.ones((10,), dtype=int) * 5"
      ],
      "execution_count": 9,
      "outputs": [
        {
          "output_type": "execute_result",
          "data": {
            "text/plain": [
              "array([5, 5, 5, 5, 5, 5, 5, 5, 5, 5])"
            ]
          },
          "metadata": {
            "tags": []
          },
          "execution_count": 9
        }
      ]
    },
    {
      "cell_type": "code",
      "metadata": {
        "id": "CoatfN5ybKlR"
      },
      "source": [
        "# DON'T WRITE HERE"
      ],
      "execution_count": 10,
      "outputs": []
    },
    {
      "cell_type": "markdown",
      "metadata": {
        "id": "7MextHA6bKlU"
      },
      "source": [
        "#### 5. Создать массив из целых чисел от 10 до 50"
      ]
    },
    {
      "cell_type": "code",
      "metadata": {
        "id": "togWVI0GbKlV",
        "colab": {
          "base_uri": "https://localhost:8080/"
        },
        "outputId": "a5101695-3451-48aa-c49f-f45ffd5518a7"
      },
      "source": [
        "np.arange(10, 51)\n"
      ],
      "execution_count": 11,
      "outputs": [
        {
          "output_type": "execute_result",
          "data": {
            "text/plain": [
              "array([10, 11, 12, 13, 14, 15, 16, 17, 18, 19, 20, 21, 22, 23, 24, 25, 26,\n",
              "       27, 28, 29, 30, 31, 32, 33, 34, 35, 36, 37, 38, 39, 40, 41, 42, 43,\n",
              "       44, 45, 46, 47, 48, 49, 50])"
            ]
          },
          "metadata": {
            "tags": []
          },
          "execution_count": 11
        }
      ]
    },
    {
      "cell_type": "code",
      "metadata": {
        "id": "DXIBe45ybKlY"
      },
      "source": [
        "# DON'T WRITE HERE"
      ],
      "execution_count": 12,
      "outputs": []
    },
    {
      "cell_type": "markdown",
      "metadata": {
        "id": "Ttm2ETY2bKla"
      },
      "source": [
        "#### 6. Создать массив из четных числел от 10 до 50"
      ]
    },
    {
      "cell_type": "code",
      "metadata": {
        "id": "Zkxyu5gGbKlb",
        "colab": {
          "base_uri": "https://localhost:8080/"
        },
        "outputId": "3c1db0bc-3a5e-407a-87bd-2f78fefdf3b6"
      },
      "source": [
        "np.arange(10, 51, 2)"
      ],
      "execution_count": 13,
      "outputs": [
        {
          "output_type": "execute_result",
          "data": {
            "text/plain": [
              "array([10, 12, 14, 16, 18, 20, 22, 24, 26, 28, 30, 32, 34, 36, 38, 40, 42,\n",
              "       44, 46, 48, 50])"
            ]
          },
          "metadata": {
            "tags": []
          },
          "execution_count": 13
        }
      ]
    },
    {
      "cell_type": "code",
      "metadata": {
        "id": "tIt37_lvbKlc"
      },
      "source": [
        "# DON'T WRITE HERE"
      ],
      "execution_count": 14,
      "outputs": []
    },
    {
      "cell_type": "markdown",
      "metadata": {
        "id": "2gjKl9W8bKlf"
      },
      "source": [
        "#### 7. Создать матрицу 3х3 с числами от 0 до 8"
      ]
    },
    {
      "cell_type": "code",
      "metadata": {
        "id": "elHcTO08bKlf",
        "colab": {
          "base_uri": "https://localhost:8080/"
        },
        "outputId": "018471d0-326b-4cce-868f-3cb7ff26351a"
      },
      "source": [
        "np.array([[0,1,2],[3,4,5],[6,7,8]])"
      ],
      "execution_count": 15,
      "outputs": [
        {
          "output_type": "execute_result",
          "data": {
            "text/plain": [
              "array([[0, 1, 2],\n",
              "       [3, 4, 5],\n",
              "       [6, 7, 8]])"
            ]
          },
          "metadata": {
            "tags": []
          },
          "execution_count": 15
        }
      ]
    },
    {
      "cell_type": "code",
      "metadata": {
        "id": "dEPk7E6KbKlh"
      },
      "source": [
        "# DON'T WRITE HERE"
      ],
      "execution_count": 16,
      "outputs": []
    },
    {
      "cell_type": "markdown",
      "metadata": {
        "id": "f7noLXZ0bKlj"
      },
      "source": [
        "#### 8. Создать единичную матрицу 3x3 "
      ]
    },
    {
      "cell_type": "code",
      "metadata": {
        "id": "SdMFfYkVbKlj",
        "colab": {
          "base_uri": "https://localhost:8080/"
        },
        "outputId": "c157c6aa-804b-42a0-f0e0-95308a0b88fc"
      },
      "source": [
        "np.eye(3)"
      ],
      "execution_count": 17,
      "outputs": [
        {
          "output_type": "execute_result",
          "data": {
            "text/plain": [
              "array([[1., 0., 0.],\n",
              "       [0., 1., 0.],\n",
              "       [0., 0., 1.]])"
            ]
          },
          "metadata": {
            "tags": []
          },
          "execution_count": 17
        }
      ]
    },
    {
      "cell_type": "code",
      "metadata": {
        "id": "Q7zM8Ps1bKll"
      },
      "source": [
        "# DON'T WRITE HERE"
      ],
      "execution_count": 18,
      "outputs": []
    },
    {
      "cell_type": "markdown",
      "metadata": {
        "id": "3Mn3191cbKlm"
      },
      "source": [
        "#### 9. Используйте NumPy для генерации случайного числа от 0 до 1\n",
        "<br>ПРИМЕЧАНИЕ. Значение вашего результата должно отличаться от приведенного ниже."
      ]
    },
    {
      "cell_type": "code",
      "metadata": {
        "id": "cMlzcys7bKln",
        "colab": {
          "base_uri": "https://localhost:8080/"
        },
        "outputId": "1e41b7b2-cb6f-43ef-c489-5effad8ec9ee"
      },
      "source": [
        "np.random.rand(1)"
      ],
      "execution_count": 19,
      "outputs": [
        {
          "output_type": "execute_result",
          "data": {
            "text/plain": [
              "array([0.73287615])"
            ]
          },
          "metadata": {
            "tags": []
          },
          "execution_count": 19
        }
      ]
    },
    {
      "cell_type": "code",
      "metadata": {
        "id": "lxabGl6MbKlo"
      },
      "source": [
        "# DON'T WRITE HERE"
      ],
      "execution_count": 20,
      "outputs": []
    },
    {
      "cell_type": "markdown",
      "metadata": {
        "id": "tzXGde0mbKlq"
      },
      "source": [
        "#### Используйте NumPy для генерации массива из 25 случайных чисел, взятых из стандартного нормального распределения\n",
        "<br>ПРИМЕЧАНИЕ. Значение вашего результата должно отличаться от приведенного ниже."
      ]
    },
    {
      "cell_type": "code",
      "metadata": {
        "id": "0IrV8OpRbKlq",
        "colab": {
          "base_uri": "https://localhost:8080/"
        },
        "outputId": "177da945-5464-4c2d-de4f-120ab84e70e5"
      },
      "source": [
        "np.array([np.random.random() for i in range(25)])"
      ],
      "execution_count": 21,
      "outputs": [
        {
          "output_type": "execute_result",
          "data": {
            "text/plain": [
              "array([0.21865642, 0.26737179, 0.3035213 , 0.59989593, 0.85046033,\n",
              "       0.81707978, 0.17732435, 0.54691488, 0.73831842, 0.72316928,\n",
              "       0.62235707, 0.80620273, 0.75913976, 0.02150361, 0.51415862,\n",
              "       0.78681289, 0.5164247 , 0.39672145, 0.45390126, 0.24501553,\n",
              "       0.69735599, 0.33352849, 0.6160802 , 0.20847668, 0.93306724])"
            ]
          },
          "metadata": {
            "tags": []
          },
          "execution_count": 21
        }
      ]
    },
    {
      "cell_type": "code",
      "metadata": {
        "colab": {
          "base_uri": "https://localhost:8080/"
        },
        "id": "7cuqOtlkO7xj",
        "outputId": "fe86a2db-323d-4f3f-c542-b0beda94df89"
      },
      "source": [
        "np.random.rand(25)"
      ],
      "execution_count": 22,
      "outputs": [
        {
          "output_type": "execute_result",
          "data": {
            "text/plain": [
              "array([0.49798798, 0.68441903, 0.82752063, 0.61614704, 0.56894138,\n",
              "       0.70540378, 0.48587319, 0.82222851, 0.03461779, 0.71563154,\n",
              "       0.8612537 , 0.15864555, 0.87662589, 0.4362942 , 0.00508438,\n",
              "       0.10287384, 0.84852952, 0.44726983, 0.80443477, 0.31856492,\n",
              "       0.49718644, 0.30442811, 0.40732851, 0.8559849 , 0.38439721])"
            ]
          },
          "metadata": {
            "tags": []
          },
          "execution_count": 22
        }
      ]
    },
    {
      "cell_type": "code",
      "metadata": {
        "id": "gXHlVZdubKls"
      },
      "source": [
        "# DON'T WRITE HERE"
      ],
      "execution_count": 23,
      "outputs": []
    },
    {
      "cell_type": "markdown",
      "metadata": {
        "id": "OWhARTCUbKlt"
      },
      "source": [
        "#### 11. Создайте следующую матрицу:"
      ]
    },
    {
      "cell_type": "code",
      "metadata": {
        "colab": {
          "base_uri": "https://localhost:8080/"
        },
        "id": "PVbMMJViKUKc",
        "outputId": "f46b5039-eb3c-4b5b-9071-b98b496246dd"
      },
      "source": [
        "np.arange(1,101).reshape(10,10) / 100"
      ],
      "execution_count": 24,
      "outputs": [
        {
          "output_type": "execute_result",
          "data": {
            "text/plain": [
              "array([[0.01, 0.02, 0.03, 0.04, 0.05, 0.06, 0.07, 0.08, 0.09, 0.1 ],\n",
              "       [0.11, 0.12, 0.13, 0.14, 0.15, 0.16, 0.17, 0.18, 0.19, 0.2 ],\n",
              "       [0.21, 0.22, 0.23, 0.24, 0.25, 0.26, 0.27, 0.28, 0.29, 0.3 ],\n",
              "       [0.31, 0.32, 0.33, 0.34, 0.35, 0.36, 0.37, 0.38, 0.39, 0.4 ],\n",
              "       [0.41, 0.42, 0.43, 0.44, 0.45, 0.46, 0.47, 0.48, 0.49, 0.5 ],\n",
              "       [0.51, 0.52, 0.53, 0.54, 0.55, 0.56, 0.57, 0.58, 0.59, 0.6 ],\n",
              "       [0.61, 0.62, 0.63, 0.64, 0.65, 0.66, 0.67, 0.68, 0.69, 0.7 ],\n",
              "       [0.71, 0.72, 0.73, 0.74, 0.75, 0.76, 0.77, 0.78, 0.79, 0.8 ],\n",
              "       [0.81, 0.82, 0.83, 0.84, 0.85, 0.86, 0.87, 0.88, 0.89, 0.9 ],\n",
              "       [0.91, 0.92, 0.93, 0.94, 0.95, 0.96, 0.97, 0.98, 0.99, 1.  ]])"
            ]
          },
          "metadata": {
            "tags": []
          },
          "execution_count": 24
        }
      ]
    },
    {
      "cell_type": "code",
      "metadata": {
        "id": "tOGUTjDZbKlv"
      },
      "source": [
        "# DON'T WRITE HERE"
      ],
      "execution_count": 25,
      "outputs": []
    },
    {
      "cell_type": "markdown",
      "metadata": {
        "id": "qo0Z3bBabKlw"
      },
      "source": [
        "#### 12. Создайте массив из 20 линейно расположенных точек между 0 и 1:"
      ]
    },
    {
      "cell_type": "code",
      "metadata": {
        "collapsed": true,
        "id": "cp1wafFwbKlw",
        "colab": {
          "base_uri": "https://localhost:8080/"
        },
        "outputId": "3016b8bd-34a7-4976-b01d-bca1eb7aee43"
      },
      "source": [
        "np.linspace(0,1,20)"
      ],
      "execution_count": 26,
      "outputs": [
        {
          "output_type": "execute_result",
          "data": {
            "text/plain": [
              "array([0.        , 0.05263158, 0.10526316, 0.15789474, 0.21052632,\n",
              "       0.26315789, 0.31578947, 0.36842105, 0.42105263, 0.47368421,\n",
              "       0.52631579, 0.57894737, 0.63157895, 0.68421053, 0.73684211,\n",
              "       0.78947368, 0.84210526, 0.89473684, 0.94736842, 1.        ])"
            ]
          },
          "metadata": {
            "tags": []
          },
          "execution_count": 26
        }
      ]
    },
    {
      "cell_type": "code",
      "metadata": {
        "id": "DntsZ8EybKly"
      },
      "source": [
        "# DON'T WRITE HERE"
      ],
      "execution_count": 27,
      "outputs": []
    },
    {
      "cell_type": "markdown",
      "metadata": {
        "id": "_ZKWa_eWbKlz"
      },
      "source": [
        "## Numpy индексация и выборка\n",
        "\n",
        "Дана стартовая матрица (обязательно запустите ячейку ниже!). Вам необходимо повторить выходные результаты матрицы:"
      ]
    },
    {
      "cell_type": "code",
      "metadata": {
        "id": "Z9Daj88IbKl0",
        "colab": {
          "base_uri": "https://localhost:8080/"
        },
        "outputId": "87cc71ec-7c05-4ba1-daf6-bec12e5e43f6"
      },
      "source": [
        "# это наша стартовая матрица\n",
        "mat = np.arange(1,26).reshape(5,5)\n",
        "mat"
      ],
      "execution_count": 28,
      "outputs": [
        {
          "output_type": "execute_result",
          "data": {
            "text/plain": [
              "array([[ 1,  2,  3,  4,  5],\n",
              "       [ 6,  7,  8,  9, 10],\n",
              "       [11, 12, 13, 14, 15],\n",
              "       [16, 17, 18, 19, 20],\n",
              "       [21, 22, 23, 24, 25]])"
            ]
          },
          "metadata": {
            "tags": []
          },
          "execution_count": 28
        }
      ]
    },
    {
      "cell_type": "markdown",
      "metadata": {
        "id": "oDv_1pqvbKl1"
      },
      "source": [
        "#### 13. Напишите код, который воспроизводит вывод, показанный ниже.\n"
      ]
    },
    {
      "cell_type": "code",
      "metadata": {
        "id": "GJCcPW4sbKl1",
        "colab": {
          "base_uri": "https://localhost:8080/"
        },
        "outputId": "96bab931-22a1-4f58-831f-e07a70e02db3"
      },
      "source": [
        "mat[2:,1:]\n"
      ],
      "execution_count": 29,
      "outputs": [
        {
          "output_type": "execute_result",
          "data": {
            "text/plain": [
              "array([[12, 13, 14, 15],\n",
              "       [17, 18, 19, 20],\n",
              "       [22, 23, 24, 25]])"
            ]
          },
          "metadata": {
            "tags": []
          },
          "execution_count": 29
        }
      ]
    },
    {
      "cell_type": "code",
      "metadata": {
        "id": "X0HbiqhVbKl2"
      },
      "source": [
        "# DON'T WRITE HERE"
      ],
      "execution_count": 30,
      "outputs": []
    },
    {
      "cell_type": "markdown",
      "metadata": {
        "id": "CTsjbfwKbKl4"
      },
      "source": [
        "#### 14. Напишите код, который воспроизводит вывод, показанный ниже."
      ]
    },
    {
      "cell_type": "code",
      "metadata": {
        "id": "NfVZBItHbKl4",
        "colab": {
          "base_uri": "https://localhost:8080/"
        },
        "outputId": "e621bc98-6553-46c7-b804-99aa9f5a19a4"
      },
      "source": [
        "mat[3, 4]"
      ],
      "execution_count": 31,
      "outputs": [
        {
          "output_type": "execute_result",
          "data": {
            "text/plain": [
              "20"
            ]
          },
          "metadata": {
            "tags": []
          },
          "execution_count": 31
        }
      ]
    },
    {
      "cell_type": "code",
      "metadata": {
        "id": "GEpwiT-HbKl5"
      },
      "source": [
        "# DON'T WRITE HERE"
      ],
      "execution_count": 32,
      "outputs": []
    },
    {
      "cell_type": "markdown",
      "metadata": {
        "id": "5nflTcPgbKl6"
      },
      "source": [
        "#### 15. Напишите код, который воспроизводит вывод, показанный ниже."
      ]
    },
    {
      "cell_type": "code",
      "metadata": {
        "id": "goKlhOhHbKl6",
        "colab": {
          "base_uri": "https://localhost:8080/"
        },
        "outputId": "1b887e2f-d118-4da3-820b-32c01e5ebe86"
      },
      "source": [
        "mat[0:3,1].reshape(3,1)"
      ],
      "execution_count": 33,
      "outputs": [
        {
          "output_type": "execute_result",
          "data": {
            "text/plain": [
              "array([[ 2],\n",
              "       [ 7],\n",
              "       [12]])"
            ]
          },
          "metadata": {
            "tags": []
          },
          "execution_count": 33
        }
      ]
    },
    {
      "cell_type": "code",
      "metadata": {
        "id": "uoifZxsHbKl8"
      },
      "source": [
        "# DON'T WRITE HERE"
      ],
      "execution_count": 34,
      "outputs": []
    },
    {
      "cell_type": "markdown",
      "metadata": {
        "id": "bbMOlACCbKl9"
      },
      "source": [
        "#### 16. Напишите код, который воспроизводит вывод, показанный ниже."
      ]
    },
    {
      "cell_type": "code",
      "metadata": {
        "id": "42lk7PR3bKl9",
        "colab": {
          "base_uri": "https://localhost:8080/"
        },
        "outputId": "24cc014f-5945-43a5-a49d-191a792ead3c"
      },
      "source": [
        "mat[4]"
      ],
      "execution_count": 35,
      "outputs": [
        {
          "output_type": "execute_result",
          "data": {
            "text/plain": [
              "array([21, 22, 23, 24, 25])"
            ]
          },
          "metadata": {
            "tags": []
          },
          "execution_count": 35
        }
      ]
    },
    {
      "cell_type": "code",
      "metadata": {
        "id": "Ta_uSBvRbKl-"
      },
      "source": [
        "# DON'T WRITE HERE"
      ],
      "execution_count": 36,
      "outputs": []
    },
    {
      "cell_type": "markdown",
      "metadata": {
        "id": "kq-gacrWbKl_"
      },
      "source": [
        "#### 17. Напишите код, который воспроизводит вывод, показанный ниже."
      ]
    },
    {
      "cell_type": "code",
      "metadata": {
        "id": "q7m7IcQFbKl_",
        "colab": {
          "base_uri": "https://localhost:8080/"
        },
        "outputId": "5857ef0f-820b-4f75-87f6-84cb11dcdbf1"
      },
      "source": [
        "mat[3:]"
      ],
      "execution_count": 37,
      "outputs": [
        {
          "output_type": "execute_result",
          "data": {
            "text/plain": [
              "array([[16, 17, 18, 19, 20],\n",
              "       [21, 22, 23, 24, 25]])"
            ]
          },
          "metadata": {
            "tags": []
          },
          "execution_count": 37
        }
      ]
    },
    {
      "cell_type": "code",
      "metadata": {
        "id": "RGSjh7jKbKmA"
      },
      "source": [
        "# DON'T WRITE HERE"
      ],
      "execution_count": 38,
      "outputs": []
    },
    {
      "cell_type": "markdown",
      "metadata": {
        "id": "nHcnezSHbKmC"
      },
      "source": [
        "## Операции NumPy "
      ]
    },
    {
      "cell_type": "markdown",
      "metadata": {
        "id": "fCYMN1nvbKmC"
      },
      "source": [
        "#### 18. Получить сумму всех значений в матрице mat"
      ]
    },
    {
      "cell_type": "code",
      "metadata": {
        "collapsed": true,
        "id": "F2AekbznbKmC",
        "colab": {
          "base_uri": "https://localhost:8080/"
        },
        "outputId": "a592cb6b-5f94-4eaf-ae45-558e009b4fe4"
      },
      "source": [
        "mat.sum()"
      ],
      "execution_count": 39,
      "outputs": [
        {
          "output_type": "execute_result",
          "data": {
            "text/plain": [
              "325"
            ]
          },
          "metadata": {
            "tags": []
          },
          "execution_count": 39
        }
      ]
    },
    {
      "cell_type": "code",
      "metadata": {
        "id": "zT7hPgqrbKmD"
      },
      "source": [
        "# DON'T WRITE HERE"
      ],
      "execution_count": 40,
      "outputs": []
    },
    {
      "cell_type": "markdown",
      "metadata": {
        "id": "TAFjm1nnbKmE"
      },
      "source": [
        "#### 19. Получить стандартное отклонение в матрице mat"
      ]
    },
    {
      "cell_type": "code",
      "metadata": {
        "collapsed": true,
        "id": "zJmnrNSHbKmE",
        "colab": {
          "base_uri": "https://localhost:8080/"
        },
        "outputId": "c3d351c4-9091-488d-974a-8aa850d7f68a"
      },
      "source": [
        "mat.std()"
      ],
      "execution_count": 41,
      "outputs": [
        {
          "output_type": "execute_result",
          "data": {
            "text/plain": [
              "7.211102550927978"
            ]
          },
          "metadata": {
            "tags": []
          },
          "execution_count": 41
        }
      ]
    },
    {
      "cell_type": "code",
      "metadata": {
        "id": "YSbdjM--bKmG"
      },
      "source": [
        "# DON'T WRITE HERE"
      ],
      "execution_count": 42,
      "outputs": []
    },
    {
      "cell_type": "markdown",
      "metadata": {
        "id": "NlPr6HM7bKmH"
      },
      "source": [
        "#### 20. Получить сумму значений в колонках в матрице mat"
      ]
    },
    {
      "cell_type": "code",
      "metadata": {
        "collapsed": true,
        "id": "nnGpmxNFbKmH",
        "colab": {
          "base_uri": "https://localhost:8080/"
        },
        "outputId": "1f531b7d-d5a9-462f-c907-b0357ec321c8"
      },
      "source": [
        "mat.sum(axis=0)"
      ],
      "execution_count": 43,
      "outputs": [
        {
          "output_type": "execute_result",
          "data": {
            "text/plain": [
              "array([55, 60, 65, 70, 75])"
            ]
          },
          "metadata": {
            "tags": []
          },
          "execution_count": 43
        }
      ]
    },
    {
      "cell_type": "code",
      "metadata": {
        "id": "qCf5ND2JbKmH"
      },
      "source": [
        "# DON'T WRITE HERE"
      ],
      "execution_count": 44,
      "outputs": []
    },
    {
      "cell_type": "markdown",
      "metadata": {
        "id": "3GmHG5QubKmI"
      },
      "source": [
        "## Бонусный вопрос\n",
        "\n",
        "Есть ли способ гарантировать, что мы всегда получим одинаковые случайные числа?"
      ]
    },
    {
      "cell_type": "code",
      "metadata": {
        "id": "y_z2Cph2bKmI",
        "colab": {
          "base_uri": "https://localhost:8080/"
        },
        "outputId": "68f3f3b6-2830-45cb-ba24-76be1f495f43"
      },
      "source": [
        "np.random.seed(0)\n",
        "np.random.rand(3)"
      ],
      "execution_count": 45,
      "outputs": [
        {
          "output_type": "execute_result",
          "data": {
            "text/plain": [
              "array([0.5488135 , 0.71518937, 0.60276338])"
            ]
          },
          "metadata": {
            "tags": []
          },
          "execution_count": 45
        }
      ]
    },
    {
      "cell_type": "markdown",
      "metadata": {
        "collapsed": true,
        "id": "G0UduIUebKmJ"
      },
      "source": [
        "# Great Job!"
      ]
    }
  ]
}
